{
 "cells": [
  {
   "cell_type": "code",
   "execution_count": 1,
   "id": "f06d0470",
   "metadata": {
    "execution": {
     "iopub.execute_input": "2024-10-02T11:16:14.852539Z",
     "iopub.status.busy": "2024-10-02T11:16:14.851984Z",
     "iopub.status.idle": "2024-10-02T11:16:18.870505Z",
     "shell.execute_reply": "2024-10-02T11:16:18.869321Z"
    },
    "papermill": {
     "duration": 4.057058,
     "end_time": "2024-10-02T11:16:18.873566",
     "exception": false,
     "start_time": "2024-10-02T11:16:14.816508",
     "status": "completed"
    },
    "tags": []
   },
   "outputs": [],
   "source": [
    "import pandas as pd\n",
    "import numpy as np\n",
    "import matplotlib.pyplot as plt\n",
    "import seaborn as sns\n",
    "\n",
    "from sklearn.linear_model import LogisticRegression, Perceptron, SGDClassifier\n",
    "from sklearn.tree import DecisionTreeClassifier\n",
    "from sklearn.ensemble import RandomForestClassifier\n",
    "from sklearn.svm import SVC, LinearSVC\n",
    "from sklearn.neighbors import KNeighborsClassifier\n",
    "from sklearn.naive_bayes import GaussianNB\n",
    "from sklearn.metrics import classification_report, accuracy_score,\\\n",
    "                            recall_score, precision_score, f1_score\n",
    "from sklearn.model_selection import train_test_split, GridSearchCV\n",
    "from sklearn.preprocessing import LabelEncoder, OrdinalEncoder, MinMaxScaler\n",
    "\n",
    "from category_encoders import OneHotEncoder\n",
    "from xgboost import XGBClassifier\n",
    "\n",
    "import warnings\n",
    "warnings.filterwarnings('ignore')\n",
    "\n",
    "np.random.seed(42)"
   ]
  },
  {
   "cell_type": "markdown",
   "id": "2aee7f06",
   "metadata": {
    "papermill": {
     "duration": 0.030691,
     "end_time": "2024-10-02T11:16:18.936875",
     "exception": false,
     "start_time": "2024-10-02T11:16:18.906184",
     "status": "completed"
    },
    "tags": []
   },
   "source": [
    "# 1. Meet the Data"
   ]
  },
  {
   "cell_type": "markdown",
   "id": "2f9e4600",
   "metadata": {
    "papermill": {
     "duration": 0.029901,
     "end_time": "2024-10-02T11:16:18.997233",
     "exception": false,
     "start_time": "2024-10-02T11:16:18.967332",
     "status": "completed"
    },
    "tags": []
   },
   "source": [
    "**Random unique Identifiers:**\n",
    "`PassengerId` | `Ticket` : They have no impact on the outcome variable. So, they will be excluded.\n",
    "--------------------------------------------\n",
    "**Nominal Qualitiative Datatypes:**\n",
    "1. `Name` : could be used in feature engineering to drive SES from titles such as doctor or master to see if things such as master makes a difference or not.\n",
    "\n",
    "2. `Sex` : will be converted to dummy variables for maths calculations.\n",
    "\n",
    "3. `Embarked` : will be converted to dummy variables. Each category (C, Q, S) will become a separate column.\n",
    "\n",
    "4. `Cabin`: A partially available variable that represents the cabin number. As it has many null values, it will be excluded, otherwise it could be used for feature engineering for approximate position on ship.\n",
    "--------------------------------------------\n",
    "**Ordinal Qualitiative Datatypes:**\n",
    "1. `Pclass` : representing the class of the ticket (1st (upper class), 2nd (middle class), 3rd class (lower class)), \n",
    "--------------------------------------------\n",
    "**Continuous Quantitative Datatypes:**\n",
    "1. `Age` : The age of each passenger in years.\n",
    "2. `Fare` : The amount each passenger paid for their ticket.\n",
    "--------------------------------------------\n",
    "**Discrete Quantitative Datatypes:**\n",
    "1. `SibSp`: Number of siblings or spouses aboard.\n",
    "\n",
    "2. `Parch`: Number of parents or children aboard. Similar to SibSp, it is treated as a numeric variable, and it could also be engineered to reflect family size and is_alone variable.\n",
    "--------------------------------------------\n",
    "**Target Variable:**\n",
    "\n",
    "`Survived` : (0 = did not survive, 1 = survived). This is the outcome the model is trying to predict.\n",
    "\n",
    "\n",
    "\n"
   ]
  },
  {
   "cell_type": "markdown",
   "id": "067e685a",
   "metadata": {
    "papermill": {
     "duration": 0.029828,
     "end_time": "2024-10-02T11:16:19.057254",
     "exception": false,
     "start_time": "2024-10-02T11:16:19.027426",
     "status": "completed"
    },
    "tags": []
   },
   "source": [
    "## 1.1 Loading Train Dataframe\n"
   ]
  },
  {
   "cell_type": "code",
   "execution_count": 2,
   "id": "f88ea881",
   "metadata": {
    "execution": {
     "iopub.execute_input": "2024-10-02T11:16:19.119395Z",
     "iopub.status.busy": "2024-10-02T11:16:19.118794Z",
     "iopub.status.idle": "2024-10-02T11:16:19.185031Z",
     "shell.execute_reply": "2024-10-02T11:16:19.183743Z"
    },
    "papermill": {
     "duration": 0.100111,
     "end_time": "2024-10-02T11:16:19.187521",
     "exception": false,
     "start_time": "2024-10-02T11:16:19.087410",
     "status": "completed"
    },
    "tags": []
   },
   "outputs": [
    {
     "name": "stdout",
     "output_type": "stream",
     "text": [
      "train df shape: (891, 12)\n"
     ]
    },
    {
     "data": {
      "text/html": [
       "<div>\n",
       "<style scoped>\n",
       "    .dataframe tbody tr th:only-of-type {\n",
       "        vertical-align: middle;\n",
       "    }\n",
       "\n",
       "    .dataframe tbody tr th {\n",
       "        vertical-align: top;\n",
       "    }\n",
       "\n",
       "    .dataframe thead th {\n",
       "        text-align: right;\n",
       "    }\n",
       "</style>\n",
       "<table border=\"1\" class=\"dataframe\">\n",
       "  <thead>\n",
       "    <tr style=\"text-align: right;\">\n",
       "      <th></th>\n",
       "      <th>PassengerId</th>\n",
       "      <th>Survived</th>\n",
       "      <th>Pclass</th>\n",
       "      <th>Name</th>\n",
       "      <th>Sex</th>\n",
       "      <th>Age</th>\n",
       "      <th>SibSp</th>\n",
       "      <th>Parch</th>\n",
       "      <th>Ticket</th>\n",
       "      <th>Fare</th>\n",
       "      <th>Cabin</th>\n",
       "      <th>Embarked</th>\n",
       "    </tr>\n",
       "  </thead>\n",
       "  <tbody>\n",
       "    <tr>\n",
       "      <th>0</th>\n",
       "      <td>1</td>\n",
       "      <td>0</td>\n",
       "      <td>3</td>\n",
       "      <td>Braund, Mr. Owen Harris</td>\n",
       "      <td>male</td>\n",
       "      <td>22.0</td>\n",
       "      <td>1</td>\n",
       "      <td>0</td>\n",
       "      <td>A/5 21171</td>\n",
       "      <td>7.2500</td>\n",
       "      <td>NaN</td>\n",
       "      <td>S</td>\n",
       "    </tr>\n",
       "    <tr>\n",
       "      <th>1</th>\n",
       "      <td>2</td>\n",
       "      <td>1</td>\n",
       "      <td>1</td>\n",
       "      <td>Cumings, Mrs. John Bradley (Florence Briggs Th...</td>\n",
       "      <td>female</td>\n",
       "      <td>38.0</td>\n",
       "      <td>1</td>\n",
       "      <td>0</td>\n",
       "      <td>PC 17599</td>\n",
       "      <td>71.2833</td>\n",
       "      <td>C85</td>\n",
       "      <td>C</td>\n",
       "    </tr>\n",
       "    <tr>\n",
       "      <th>2</th>\n",
       "      <td>3</td>\n",
       "      <td>1</td>\n",
       "      <td>3</td>\n",
       "      <td>Heikkinen, Miss. Laina</td>\n",
       "      <td>female</td>\n",
       "      <td>26.0</td>\n",
       "      <td>0</td>\n",
       "      <td>0</td>\n",
       "      <td>STON/O2. 3101282</td>\n",
       "      <td>7.9250</td>\n",
       "      <td>NaN</td>\n",
       "      <td>S</td>\n",
       "    </tr>\n",
       "    <tr>\n",
       "      <th>3</th>\n",
       "      <td>4</td>\n",
       "      <td>1</td>\n",
       "      <td>1</td>\n",
       "      <td>Futrelle, Mrs. Jacques Heath (Lily May Peel)</td>\n",
       "      <td>female</td>\n",
       "      <td>35.0</td>\n",
       "      <td>1</td>\n",
       "      <td>0</td>\n",
       "      <td>113803</td>\n",
       "      <td>53.1000</td>\n",
       "      <td>C123</td>\n",
       "      <td>S</td>\n",
       "    </tr>\n",
       "    <tr>\n",
       "      <th>4</th>\n",
       "      <td>5</td>\n",
       "      <td>0</td>\n",
       "      <td>3</td>\n",
       "      <td>Allen, Mr. William Henry</td>\n",
       "      <td>male</td>\n",
       "      <td>35.0</td>\n",
       "      <td>0</td>\n",
       "      <td>0</td>\n",
       "      <td>373450</td>\n",
       "      <td>8.0500</td>\n",
       "      <td>NaN</td>\n",
       "      <td>S</td>\n",
       "    </tr>\n",
       "  </tbody>\n",
       "</table>\n",
       "</div>"
      ],
      "text/plain": [
       "   PassengerId  Survived  Pclass  \\\n",
       "0            1         0       3   \n",
       "1            2         1       1   \n",
       "2            3         1       3   \n",
       "3            4         1       1   \n",
       "4            5         0       3   \n",
       "\n",
       "                                                Name     Sex   Age  SibSp  \\\n",
       "0                            Braund, Mr. Owen Harris    male  22.0      1   \n",
       "1  Cumings, Mrs. John Bradley (Florence Briggs Th...  female  38.0      1   \n",
       "2                             Heikkinen, Miss. Laina  female  26.0      0   \n",
       "3       Futrelle, Mrs. Jacques Heath (Lily May Peel)  female  35.0      1   \n",
       "4                           Allen, Mr. William Henry    male  35.0      0   \n",
       "\n",
       "   Parch            Ticket     Fare Cabin Embarked  \n",
       "0      0         A/5 21171   7.2500   NaN        S  \n",
       "1      0          PC 17599  71.2833   C85        C  \n",
       "2      0  STON/O2. 3101282   7.9250   NaN        S  \n",
       "3      0            113803  53.1000  C123        S  \n",
       "4      0            373450   8.0500   NaN        S  "
      ]
     },
     "execution_count": 2,
     "metadata": {},
     "output_type": "execute_result"
    }
   ],
   "source": [
    "train_df = pd.read_csv('/kaggle/input/titanic/train.csv')\n",
    "print(f'train df shape: {train_df.shape}')\n",
    "\n",
    "train_df.head()"
   ]
  },
  {
   "cell_type": "markdown",
   "id": "bfc07db1",
   "metadata": {
    "papermill": {
     "duration": 0.030085,
     "end_time": "2024-10-02T11:16:19.248274",
     "exception": false,
     "start_time": "2024-10-02T11:16:19.218189",
     "status": "completed"
    },
    "tags": []
   },
   "source": [
    "## 1.2 Checking for Null Values in the Train Dataframe Columns"
   ]
  },
  {
   "cell_type": "code",
   "execution_count": 3,
   "id": "26eb2b55",
   "metadata": {
    "execution": {
     "iopub.execute_input": "2024-10-02T11:16:19.313108Z",
     "iopub.status.busy": "2024-10-02T11:16:19.312652Z",
     "iopub.status.idle": "2024-10-02T11:16:19.341413Z",
     "shell.execute_reply": "2024-10-02T11:16:19.340060Z"
    },
    "papermill": {
     "duration": 0.063689,
     "end_time": "2024-10-02T11:16:19.344134",
     "exception": false,
     "start_time": "2024-10-02T11:16:19.280445",
     "status": "completed"
    },
    "tags": []
   },
   "outputs": [
    {
     "name": "stdout",
     "output_type": "stream",
     "text": [
      "<class 'pandas.core.frame.DataFrame'>\n",
      "RangeIndex: 891 entries, 0 to 890\n",
      "Data columns (total 12 columns):\n",
      " #   Column       Non-Null Count  Dtype  \n",
      "---  ------       --------------  -----  \n",
      " 0   PassengerId  891 non-null    int64  \n",
      " 1   Survived     891 non-null    int64  \n",
      " 2   Pclass       891 non-null    int64  \n",
      " 3   Name         891 non-null    object \n",
      " 4   Sex          891 non-null    object \n",
      " 5   Age          714 non-null    float64\n",
      " 6   SibSp        891 non-null    int64  \n",
      " 7   Parch        891 non-null    int64  \n",
      " 8   Ticket       891 non-null    object \n",
      " 9   Fare         891 non-null    float64\n",
      " 10  Cabin        204 non-null    object \n",
      " 11  Embarked     889 non-null    object \n",
      "dtypes: float64(2), int64(5), object(5)\n",
      "memory usage: 83.7+ KB\n"
     ]
    }
   ],
   "source": [
    "train_df.info()"
   ]
  },
  {
   "cell_type": "code",
   "execution_count": 4,
   "id": "95e39707",
   "metadata": {
    "execution": {
     "iopub.execute_input": "2024-10-02T11:16:19.408235Z",
     "iopub.status.busy": "2024-10-02T11:16:19.407759Z",
     "iopub.status.idle": "2024-10-02T11:16:19.418166Z",
     "shell.execute_reply": "2024-10-02T11:16:19.417048Z"
    },
    "papermill": {
     "duration": 0.045799,
     "end_time": "2024-10-02T11:16:19.420950",
     "exception": false,
     "start_time": "2024-10-02T11:16:19.375151",
     "status": "completed"
    },
    "tags": []
   },
   "outputs": [
    {
     "data": {
      "text/plain": [
       "PassengerId      0\n",
       "Survived         0\n",
       "Pclass           0\n",
       "Name             0\n",
       "Sex              0\n",
       "Age            177\n",
       "SibSp            0\n",
       "Parch            0\n",
       "Ticket           0\n",
       "Fare             0\n",
       "Cabin          687\n",
       "Embarked         2\n",
       "dtype: int64"
      ]
     },
     "execution_count": 4,
     "metadata": {},
     "output_type": "execute_result"
    }
   ],
   "source": [
    "train_df.isna().sum()"
   ]
  },
  {
   "cell_type": "markdown",
   "id": "2f8e1f8b",
   "metadata": {
    "papermill": {
     "duration": 0.031458,
     "end_time": "2024-10-02T11:16:19.485377",
     "exception": false,
     "start_time": "2024-10-02T11:16:19.453919",
     "status": "completed"
    },
    "tags": []
   },
   "source": [
    "To see the percentage of null values in each column.\n",
    "\n"
   ]
  },
  {
   "cell_type": "code",
   "execution_count": 5,
   "id": "24f0416b",
   "metadata": {
    "execution": {
     "iopub.execute_input": "2024-10-02T11:16:19.549183Z",
     "iopub.status.busy": "2024-10-02T11:16:19.548725Z",
     "iopub.status.idle": "2024-10-02T11:16:19.559493Z",
     "shell.execute_reply": "2024-10-02T11:16:19.558486Z"
    },
    "papermill": {
     "duration": 0.046266,
     "end_time": "2024-10-02T11:16:19.562700",
     "exception": false,
     "start_time": "2024-10-02T11:16:19.516434",
     "status": "completed"
    },
    "tags": []
   },
   "outputs": [
    {
     "data": {
      "text/plain": [
       "PassengerId     0.000000\n",
       "Survived        0.000000\n",
       "Pclass          0.000000\n",
       "Name            0.000000\n",
       "Sex             0.000000\n",
       "Age            19.865320\n",
       "SibSp           0.000000\n",
       "Parch           0.000000\n",
       "Ticket          0.000000\n",
       "Fare            0.000000\n",
       "Cabin          77.104377\n",
       "Embarked        0.224467\n",
       "dtype: float64"
      ]
     },
     "execution_count": 5,
     "metadata": {},
     "output_type": "execute_result"
    }
   ],
   "source": [
    "train_df.isna().sum() / len(train_df) * 100"
   ]
  },
  {
   "cell_type": "markdown",
   "id": "a8eb6500",
   "metadata": {
    "papermill": {
     "duration": 0.030786,
     "end_time": "2024-10-02T11:16:19.624782",
     "exception": false,
     "start_time": "2024-10-02T11:16:19.593996",
     "status": "completed"
    },
    "tags": []
   },
   "source": [
    "So, `Cabin` has a very high percentage of null values, while `Age` has fewer.\n",
    "Additionally, `Embarked` has 2 instances with null values that need to be handled."
   ]
  },
  {
   "cell_type": "markdown",
   "id": "7073900a",
   "metadata": {
    "papermill": {
     "duration": 0.030842,
     "end_time": "2024-10-02T11:16:19.686443",
     "exception": false,
     "start_time": "2024-10-02T11:16:19.655601",
     "status": "completed"
    },
    "tags": []
   },
   "source": [
    "## 1.3 Loading Test Dataframe"
   ]
  },
  {
   "cell_type": "markdown",
   "id": "6c6a09a0",
   "metadata": {
    "papermill": {
     "duration": 0.0305,
     "end_time": "2024-10-02T11:16:19.747767",
     "exception": false,
     "start_time": "2024-10-02T11:16:19.717267",
     "status": "completed"
    },
    "tags": []
   },
   "source": [
    "**Note**: It does NOT include the target variable `Survived`."
   ]
  },
  {
   "cell_type": "code",
   "execution_count": 6,
   "id": "c86944c4",
   "metadata": {
    "execution": {
     "iopub.execute_input": "2024-10-02T11:16:19.812101Z",
     "iopub.status.busy": "2024-10-02T11:16:19.811167Z",
     "iopub.status.idle": "2024-10-02T11:16:19.841288Z",
     "shell.execute_reply": "2024-10-02T11:16:19.839930Z"
    },
    "papermill": {
     "duration": 0.065837,
     "end_time": "2024-10-02T11:16:19.844563",
     "exception": false,
     "start_time": "2024-10-02T11:16:19.778726",
     "status": "completed"
    },
    "tags": []
   },
   "outputs": [
    {
     "name": "stdout",
     "output_type": "stream",
     "text": [
      "test df shape: (418, 11)\n"
     ]
    },
    {
     "data": {
      "text/html": [
       "<div>\n",
       "<style scoped>\n",
       "    .dataframe tbody tr th:only-of-type {\n",
       "        vertical-align: middle;\n",
       "    }\n",
       "\n",
       "    .dataframe tbody tr th {\n",
       "        vertical-align: top;\n",
       "    }\n",
       "\n",
       "    .dataframe thead th {\n",
       "        text-align: right;\n",
       "    }\n",
       "</style>\n",
       "<table border=\"1\" class=\"dataframe\">\n",
       "  <thead>\n",
       "    <tr style=\"text-align: right;\">\n",
       "      <th></th>\n",
       "      <th>PassengerId</th>\n",
       "      <th>Pclass</th>\n",
       "      <th>Name</th>\n",
       "      <th>Sex</th>\n",
       "      <th>Age</th>\n",
       "      <th>SibSp</th>\n",
       "      <th>Parch</th>\n",
       "      <th>Ticket</th>\n",
       "      <th>Fare</th>\n",
       "      <th>Cabin</th>\n",
       "      <th>Embarked</th>\n",
       "    </tr>\n",
       "  </thead>\n",
       "  <tbody>\n",
       "    <tr>\n",
       "      <th>0</th>\n",
       "      <td>892</td>\n",
       "      <td>3</td>\n",
       "      <td>Kelly, Mr. James</td>\n",
       "      <td>male</td>\n",
       "      <td>34.5</td>\n",
       "      <td>0</td>\n",
       "      <td>0</td>\n",
       "      <td>330911</td>\n",
       "      <td>7.8292</td>\n",
       "      <td>NaN</td>\n",
       "      <td>Q</td>\n",
       "    </tr>\n",
       "    <tr>\n",
       "      <th>1</th>\n",
       "      <td>893</td>\n",
       "      <td>3</td>\n",
       "      <td>Wilkes, Mrs. James (Ellen Needs)</td>\n",
       "      <td>female</td>\n",
       "      <td>47.0</td>\n",
       "      <td>1</td>\n",
       "      <td>0</td>\n",
       "      <td>363272</td>\n",
       "      <td>7.0000</td>\n",
       "      <td>NaN</td>\n",
       "      <td>S</td>\n",
       "    </tr>\n",
       "    <tr>\n",
       "      <th>2</th>\n",
       "      <td>894</td>\n",
       "      <td>2</td>\n",
       "      <td>Myles, Mr. Thomas Francis</td>\n",
       "      <td>male</td>\n",
       "      <td>62.0</td>\n",
       "      <td>0</td>\n",
       "      <td>0</td>\n",
       "      <td>240276</td>\n",
       "      <td>9.6875</td>\n",
       "      <td>NaN</td>\n",
       "      <td>Q</td>\n",
       "    </tr>\n",
       "    <tr>\n",
       "      <th>3</th>\n",
       "      <td>895</td>\n",
       "      <td>3</td>\n",
       "      <td>Wirz, Mr. Albert</td>\n",
       "      <td>male</td>\n",
       "      <td>27.0</td>\n",
       "      <td>0</td>\n",
       "      <td>0</td>\n",
       "      <td>315154</td>\n",
       "      <td>8.6625</td>\n",
       "      <td>NaN</td>\n",
       "      <td>S</td>\n",
       "    </tr>\n",
       "    <tr>\n",
       "      <th>4</th>\n",
       "      <td>896</td>\n",
       "      <td>3</td>\n",
       "      <td>Hirvonen, Mrs. Alexander (Helga E Lindqvist)</td>\n",
       "      <td>female</td>\n",
       "      <td>22.0</td>\n",
       "      <td>1</td>\n",
       "      <td>1</td>\n",
       "      <td>3101298</td>\n",
       "      <td>12.2875</td>\n",
       "      <td>NaN</td>\n",
       "      <td>S</td>\n",
       "    </tr>\n",
       "  </tbody>\n",
       "</table>\n",
       "</div>"
      ],
      "text/plain": [
       "   PassengerId  Pclass                                          Name     Sex  \\\n",
       "0          892       3                              Kelly, Mr. James    male   \n",
       "1          893       3              Wilkes, Mrs. James (Ellen Needs)  female   \n",
       "2          894       2                     Myles, Mr. Thomas Francis    male   \n",
       "3          895       3                              Wirz, Mr. Albert    male   \n",
       "4          896       3  Hirvonen, Mrs. Alexander (Helga E Lindqvist)  female   \n",
       "\n",
       "    Age  SibSp  Parch   Ticket     Fare Cabin Embarked  \n",
       "0  34.5      0      0   330911   7.8292   NaN        Q  \n",
       "1  47.0      1      0   363272   7.0000   NaN        S  \n",
       "2  62.0      0      0   240276   9.6875   NaN        Q  \n",
       "3  27.0      0      0   315154   8.6625   NaN        S  \n",
       "4  22.0      1      1  3101298  12.2875   NaN        S  "
      ]
     },
     "execution_count": 6,
     "metadata": {},
     "output_type": "execute_result"
    }
   ],
   "source": [
    "test_df = pd.read_csv('/kaggle/input/titanic/test.csv')\n",
    "print(f'test df shape: {test_df.shape}')\n",
    "\n",
    "test_df.head()"
   ]
  },
  {
   "cell_type": "markdown",
   "id": "6d61d7e6",
   "metadata": {
    "papermill": {
     "duration": 0.042237,
     "end_time": "2024-10-02T11:16:19.926441",
     "exception": false,
     "start_time": "2024-10-02T11:16:19.884204",
     "status": "completed"
    },
    "tags": []
   },
   "source": [
    "## 1.4 Check Null Values for Test Dataframe Columns"
   ]
  },
  {
   "cell_type": "code",
   "execution_count": 7,
   "id": "ec2675da",
   "metadata": {
    "execution": {
     "iopub.execute_input": "2024-10-02T11:16:20.001747Z",
     "iopub.status.busy": "2024-10-02T11:16:20.000367Z",
     "iopub.status.idle": "2024-10-02T11:16:20.014508Z",
     "shell.execute_reply": "2024-10-02T11:16:20.013103Z"
    },
    "papermill": {
     "duration": 0.059002,
     "end_time": "2024-10-02T11:16:20.017311",
     "exception": false,
     "start_time": "2024-10-02T11:16:19.958309",
     "status": "completed"
    },
    "tags": []
   },
   "outputs": [
    {
     "name": "stdout",
     "output_type": "stream",
     "text": [
      "<class 'pandas.core.frame.DataFrame'>\n",
      "RangeIndex: 418 entries, 0 to 417\n",
      "Data columns (total 11 columns):\n",
      " #   Column       Non-Null Count  Dtype  \n",
      "---  ------       --------------  -----  \n",
      " 0   PassengerId  418 non-null    int64  \n",
      " 1   Pclass       418 non-null    int64  \n",
      " 2   Name         418 non-null    object \n",
      " 3   Sex          418 non-null    object \n",
      " 4   Age          332 non-null    float64\n",
      " 5   SibSp        418 non-null    int64  \n",
      " 6   Parch        418 non-null    int64  \n",
      " 7   Ticket       418 non-null    object \n",
      " 8   Fare         417 non-null    float64\n",
      " 9   Cabin        91 non-null     object \n",
      " 10  Embarked     418 non-null    object \n",
      "dtypes: float64(2), int64(4), object(5)\n",
      "memory usage: 36.0+ KB\n"
     ]
    }
   ],
   "source": [
    "test_df.info()"
   ]
  },
  {
   "cell_type": "code",
   "execution_count": 8,
   "id": "d015f2e7",
   "metadata": {
    "execution": {
     "iopub.execute_input": "2024-10-02T11:16:20.107802Z",
     "iopub.status.busy": "2024-10-02T11:16:20.107377Z",
     "iopub.status.idle": "2024-10-02T11:16:20.119205Z",
     "shell.execute_reply": "2024-10-02T11:16:20.117727Z"
    },
    "papermill": {
     "duration": 0.060446,
     "end_time": "2024-10-02T11:16:20.122286",
     "exception": false,
     "start_time": "2024-10-02T11:16:20.061840",
     "status": "completed"
    },
    "tags": []
   },
   "outputs": [
    {
     "data": {
      "text/plain": [
       "PassengerId      0\n",
       "Pclass           0\n",
       "Name             0\n",
       "Sex              0\n",
       "Age             86\n",
       "SibSp            0\n",
       "Parch            0\n",
       "Ticket           0\n",
       "Fare             1\n",
       "Cabin          327\n",
       "Embarked         0\n",
       "dtype: int64"
      ]
     },
     "execution_count": 8,
     "metadata": {},
     "output_type": "execute_result"
    }
   ],
   "source": [
    "test_df.isna().sum() "
   ]
  },
  {
   "cell_type": "code",
   "execution_count": 9,
   "id": "d52fd876",
   "metadata": {
    "execution": {
     "iopub.execute_input": "2024-10-02T11:16:20.200130Z",
     "iopub.status.busy": "2024-10-02T11:16:20.199061Z",
     "iopub.status.idle": "2024-10-02T11:16:20.213693Z",
     "shell.execute_reply": "2024-10-02T11:16:20.211840Z"
    },
    "papermill": {
     "duration": 0.051952,
     "end_time": "2024-10-02T11:16:20.216609",
     "exception": false,
     "start_time": "2024-10-02T11:16:20.164657",
     "status": "completed"
    },
    "tags": []
   },
   "outputs": [
    {
     "data": {
      "text/plain": [
       "PassengerId     0.000000\n",
       "Pclass          0.000000\n",
       "Name            0.000000\n",
       "Sex             0.000000\n",
       "Age            20.574163\n",
       "SibSp           0.000000\n",
       "Parch           0.000000\n",
       "Ticket          0.000000\n",
       "Fare            0.239234\n",
       "Cabin          78.229665\n",
       "Embarked        0.000000\n",
       "dtype: float64"
      ]
     },
     "execution_count": 9,
     "metadata": {},
     "output_type": "execute_result"
    }
   ],
   "source": [
    "test_df.isna().sum() / len(test_df) * 100"
   ]
  },
  {
   "cell_type": "markdown",
   "id": "d5dd80bf",
   "metadata": {
    "papermill": {
     "duration": 0.032612,
     "end_time": "2024-10-02T11:16:20.281605",
     "exception": false,
     "start_time": "2024-10-02T11:16:20.248993",
     "status": "completed"
    },
    "tags": []
   },
   "source": [
    "Nearly the same observations as the train dataframe. So, let's dive into cleaning our data!  \n",
    "Note that the **Fare** column contains 1 null value here, so it should be handled as well.\n",
    "\n",
    "To sum up, we have 4 columns that need handling, which are:  \n",
    "1. Age  \n",
    "2. Fare  \n",
    "3. Cabin  \n",
    "4. Embarked  \n"
   ]
  },
  {
   "cell_type": "markdown",
   "id": "be7e6777",
   "metadata": {
    "papermill": {
     "duration": 0.031783,
     "end_time": "2024-10-02T11:16:20.345407",
     "exception": false,
     "start_time": "2024-10-02T11:16:20.313624",
     "status": "completed"
    },
    "tags": []
   },
   "source": [
    "# 2. Clean Data"
   ]
  },
  {
   "cell_type": "markdown",
   "id": "bcb10ba2",
   "metadata": {
    "papermill": {
     "duration": 0.031792,
     "end_time": "2024-10-02T11:16:20.410619",
     "exception": false,
     "start_time": "2024-10-02T11:16:20.378827",
     "status": "completed"
    },
    "tags": []
   },
   "source": [
    "## 2.1 Handling Missing Values"
   ]
  },
  {
   "cell_type": "markdown",
   "id": "b5b5cd7c",
   "metadata": {
    "papermill": {
     "duration": 0.086392,
     "end_time": "2024-10-02T11:16:20.529826",
     "exception": false,
     "start_time": "2024-10-02T11:16:20.443434",
     "status": "completed"
    },
    "tags": []
   },
   "source": [
    "Now, we will handle missing values in both train and test dataframes. Here are some methods we can use according to the situation:\n",
    "\n",
    "### 1. `Imputation`:\n",
    "\n",
    "#### 1.1. **Numerical Variables**:\n",
    "There are several methods to handle it such as:\n",
    "- **a. Mean Imputation**: Replace missing values with the mean of the available values.\n",
    "- **b. Median Imputation**: Less sensitive to outliers compared to mean imputation.\n",
    "- **c. Mode Imputation**: Less common for continuous variables but can be used for discrete ones.\n",
    "- **d. Imputation using models such as KNN**: Predicts missing values using similar instances.\n",
    "\n",
    "#### 1.2. **Categorical Variables**:\n",
    "- **a. Constant Imputation**: Replace missing values with a constant string, like \"Unknown\".\n",
    "- **b. Mode Imputation**: Replace missing values with the most frequent category (mode).\n",
    "- **c. Imputation using models such as KNN**: Predicts missing categories based on similar instances.\n",
    "\n",
    "---\n",
    "\n",
    "### 2. `Drop Columns`:\n",
    "You should consider dropping columns in the following situations:\n",
    "\n",
    "- **a. High percentage of missing values**: (e.g., >50%).\n",
    "- **b. Irrelevant or redundant columns**: If a column does not add predictive power or is duplicated by another column.\n",
    "- **c. Random Unique Identifiers**: Columns like `PassengerId` or `Ticket`, not related to the target variable.\n",
    "\n",
    "---\n",
    "\n",
    "### 3. `Drop Rows`:\n",
    "Dropping rows is a more aggressive approach and is usually used in the following situations:\n",
    "\n",
    "- **a. Too many missing values in a single row**: If a row has too many missing values across multiple columns.\n",
    "- **b. When the dataset is large**: Dropping rows might be acceptable if the percentage of missing data is small.\n",
    "- **c. When there's no logical way to impute missing values**: In cases where imputation would introduce too much bias or uncertainty.\n"
   ]
  },
  {
   "cell_type": "markdown",
   "id": "54a577cd",
   "metadata": {
    "papermill": {
     "duration": 0.031663,
     "end_time": "2024-10-02T11:16:20.593487",
     "exception": false,
     "start_time": "2024-10-02T11:16:20.561824",
     "status": "completed"
    },
    "tags": []
   },
   "source": [
    "To prevent **data leakage**, the following cell will calculate values like the median and mode using only the training dataset. These values will then be used to impute missing data across all other datasets, including validation and test sets.\n",
    "\n",
    "**What is Data Leakage?**\n",
    "\n",
    "Data leakage occurs when information from outside the training dataset is used to create the model, leading to overly optimistic performance estimates. This can happen if data from the test or validation sets is used during training, which compromises the model's ability to generalize to new data.\n"
   ]
  },
  {
   "cell_type": "code",
   "execution_count": 10,
   "id": "ad9a92f6",
   "metadata": {
    "execution": {
     "iopub.execute_input": "2024-10-02T11:16:20.659504Z",
     "iopub.status.busy": "2024-10-02T11:16:20.659088Z",
     "iopub.status.idle": "2024-10-02T11:16:20.683076Z",
     "shell.execute_reply": "2024-10-02T11:16:20.681759Z"
    },
    "papermill": {
     "duration": 0.059859,
     "end_time": "2024-10-02T11:16:20.685509",
     "exception": false,
     "start_time": "2024-10-02T11:16:20.625650",
     "status": "completed"
    },
    "tags": []
   },
   "outputs": [
    {
     "name": "stdout",
     "output_type": "stream",
     "text": [
      "Null values counts: \n",
      " PassengerId      0\n",
      "Survived         0\n",
      "Pclass           0\n",
      "Name             0\n",
      "Sex              0\n",
      "Age            177\n",
      "SibSp            0\n",
      "Parch            0\n",
      "Ticket           0\n",
      "Fare             0\n",
      "Embarked         0\n",
      "dtype: int64\n",
      "Null values counts: \n",
      " PassengerId     0\n",
      "Pclass          0\n",
      "Name            0\n",
      "Sex             0\n",
      "Age            86\n",
      "SibSp           0\n",
      "Parch           0\n",
      "Ticket          0\n",
      "Fare            0\n",
      "Embarked        0\n",
      "dtype: int64\n"
     ]
    }
   ],
   "source": [
    "for df in [train_df, test_df]:\n",
    "    # handling numerical data of fare column with median imputation\n",
    "    df['Fare'].fillna(train_df['Fare'].median(), inplace=True)\n",
    "\n",
    "    #handling categorical data of embarked column with mode imputation\n",
    "    df['Embarked'].fillna(train_df['Embarked'].mode()[0], inplace=True)\n",
    "\n",
    "    #drop cabin column because most of its values are nulls\n",
    "    df.drop(columns='Cabin', inplace=True)\n",
    "\n",
    "    print(f'Null values counts: \\n {df.isna().sum()}')\n"
   ]
  },
  {
   "cell_type": "markdown",
   "id": "79d1f8a6",
   "metadata": {
    "papermill": {
     "duration": 0.03179,
     "end_time": "2024-10-02T11:16:20.749499",
     "exception": false,
     "start_time": "2024-10-02T11:16:20.717709",
     "status": "completed"
    },
    "tags": []
   },
   "source": [
    "We will handle `Age` missing values in a more complex way to be more accurate because about 20% of data have Age missing values.\n",
    "\n",
    "1. We will explore the different distributions of Age across different Sex and Embarked values using `sns.FacetGrid`.\n"
   ]
  },
  {
   "cell_type": "code",
   "execution_count": 11,
   "id": "d1c8f7e8",
   "metadata": {
    "execution": {
     "iopub.execute_input": "2024-10-02T11:16:20.815584Z",
     "iopub.status.busy": "2024-10-02T11:16:20.815116Z",
     "iopub.status.idle": "2024-10-02T11:16:23.269251Z",
     "shell.execute_reply": "2024-10-02T11:16:23.268045Z"
    },
    "papermill": {
     "duration": 2.490522,
     "end_time": "2024-10-02T11:16:23.272063",
     "exception": false,
     "start_time": "2024-10-02T11:16:20.781541",
     "status": "completed"
    },
    "tags": []
   },
   "outputs": [
    {
     "data": {
      "image/png": "[encoded data removed]",
      "text/plain": [
       "<Figure size 600x900 with 6 Axes>"
      ]
     },
     "metadata": {},
     "output_type": "display_data"
    }
   ],
   "source": [
    "g = sns.FacetGrid(train_df, col='Sex', row='Pclass')\n",
    "g.map(sns.histplot, 'Age');"
   ]
  },
  {
   "cell_type": "markdown",
   "id": "c5ad90cf",
   "metadata": {
    "papermill": {
     "duration": 0.033072,
     "end_time": "2024-10-02T11:16:23.340853",
     "exception": false,
     "start_time": "2024-10-02T11:16:23.307781",
     "status": "completed"
    },
    "tags": []
   },
   "source": [
    "So, we can see that most of the people are males and of class 3.\n",
    "\n",
    "2. We will calculate the median of each subplot and use them to substitute null values of their corresponding distribution.\n"
   ]
  },
  {
   "cell_type": "code",
   "execution_count": 12,
   "id": "48e8e88f",
   "metadata": {
    "execution": {
     "iopub.execute_input": "2024-10-02T11:16:23.408759Z",
     "iopub.status.busy": "2024-10-02T11:16:23.408346Z",
     "iopub.status.idle": "2024-10-02T11:16:23.416240Z",
     "shell.execute_reply": "2024-10-02T11:16:23.415093Z"
    },
    "papermill": {
     "duration": 0.044946,
     "end_time": "2024-10-02T11:16:23.418810",
     "exception": false,
     "start_time": "2024-10-02T11:16:23.373864",
     "status": "completed"
    },
    "tags": []
   },
   "outputs": [
    {
     "data": {
      "text/plain": [
       "array([[0., 0., 0.],\n",
       "       [0., 0., 0.]])"
      ]
     },
     "execution_count": 12,
     "metadata": {},
     "output_type": "execute_result"
    }
   ],
   "source": [
    "median_ages = np.zeros((2, 3))\n",
    "median_ages"
   ]
  },
  {
   "cell_type": "code",
   "execution_count": 13,
   "id": "e5d92d57",
   "metadata": {
    "execution": {
     "iopub.execute_input": "2024-10-02T11:16:23.487945Z",
     "iopub.status.busy": "2024-10-02T11:16:23.487535Z",
     "iopub.status.idle": "2024-10-02T11:16:23.507186Z",
     "shell.execute_reply": "2024-10-02T11:16:23.506011Z"
    },
    "papermill": {
     "duration": 0.056883,
     "end_time": "2024-10-02T11:16:23.509755",
     "exception": false,
     "start_time": "2024-10-02T11:16:23.452872",
     "status": "completed"
    },
    "tags": []
   },
   "outputs": [
    {
     "data": {
      "text/plain": [
       "array([[35. , 28. , 21.5],\n",
       "       [40. , 30. , 25. ]])"
      ]
     },
     "execution_count": 13,
     "metadata": {},
     "output_type": "execute_result"
    }
   ],
   "source": [
    "# get median values for each sub df\n",
    "for i, sex in enumerate(['female', 'male']):\n",
    "    for pclass in range(1, 4):\n",
    "        subset = train_df[(train_df['Age'].notna()) & (train_df['Sex'] == sex) & (train_df['Pclass'] == pclass)]['Age']\n",
    "        median_ages[i, pclass - 1] =  subset.median()\n",
    "median_ages"
   ]
  },
  {
   "cell_type": "code",
   "execution_count": 14,
   "id": "bb5c777d",
   "metadata": {
    "execution": {
     "iopub.execute_input": "2024-10-02T11:16:23.578730Z",
     "iopub.status.busy": "2024-10-02T11:16:23.578320Z",
     "iopub.status.idle": "2024-10-02T11:16:23.601430Z",
     "shell.execute_reply": "2024-10-02T11:16:23.600178Z"
    },
    "papermill": {
     "duration": 0.060875,
     "end_time": "2024-10-02T11:16:23.604067",
     "exception": false,
     "start_time": "2024-10-02T11:16:23.543192",
     "status": "completed"
    },
    "tags": []
   },
   "outputs": [],
   "source": [
    "# substitute with the median_ages of the train subsets in both train_df and test_df\n",
    "for df in [train_df, test_df]:\n",
    "    for i, sex in enumerate(['female', 'male']):\n",
    "        for pclass in range(1, 4):\n",
    "            mask = (df['Age'].isna()) & (df['Sex'] == sex) & (df['Pclass'] == pclass)\n",
    "            df.loc[mask, 'Age'] = median_ages[i, pclass - 1]\n"
   ]
  },
  {
   "cell_type": "code",
   "execution_count": 15,
   "id": "9ff46143",
   "metadata": {
    "execution": {
     "iopub.execute_input": "2024-10-02T11:16:23.672642Z",
     "iopub.status.busy": "2024-10-02T11:16:23.672232Z",
     "iopub.status.idle": "2024-10-02T11:16:23.680393Z",
     "shell.execute_reply": "2024-10-02T11:16:23.679279Z"
    },
    "papermill": {
     "duration": 0.045255,
     "end_time": "2024-10-02T11:16:23.682694",
     "exception": false,
     "start_time": "2024-10-02T11:16:23.637439",
     "status": "completed"
    },
    "tags": []
   },
   "outputs": [
    {
     "data": {
      "text/plain": [
       "0"
      ]
     },
     "execution_count": 15,
     "metadata": {},
     "output_type": "execute_result"
    }
   ],
   "source": [
    "train_df['Age'].isna().sum()"
   ]
  },
  {
   "cell_type": "code",
   "execution_count": 16,
   "id": "c12ba038",
   "metadata": {
    "execution": {
     "iopub.execute_input": "2024-10-02T11:16:23.751441Z",
     "iopub.status.busy": "2024-10-02T11:16:23.750927Z",
     "iopub.status.idle": "2024-10-02T11:16:23.759133Z",
     "shell.execute_reply": "2024-10-02T11:16:23.757967Z"
    },
    "papermill": {
     "duration": 0.045983,
     "end_time": "2024-10-02T11:16:23.762111",
     "exception": false,
     "start_time": "2024-10-02T11:16:23.716128",
     "status": "completed"
    },
    "tags": []
   },
   "outputs": [
    {
     "data": {
      "text/plain": [
       "0"
      ]
     },
     "execution_count": 16,
     "metadata": {},
     "output_type": "execute_result"
    }
   ],
   "source": [
    "test_df['Age'].isna().sum()"
   ]
  },
  {
   "cell_type": "markdown",
   "id": "bc9641eb",
   "metadata": {
    "papermill": {
     "duration": 0.033342,
     "end_time": "2024-10-02T11:16:23.830012",
     "exception": false,
     "start_time": "2024-10-02T11:16:23.796670",
     "status": "completed"
    },
    "tags": []
   },
   "source": [
    "## 2.2 Handling Duplicated Values"
   ]
  },
  {
   "cell_type": "markdown",
   "id": "9ead8b6e",
   "metadata": {
    "papermill": {
     "duration": 0.03345,
     "end_time": "2024-10-02T11:16:23.897120",
     "exception": false,
     "start_time": "2024-10-02T11:16:23.863670",
     "status": "completed"
    },
    "tags": []
   },
   "source": [
    "Check for the whole dataset duplications."
   ]
  },
  {
   "cell_type": "code",
   "execution_count": 17,
   "id": "ad51052e",
   "metadata": {
    "execution": {
     "iopub.execute_input": "2024-10-02T11:16:23.967538Z",
     "iopub.status.busy": "2024-10-02T11:16:23.967100Z",
     "iopub.status.idle": "2024-10-02T11:16:23.979518Z",
     "shell.execute_reply": "2024-10-02T11:16:23.978206Z"
    },
    "papermill": {
     "duration": 0.049982,
     "end_time": "2024-10-02T11:16:23.982050",
     "exception": false,
     "start_time": "2024-10-02T11:16:23.932068",
     "status": "completed"
    },
    "tags": []
   },
   "outputs": [
    {
     "data": {
      "text/plain": [
       "0"
      ]
     },
     "execution_count": 17,
     "metadata": {},
     "output_type": "execute_result"
    }
   ],
   "source": [
    "train_df.duplicated().sum()"
   ]
  },
  {
   "cell_type": "markdown",
   "id": "ffba57b3",
   "metadata": {
    "papermill": {
     "duration": 0.033422,
     "end_time": "2024-10-02T11:16:24.049791",
     "exception": false,
     "start_time": "2024-10-02T11:16:24.016369",
     "status": "completed"
    },
    "tags": []
   },
   "source": [
    "check for `Ticket` column duplications"
   ]
  },
  {
   "cell_type": "code",
   "execution_count": 18,
   "id": "a0a860b8",
   "metadata": {
    "execution": {
     "iopub.execute_input": "2024-10-02T11:16:24.120846Z",
     "iopub.status.busy": "2024-10-02T11:16:24.120042Z",
     "iopub.status.idle": "2024-10-02T11:16:24.129390Z",
     "shell.execute_reply": "2024-10-02T11:16:24.128220Z"
    },
    "papermill": {
     "duration": 0.047264,
     "end_time": "2024-10-02T11:16:24.131941",
     "exception": false,
     "start_time": "2024-10-02T11:16:24.084677",
     "status": "completed"
    },
    "tags": []
   },
   "outputs": [
    {
     "data": {
      "text/plain": [
       "210"
      ]
     },
     "execution_count": 18,
     "metadata": {},
     "output_type": "execute_result"
    }
   ],
   "source": [
    "train_df['Ticket'].duplicated().sum()"
   ]
  },
  {
   "cell_type": "markdown",
   "id": "57ca9a1c",
   "metadata": {
    "papermill": {
     "duration": 0.033611,
     "end_time": "2024-10-02T11:16:24.199634",
     "exception": false,
     "start_time": "2024-10-02T11:16:24.166023",
     "status": "completed"
    },
    "tags": []
   },
   "source": [
    "So, we can drop this column from our dataset"
   ]
  },
  {
   "cell_type": "code",
   "execution_count": 19,
   "id": "08e1d08c",
   "metadata": {
    "execution": {
     "iopub.execute_input": "2024-10-02T11:16:24.269640Z",
     "iopub.status.busy": "2024-10-02T11:16:24.269186Z",
     "iopub.status.idle": "2024-10-02T11:16:24.287594Z",
     "shell.execute_reply": "2024-10-02T11:16:24.286482Z"
    },
    "papermill": {
     "duration": 0.056589,
     "end_time": "2024-10-02T11:16:24.290127",
     "exception": false,
     "start_time": "2024-10-02T11:16:24.233538",
     "status": "completed"
    },
    "tags": []
   },
   "outputs": [
    {
     "data": {
      "text/html": [
       "<div>\n",
       "<style scoped>\n",
       "    .dataframe tbody tr th:only-of-type {\n",
       "        vertical-align: middle;\n",
       "    }\n",
       "\n",
       "    .dataframe tbody tr th {\n",
       "        vertical-align: top;\n",
       "    }\n",
       "\n",
       "    .dataframe thead th {\n",
       "        text-align: right;\n",
       "    }\n",
       "</style>\n",
       "<table border=\"1\" class=\"dataframe\">\n",
       "  <thead>\n",
       "    <tr style=\"text-align: right;\">\n",
       "      <th></th>\n",
       "      <th>PassengerId</th>\n",
       "      <th>Survived</th>\n",
       "      <th>Pclass</th>\n",
       "      <th>Name</th>\n",
       "      <th>Sex</th>\n",
       "      <th>Age</th>\n",
       "      <th>SibSp</th>\n",
       "      <th>Parch</th>\n",
       "      <th>Fare</th>\n",
       "      <th>Embarked</th>\n",
       "    </tr>\n",
       "  </thead>\n",
       "  <tbody>\n",
       "    <tr>\n",
       "      <th>0</th>\n",
       "      <td>1</td>\n",
       "      <td>0</td>\n",
       "      <td>3</td>\n",
       "      <td>Braund, Mr. Owen Harris</td>\n",
       "      <td>male</td>\n",
       "      <td>22.0</td>\n",
       "      <td>1</td>\n",
       "      <td>0</td>\n",
       "      <td>7.2500</td>\n",
       "      <td>S</td>\n",
       "    </tr>\n",
       "    <tr>\n",
       "      <th>1</th>\n",
       "      <td>2</td>\n",
       "      <td>1</td>\n",
       "      <td>1</td>\n",
       "      <td>Cumings, Mrs. John Bradley (Florence Briggs Th...</td>\n",
       "      <td>female</td>\n",
       "      <td>38.0</td>\n",
       "      <td>1</td>\n",
       "      <td>0</td>\n",
       "      <td>71.2833</td>\n",
       "      <td>C</td>\n",
       "    </tr>\n",
       "    <tr>\n",
       "      <th>2</th>\n",
       "      <td>3</td>\n",
       "      <td>1</td>\n",
       "      <td>3</td>\n",
       "      <td>Heikkinen, Miss. Laina</td>\n",
       "      <td>female</td>\n",
       "      <td>26.0</td>\n",
       "      <td>0</td>\n",
       "      <td>0</td>\n",
       "      <td>7.9250</td>\n",
       "      <td>S</td>\n",
       "    </tr>\n",
       "    <tr>\n",
       "      <th>3</th>\n",
       "      <td>4</td>\n",
       "      <td>1</td>\n",
       "      <td>1</td>\n",
       "      <td>Futrelle, Mrs. Jacques Heath (Lily May Peel)</td>\n",
       "      <td>female</td>\n",
       "      <td>35.0</td>\n",
       "      <td>1</td>\n",
       "      <td>0</td>\n",
       "      <td>53.1000</td>\n",
       "      <td>S</td>\n",
       "    </tr>\n",
       "    <tr>\n",
       "      <th>4</th>\n",
       "      <td>5</td>\n",
       "      <td>0</td>\n",
       "      <td>3</td>\n",
       "      <td>Allen, Mr. William Henry</td>\n",
       "      <td>male</td>\n",
       "      <td>35.0</td>\n",
       "      <td>0</td>\n",
       "      <td>0</td>\n",
       "      <td>8.0500</td>\n",
       "      <td>S</td>\n",
       "    </tr>\n",
       "  </tbody>\n",
       "</table>\n",
       "</div>"
      ],
      "text/plain": [
       "   PassengerId  Survived  Pclass  \\\n",
       "0            1         0       3   \n",
       "1            2         1       1   \n",
       "2            3         1       3   \n",
       "3            4         1       1   \n",
       "4            5         0       3   \n",
       "\n",
       "                                                Name     Sex   Age  SibSp  \\\n",
       "0                            Braund, Mr. Owen Harris    male  22.0      1   \n",
       "1  Cumings, Mrs. John Bradley (Florence Briggs Th...  female  38.0      1   \n",
       "2                             Heikkinen, Miss. Laina  female  26.0      0   \n",
       "3       Futrelle, Mrs. Jacques Heath (Lily May Peel)  female  35.0      1   \n",
       "4                           Allen, Mr. William Henry    male  35.0      0   \n",
       "\n",
       "   Parch     Fare Embarked  \n",
       "0      0   7.2500        S  \n",
       "1      0  71.2833        C  \n",
       "2      0   7.9250        S  \n",
       "3      0  53.1000        S  \n",
       "4      0   8.0500        S  "
      ]
     },
     "execution_count": 19,
     "metadata": {},
     "output_type": "execute_result"
    }
   ],
   "source": [
    "train_df.drop(columns='Ticket', inplace=True)\n",
    "train_df.head()"
   ]
  },
  {
   "cell_type": "code",
   "execution_count": 20,
   "id": "c9e7dd07",
   "metadata": {
    "execution": {
     "iopub.execute_input": "2024-10-02T11:16:24.362799Z",
     "iopub.status.busy": "2024-10-02T11:16:24.362334Z",
     "iopub.status.idle": "2024-10-02T11:16:24.379851Z",
     "shell.execute_reply": "2024-10-02T11:16:24.378597Z"
    },
    "papermill": {
     "duration": 0.055777,
     "end_time": "2024-10-02T11:16:24.382475",
     "exception": false,
     "start_time": "2024-10-02T11:16:24.326698",
     "status": "completed"
    },
    "tags": []
   },
   "outputs": [
    {
     "data": {
      "text/html": [
       "<div>\n",
       "<style scoped>\n",
       "    .dataframe tbody tr th:only-of-type {\n",
       "        vertical-align: middle;\n",
       "    }\n",
       "\n",
       "    .dataframe tbody tr th {\n",
       "        vertical-align: top;\n",
       "    }\n",
       "\n",
       "    .dataframe thead th {\n",
       "        text-align: right;\n",
       "    }\n",
       "</style>\n",
       "<table border=\"1\" class=\"dataframe\">\n",
       "  <thead>\n",
       "    <tr style=\"text-align: right;\">\n",
       "      <th></th>\n",
       "      <th>PassengerId</th>\n",
       "      <th>Pclass</th>\n",
       "      <th>Name</th>\n",
       "      <th>Sex</th>\n",
       "      <th>Age</th>\n",
       "      <th>SibSp</th>\n",
       "      <th>Parch</th>\n",
       "      <th>Fare</th>\n",
       "      <th>Embarked</th>\n",
       "    </tr>\n",
       "  </thead>\n",
       "  <tbody>\n",
       "    <tr>\n",
       "      <th>0</th>\n",
       "      <td>892</td>\n",
       "      <td>3</td>\n",
       "      <td>Kelly, Mr. James</td>\n",
       "      <td>male</td>\n",
       "      <td>34.5</td>\n",
       "      <td>0</td>\n",
       "      <td>0</td>\n",
       "      <td>7.8292</td>\n",
       "      <td>Q</td>\n",
       "    </tr>\n",
       "    <tr>\n",
       "      <th>1</th>\n",
       "      <td>893</td>\n",
       "      <td>3</td>\n",
       "      <td>Wilkes, Mrs. James (Ellen Needs)</td>\n",
       "      <td>female</td>\n",
       "      <td>47.0</td>\n",
       "      <td>1</td>\n",
       "      <td>0</td>\n",
       "      <td>7.0000</td>\n",
       "      <td>S</td>\n",
       "    </tr>\n",
       "    <tr>\n",
       "      <th>2</th>\n",
       "      <td>894</td>\n",
       "      <td>2</td>\n",
       "      <td>Myles, Mr. Thomas Francis</td>\n",
       "      <td>male</td>\n",
       "      <td>62.0</td>\n",
       "      <td>0</td>\n",
       "      <td>0</td>\n",
       "      <td>9.6875</td>\n",
       "      <td>Q</td>\n",
       "    </tr>\n",
       "    <tr>\n",
       "      <th>3</th>\n",
       "      <td>895</td>\n",
       "      <td>3</td>\n",
       "      <td>Wirz, Mr. Albert</td>\n",
       "      <td>male</td>\n",
       "      <td>27.0</td>\n",
       "      <td>0</td>\n",
       "      <td>0</td>\n",
       "      <td>8.6625</td>\n",
       "      <td>S</td>\n",
       "    </tr>\n",
       "    <tr>\n",
       "      <th>4</th>\n",
       "      <td>896</td>\n",
       "      <td>3</td>\n",
       "      <td>Hirvonen, Mrs. Alexander (Helga E Lindqvist)</td>\n",
       "      <td>female</td>\n",
       "      <td>22.0</td>\n",
       "      <td>1</td>\n",
       "      <td>1</td>\n",
       "      <td>12.2875</td>\n",
       "      <td>S</td>\n",
       "    </tr>\n",
       "  </tbody>\n",
       "</table>\n",
       "</div>"
      ],
      "text/plain": [
       "   PassengerId  Pclass                                          Name     Sex  \\\n",
       "0          892       3                              Kelly, Mr. James    male   \n",
       "1          893       3              Wilkes, Mrs. James (Ellen Needs)  female   \n",
       "2          894       2                     Myles, Mr. Thomas Francis    male   \n",
       "3          895       3                              Wirz, Mr. Albert    male   \n",
       "4          896       3  Hirvonen, Mrs. Alexander (Helga E Lindqvist)  female   \n",
       "\n",
       "    Age  SibSp  Parch     Fare Embarked  \n",
       "0  34.5      0      0   7.8292        Q  \n",
       "1  47.0      1      0   7.0000        S  \n",
       "2  62.0      0      0   9.6875        Q  \n",
       "3  27.0      0      0   8.6625        S  \n",
       "4  22.0      1      1  12.2875        S  "
      ]
     },
     "execution_count": 20,
     "metadata": {},
     "output_type": "execute_result"
    }
   ],
   "source": [
    "test_df.drop(columns='Ticket', inplace=True)\n",
    "test_df.head()"
   ]
  },
  {
   "cell_type": "markdown",
   "id": "d091699c",
   "metadata": {
    "papermill": {
     "duration": 0.034726,
     "end_time": "2024-10-02T11:16:24.452221",
     "exception": false,
     "start_time": "2024-10-02T11:16:24.417495",
     "status": "completed"
    },
    "tags": []
   },
   "source": [
    "# 3. Feature Engineering"
   ]
  },
  {
   "cell_type": "markdown",
   "id": "26d10f69",
   "metadata": {
    "papermill": {
     "duration": 0.034214,
     "end_time": "2024-10-02T11:16:24.521041",
     "exception": false,
     "start_time": "2024-10-02T11:16:24.486827",
     "status": "completed"
    },
    "tags": []
   },
   "source": [
    "In this section we will create a new features out of existing ones that may conatin high predictive power, so let's dive in!"
   ]
  },
  {
   "cell_type": "code",
   "execution_count": 21,
   "id": "082e7ced",
   "metadata": {
    "execution": {
     "iopub.execute_input": "2024-10-02T11:16:24.591747Z",
     "iopub.status.busy": "2024-10-02T11:16:24.591288Z",
     "iopub.status.idle": "2024-10-02T11:16:24.606688Z",
     "shell.execute_reply": "2024-10-02T11:16:24.605692Z"
    },
    "papermill": {
     "duration": 0.053731,
     "end_time": "2024-10-02T11:16:24.609144",
     "exception": false,
     "start_time": "2024-10-02T11:16:24.555413",
     "status": "completed"
    },
    "tags": []
   },
   "outputs": [
    {
     "data": {
      "text/plain": [
       "0         Mr\n",
       "1        Mrs\n",
       "2       Miss\n",
       "3        Mrs\n",
       "4         Mr\n",
       "       ...  \n",
       "886      Rev\n",
       "887     Miss\n",
       "888     Miss\n",
       "889       Mr\n",
       "890       Mr\n",
       "Name: 0, Length: 891, dtype: object"
      ]
     },
     "execution_count": 21,
     "metadata": {},
     "output_type": "execute_result"
    }
   ],
   "source": [
    "# Let's breakdown first the Name column to extract titles, feel free to do this step by step at first\n",
    "title_names = train_df['Name'].str.split(',', expand=True)[1].str.split('.', expand=True)[0]\n",
    "title_names"
   ]
  },
  {
   "cell_type": "code",
   "execution_count": 22,
   "id": "0d592cf7",
   "metadata": {
    "execution": {
     "iopub.execute_input": "2024-10-02T11:16:24.681054Z",
     "iopub.status.busy": "2024-10-02T11:16:24.680583Z",
     "iopub.status.idle": "2024-10-02T11:16:24.691317Z",
     "shell.execute_reply": "2024-10-02T11:16:24.689875Z"
    },
    "papermill": {
     "duration": 0.049164,
     "end_time": "2024-10-02T11:16:24.693814",
     "exception": false,
     "start_time": "2024-10-02T11:16:24.644650",
     "status": "completed"
    },
    "tags": []
   },
   "outputs": [
    {
     "data": {
      "text/plain": [
       "0\n",
       "Mr              517\n",
       "Miss            182\n",
       "Mrs             125\n",
       "Master           40\n",
       "Dr                7\n",
       "Rev               6\n",
       "Mlle              2\n",
       "Major             2\n",
       "Col               2\n",
       "the Countess      1\n",
       "Capt              1\n",
       "Ms                1\n",
       "Sir               1\n",
       "Lady              1\n",
       "Mme               1\n",
       "Don               1\n",
       "Jonkheer          1\n",
       "Name: count, dtype: int64"
      ]
     },
     "execution_count": 22,
     "metadata": {},
     "output_type": "execute_result"
    }
   ],
   "source": [
    "title_names.value_counts()"
   ]
  },
  {
   "cell_type": "code",
   "execution_count": 23,
   "id": "ee08a457",
   "metadata": {
    "execution": {
     "iopub.execute_input": "2024-10-02T11:16:24.765038Z",
     "iopub.status.busy": "2024-10-02T11:16:24.764584Z",
     "iopub.status.idle": "2024-10-02T11:16:24.775100Z",
     "shell.execute_reply": "2024-10-02T11:16:24.773878Z"
    },
    "papermill": {
     "duration": 0.048818,
     "end_time": "2024-10-02T11:16:24.777563",
     "exception": false,
     "start_time": "2024-10-02T11:16:24.728745",
     "status": "completed"
    },
    "tags": []
   },
   "outputs": [
    {
     "data": {
      "text/plain": [
       "Index([' Mr', ' Miss', ' Mrs', ' Master'], dtype='object', name=0)"
      ]
     },
     "execution_count": 23,
     "metadata": {},
     "output_type": "execute_result"
    }
   ],
   "source": [
    "top_titles = title_names.value_counts().nlargest(4).index\n",
    "top_titles"
   ]
  },
  {
   "cell_type": "markdown",
   "id": "f1251981",
   "metadata": {
    "papermill": {
     "duration": 0.034196,
     "end_time": "2024-10-02T11:16:24.846576",
     "exception": false,
     "start_time": "2024-10-02T11:16:24.812380",
     "status": "completed"
    },
    "tags": []
   },
   "source": [
    "Note that these values contain unwanted spacing [' Mr', ' Miss', ' Mrs', ' Master'], so use the `strip()` method to remove it.\n"
   ]
  },
  {
   "cell_type": "code",
   "execution_count": 24,
   "id": "2fd9c233",
   "metadata": {
    "execution": {
     "iopub.execute_input": "2024-10-02T11:16:24.918819Z",
     "iopub.status.busy": "2024-10-02T11:16:24.918000Z",
     "iopub.status.idle": "2024-10-02T11:16:24.930488Z",
     "shell.execute_reply": "2024-10-02T11:16:24.928679Z"
    },
    "papermill": {
     "duration": 0.051532,
     "end_time": "2024-10-02T11:16:24.933428",
     "exception": false,
     "start_time": "2024-10-02T11:16:24.881896",
     "status": "completed"
    },
    "tags": []
   },
   "outputs": [
    {
     "data": {
      "text/plain": [
       "0        Mr\n",
       "1       Mrs\n",
       "2      Miss\n",
       "3       Mrs\n",
       "4        Mr\n",
       "       ... \n",
       "886     Rev\n",
       "887    Miss\n",
       "888    Miss\n",
       "889      Mr\n",
       "890      Mr\n",
       "Name: 0, Length: 891, dtype: object"
      ]
     },
     "execution_count": 24,
     "metadata": {},
     "output_type": "execute_result"
    }
   ],
   "source": [
    "title_names.str.strip()"
   ]
  },
  {
   "cell_type": "code",
   "execution_count": 25,
   "id": "b177ff76",
   "metadata": {
    "execution": {
     "iopub.execute_input": "2024-10-02T11:16:25.007074Z",
     "iopub.status.busy": "2024-10-02T11:16:25.006601Z",
     "iopub.status.idle": "2024-10-02T11:16:25.023470Z",
     "shell.execute_reply": "2024-10-02T11:16:25.022369Z"
    },
    "papermill": {
     "duration": 0.056587,
     "end_time": "2024-10-02T11:16:25.026205",
     "exception": false,
     "start_time": "2024-10-02T11:16:24.969618",
     "status": "completed"
    },
    "tags": []
   },
   "outputs": [],
   "source": [
    "def feature_engineering(df, train_split=True):\n",
    "    \"\"\"\n",
    "    Perform feature engineering on the provided dataframe.\n",
    "\n",
    "    Parameters:\n",
    "    df: DataFrame\n",
    "        The input dataframe, either the training or test set.\n",
    "    train_split: bool\n",
    "        Specifies whether the dataframe is a training set (True) or test set (False).\n",
    "        This helps avoid data leakage by ensuring that bins for Age and Fare are derived from the training data only.\n",
    "\n",
    "    Returns:\n",
    "    DataFrame\n",
    "        The modified dataframe with additional features.\n",
    "    \"\"\"\n",
    "    \n",
    "    # Family size variable: total family members including the individual\n",
    "    df['FamilySize'] = df['SibSp'] + df['Parch'] + 1\n",
    "    \n",
    "    # IsAlone variable: equals 1 if FamilySize is 1, else equals 0\n",
    "    df['IsAlone'] = df['FamilySize'].map(lambda x: 1 if x == 1 else 0)\n",
    "    \n",
    "    # Extract titles from the Name column (e.g., Mr, Miss, Master)\n",
    "    df['Title'] = df['Name'].str.split(',', expand=True)[1].str.split('.', expand=True)[0].str.strip()\n",
    "    \n",
    "    # Define the top four titles for consistency\n",
    "    top_titles = ['Mr', 'Miss', 'Mrs', 'Master']\n",
    "    \n",
    "    # Replace uncommon titles with more common equivalents\n",
    "    df['Title'] = df['Title'].replace({'Mlle': 'Miss', 'Ms': 'Miss', 'Mme': 'Mrs'})\n",
    "    \n",
    "    # Group titles that are not in the top four as 'Rare'\n",
    "    df['Title'] = df['Title'].apply(lambda x: x if x in top_titles else 'Rare')\n",
    "    \n",
    "    # Drop the Name column as it is no longer needed\n",
    "    df.drop(columns='Name', inplace=True)\n",
    "\n",
    "    \"\"\"\n",
    "    qcut is used to divide the data into equal-sized bins (quantiles).\n",
    "    Unlike cut, which divides data based on the range of values,\n",
    "    qcut ensures each bin has the same number of observations.\n",
    "    \"\"\"\n",
    "    \n",
    "    if train_split:\n",
    "        # Create 4 quantiles for the 'Fare' column\n",
    "        df['FareBin'] = pd.qcut(df['Fare'], q=4)\n",
    "        # Create 5 bins for the 'Age' column\n",
    "        df['AgeBin'] = pd.cut(df['Age'].astype(int), bins=5)\n",
    "    else:\n",
    "        # Obtain bins from the training set to avoid leakage\n",
    "        fare_bins = pd.qcut(train_df['Fare'], q=4, retbins=True)[1]\n",
    "        age_bins = pd.cut(train_df['Age'].astype(int), bins=5, retbins=True)[1]  # Get bin edges\n",
    "        \n",
    "        # Assign the bins to the test dataframe based on the training bins\n",
    "        df['FareBin'] = pd.cut(df['Fare'], bins=fare_bins, include_lowest=True)\n",
    "        df['AgeBin'] = pd.cut(df['Age'].astype(int), bins=age_bins, include_lowest=True)\n",
    "    \n",
    "    # Encode the 'Sex' column: map female to 0 and male to 1\n",
    "    df['Sex'] = df['Sex'].map(lambda x: 0 if x == 'female' else 1)\n",
    "    \n",
    "    return df\n"
   ]
  },
  {
   "cell_type": "code",
   "execution_count": 26,
   "id": "b1ce4ebf",
   "metadata": {
    "execution": {
     "iopub.execute_input": "2024-10-02T11:16:25.098566Z",
     "iopub.status.busy": "2024-10-02T11:16:25.098158Z",
     "iopub.status.idle": "2024-10-02T11:16:25.143381Z",
     "shell.execute_reply": "2024-10-02T11:16:25.142241Z"
    },
    "papermill": {
     "duration": 0.084881,
     "end_time": "2024-10-02T11:16:25.146462",
     "exception": false,
     "start_time": "2024-10-02T11:16:25.061581",
     "status": "completed"
    },
    "tags": []
   },
   "outputs": [
    {
     "data": {
      "text/html": [
       "<div>\n",
       "<style scoped>\n",
       "    .dataframe tbody tr th:only-of-type {\n",
       "        vertical-align: middle;\n",
       "    }\n",
       "\n",
       "    .dataframe tbody tr th {\n",
       "        vertical-align: top;\n",
       "    }\n",
       "\n",
       "    .dataframe thead th {\n",
       "        text-align: right;\n",
       "    }\n",
       "</style>\n",
       "<table border=\"1\" class=\"dataframe\">\n",
       "  <thead>\n",
       "    <tr style=\"text-align: right;\">\n",
       "      <th></th>\n",
       "      <th>PassengerId</th>\n",
       "      <th>Survived</th>\n",
       "      <th>Pclass</th>\n",
       "      <th>Sex</th>\n",
       "      <th>Age</th>\n",
       "      <th>SibSp</th>\n",
       "      <th>Parch</th>\n",
       "      <th>Fare</th>\n",
       "      <th>Embarked</th>\n",
       "      <th>FamilySize</th>\n",
       "      <th>IsAlone</th>\n",
       "      <th>Title</th>\n",
       "      <th>FareBin</th>\n",
       "      <th>AgeBin</th>\n",
       "    </tr>\n",
       "  </thead>\n",
       "  <tbody>\n",
       "    <tr>\n",
       "      <th>0</th>\n",
       "      <td>1</td>\n",
       "      <td>0</td>\n",
       "      <td>3</td>\n",
       "      <td>1</td>\n",
       "      <td>22.0</td>\n",
       "      <td>1</td>\n",
       "      <td>0</td>\n",
       "      <td>7.2500</td>\n",
       "      <td>S</td>\n",
       "      <td>2</td>\n",
       "      <td>0</td>\n",
       "      <td>Mr</td>\n",
       "      <td>(-0.001, 7.91]</td>\n",
       "      <td>(16.0, 32.0]</td>\n",
       "    </tr>\n",
       "    <tr>\n",
       "      <th>1</th>\n",
       "      <td>2</td>\n",
       "      <td>1</td>\n",
       "      <td>1</td>\n",
       "      <td>0</td>\n",
       "      <td>38.0</td>\n",
       "      <td>1</td>\n",
       "      <td>0</td>\n",
       "      <td>71.2833</td>\n",
       "      <td>C</td>\n",
       "      <td>2</td>\n",
       "      <td>0</td>\n",
       "      <td>Mrs</td>\n",
       "      <td>(31.0, 512.329]</td>\n",
       "      <td>(32.0, 48.0]</td>\n",
       "    </tr>\n",
       "    <tr>\n",
       "      <th>2</th>\n",
       "      <td>3</td>\n",
       "      <td>1</td>\n",
       "      <td>3</td>\n",
       "      <td>0</td>\n",
       "      <td>26.0</td>\n",
       "      <td>0</td>\n",
       "      <td>0</td>\n",
       "      <td>7.9250</td>\n",
       "      <td>S</td>\n",
       "      <td>1</td>\n",
       "      <td>1</td>\n",
       "      <td>Miss</td>\n",
       "      <td>(7.91, 14.454]</td>\n",
       "      <td>(16.0, 32.0]</td>\n",
       "    </tr>\n",
       "    <tr>\n",
       "      <th>3</th>\n",
       "      <td>4</td>\n",
       "      <td>1</td>\n",
       "      <td>1</td>\n",
       "      <td>0</td>\n",
       "      <td>35.0</td>\n",
       "      <td>1</td>\n",
       "      <td>0</td>\n",
       "      <td>53.1000</td>\n",
       "      <td>S</td>\n",
       "      <td>2</td>\n",
       "      <td>0</td>\n",
       "      <td>Mrs</td>\n",
       "      <td>(31.0, 512.329]</td>\n",
       "      <td>(32.0, 48.0]</td>\n",
       "    </tr>\n",
       "    <tr>\n",
       "      <th>4</th>\n",
       "      <td>5</td>\n",
       "      <td>0</td>\n",
       "      <td>3</td>\n",
       "      <td>1</td>\n",
       "      <td>35.0</td>\n",
       "      <td>0</td>\n",
       "      <td>0</td>\n",
       "      <td>8.0500</td>\n",
       "      <td>S</td>\n",
       "      <td>1</td>\n",
       "      <td>1</td>\n",
       "      <td>Mr</td>\n",
       "      <td>(7.91, 14.454]</td>\n",
       "      <td>(32.0, 48.0]</td>\n",
       "    </tr>\n",
       "  </tbody>\n",
       "</table>\n",
       "</div>"
      ],
      "text/plain": [
       "   PassengerId  Survived  Pclass  Sex   Age  SibSp  Parch     Fare Embarked  \\\n",
       "0            1         0       3    1  22.0      1      0   7.2500        S   \n",
       "1            2         1       1    0  38.0      1      0  71.2833        C   \n",
       "2            3         1       3    0  26.0      0      0   7.9250        S   \n",
       "3            4         1       1    0  35.0      1      0  53.1000        S   \n",
       "4            5         0       3    1  35.0      0      0   8.0500        S   \n",
       "\n",
       "   FamilySize  IsAlone Title          FareBin        AgeBin  \n",
       "0           2        0    Mr   (-0.001, 7.91]  (16.0, 32.0]  \n",
       "1           2        0   Mrs  (31.0, 512.329]  (32.0, 48.0]  \n",
       "2           1        1  Miss   (7.91, 14.454]  (16.0, 32.0]  \n",
       "3           2        0   Mrs  (31.0, 512.329]  (32.0, 48.0]  \n",
       "4           1        1    Mr   (7.91, 14.454]  (32.0, 48.0]  "
      ]
     },
     "execution_count": 26,
     "metadata": {},
     "output_type": "execute_result"
    }
   ],
   "source": [
    "train_df = feature_engineering(train_df)\n",
    "train_df.head()"
   ]
  },
  {
   "cell_type": "code",
   "execution_count": 27,
   "id": "0cf3b6f5",
   "metadata": {
    "execution": {
     "iopub.execute_input": "2024-10-02T11:16:25.219666Z",
     "iopub.status.busy": "2024-10-02T11:16:25.219262Z",
     "iopub.status.idle": "2024-10-02T11:16:25.257610Z",
     "shell.execute_reply": "2024-10-02T11:16:25.256526Z"
    },
    "papermill": {
     "duration": 0.078232,
     "end_time": "2024-10-02T11:16:25.260379",
     "exception": false,
     "start_time": "2024-10-02T11:16:25.182147",
     "status": "completed"
    },
    "tags": []
   },
   "outputs": [
    {
     "data": {
      "text/html": [
       "<div>\n",
       "<style scoped>\n",
       "    .dataframe tbody tr th:only-of-type {\n",
       "        vertical-align: middle;\n",
       "    }\n",
       "\n",
       "    .dataframe tbody tr th {\n",
       "        vertical-align: top;\n",
       "    }\n",
       "\n",
       "    .dataframe thead th {\n",
       "        text-align: right;\n",
       "    }\n",
       "</style>\n",
       "<table border=\"1\" class=\"dataframe\">\n",
       "  <thead>\n",
       "    <tr style=\"text-align: right;\">\n",
       "      <th></th>\n",
       "      <th>PassengerId</th>\n",
       "      <th>Pclass</th>\n",
       "      <th>Sex</th>\n",
       "      <th>Age</th>\n",
       "      <th>SibSp</th>\n",
       "      <th>Parch</th>\n",
       "      <th>Fare</th>\n",
       "      <th>Embarked</th>\n",
       "      <th>FamilySize</th>\n",
       "      <th>IsAlone</th>\n",
       "      <th>Title</th>\n",
       "      <th>FareBin</th>\n",
       "      <th>AgeBin</th>\n",
       "    </tr>\n",
       "  </thead>\n",
       "  <tbody>\n",
       "    <tr>\n",
       "      <th>0</th>\n",
       "      <td>892</td>\n",
       "      <td>3</td>\n",
       "      <td>1</td>\n",
       "      <td>34.5</td>\n",
       "      <td>0</td>\n",
       "      <td>0</td>\n",
       "      <td>7.8292</td>\n",
       "      <td>Q</td>\n",
       "      <td>1</td>\n",
       "      <td>1</td>\n",
       "      <td>Mr</td>\n",
       "      <td>(-0.001, 7.91]</td>\n",
       "      <td>(32.0, 48.0]</td>\n",
       "    </tr>\n",
       "    <tr>\n",
       "      <th>1</th>\n",
       "      <td>893</td>\n",
       "      <td>3</td>\n",
       "      <td>0</td>\n",
       "      <td>47.0</td>\n",
       "      <td>1</td>\n",
       "      <td>0</td>\n",
       "      <td>7.0000</td>\n",
       "      <td>S</td>\n",
       "      <td>2</td>\n",
       "      <td>0</td>\n",
       "      <td>Mrs</td>\n",
       "      <td>(-0.001, 7.91]</td>\n",
       "      <td>(32.0, 48.0]</td>\n",
       "    </tr>\n",
       "    <tr>\n",
       "      <th>2</th>\n",
       "      <td>894</td>\n",
       "      <td>2</td>\n",
       "      <td>1</td>\n",
       "      <td>62.0</td>\n",
       "      <td>0</td>\n",
       "      <td>0</td>\n",
       "      <td>9.6875</td>\n",
       "      <td>Q</td>\n",
       "      <td>1</td>\n",
       "      <td>1</td>\n",
       "      <td>Mr</td>\n",
       "      <td>(7.91, 14.454]</td>\n",
       "      <td>(48.0, 64.0]</td>\n",
       "    </tr>\n",
       "    <tr>\n",
       "      <th>3</th>\n",
       "      <td>895</td>\n",
       "      <td>3</td>\n",
       "      <td>1</td>\n",
       "      <td>27.0</td>\n",
       "      <td>0</td>\n",
       "      <td>0</td>\n",
       "      <td>8.6625</td>\n",
       "      <td>S</td>\n",
       "      <td>1</td>\n",
       "      <td>1</td>\n",
       "      <td>Mr</td>\n",
       "      <td>(7.91, 14.454]</td>\n",
       "      <td>(16.0, 32.0]</td>\n",
       "    </tr>\n",
       "    <tr>\n",
       "      <th>4</th>\n",
       "      <td>896</td>\n",
       "      <td>3</td>\n",
       "      <td>0</td>\n",
       "      <td>22.0</td>\n",
       "      <td>1</td>\n",
       "      <td>1</td>\n",
       "      <td>12.2875</td>\n",
       "      <td>S</td>\n",
       "      <td>3</td>\n",
       "      <td>0</td>\n",
       "      <td>Mrs</td>\n",
       "      <td>(7.91, 14.454]</td>\n",
       "      <td>(16.0, 32.0]</td>\n",
       "    </tr>\n",
       "  </tbody>\n",
       "</table>\n",
       "</div>"
      ],
      "text/plain": [
       "   PassengerId  Pclass  Sex   Age  SibSp  Parch     Fare Embarked  FamilySize  \\\n",
       "0          892       3    1  34.5      0      0   7.8292        Q           1   \n",
       "1          893       3    0  47.0      1      0   7.0000        S           2   \n",
       "2          894       2    1  62.0      0      0   9.6875        Q           1   \n",
       "3          895       3    1  27.0      0      0   8.6625        S           1   \n",
       "4          896       3    0  22.0      1      1  12.2875        S           3   \n",
       "\n",
       "   IsAlone Title         FareBin        AgeBin  \n",
       "0        1    Mr  (-0.001, 7.91]  (32.0, 48.0]  \n",
       "1        0   Mrs  (-0.001, 7.91]  (32.0, 48.0]  \n",
       "2        1    Mr  (7.91, 14.454]  (48.0, 64.0]  \n",
       "3        1    Mr  (7.91, 14.454]  (16.0, 32.0]  \n",
       "4        0   Mrs  (7.91, 14.454]  (16.0, 32.0]  "
      ]
     },
     "execution_count": 27,
     "metadata": {},
     "output_type": "execute_result"
    }
   ],
   "source": [
    "test_df = feature_engineering(test_df, train_split=False)\n",
    "test_df.head()"
   ]
  },
  {
   "cell_type": "markdown",
   "id": "76fe51d6",
   "metadata": {
    "papermill": {
     "duration": 0.036032,
     "end_time": "2024-10-02T11:16:25.332400",
     "exception": false,
     "start_time": "2024-10-02T11:16:25.296368",
     "status": "completed"
    },
    "tags": []
   },
   "source": [
    "We shall check for inconsistencies, such as the occurrence of males with the title \"Miss.\" We can use a pivot table combined with additional filtering to identify any such mismatches.\n"
   ]
  },
  {
   "cell_type": "code",
   "execution_count": 28,
   "id": "1c60ee7e",
   "metadata": {
    "execution": {
     "iopub.execute_input": "2024-10-02T11:16:25.405178Z",
     "iopub.status.busy": "2024-10-02T11:16:25.404748Z",
     "iopub.status.idle": "2024-10-02T11:16:25.423664Z",
     "shell.execute_reply": "2024-10-02T11:16:25.422299Z"
    },
    "papermill": {
     "duration": 0.058523,
     "end_time": "2024-10-02T11:16:25.426391",
     "exception": false,
     "start_time": "2024-10-02T11:16:25.367868",
     "status": "completed"
    },
    "tags": []
   },
   "outputs": [
    {
     "data": {
      "text/html": [
       "<div>\n",
       "<style scoped>\n",
       "    .dataframe tbody tr th:only-of-type {\n",
       "        vertical-align: middle;\n",
       "    }\n",
       "\n",
       "    .dataframe tbody tr th {\n",
       "        vertical-align: top;\n",
       "    }\n",
       "\n",
       "    .dataframe thead th {\n",
       "        text-align: right;\n",
       "    }\n",
       "</style>\n",
       "<table border=\"1\" class=\"dataframe\">\n",
       "  <thead>\n",
       "    <tr style=\"text-align: right;\">\n",
       "      <th>Sex</th>\n",
       "      <th>0</th>\n",
       "      <th>1</th>\n",
       "    </tr>\n",
       "    <tr>\n",
       "      <th>Title</th>\n",
       "      <th></th>\n",
       "      <th></th>\n",
       "    </tr>\n",
       "  </thead>\n",
       "  <tbody>\n",
       "    <tr>\n",
       "      <th>Master</th>\n",
       "      <td>0</td>\n",
       "      <td>40</td>\n",
       "    </tr>\n",
       "    <tr>\n",
       "      <th>Miss</th>\n",
       "      <td>185</td>\n",
       "      <td>0</td>\n",
       "    </tr>\n",
       "    <tr>\n",
       "      <th>Mr</th>\n",
       "      <td>0</td>\n",
       "      <td>517</td>\n",
       "    </tr>\n",
       "    <tr>\n",
       "      <th>Mrs</th>\n",
       "      <td>126</td>\n",
       "      <td>0</td>\n",
       "    </tr>\n",
       "    <tr>\n",
       "      <th>Rare</th>\n",
       "      <td>3</td>\n",
       "      <td>20</td>\n",
       "    </tr>\n",
       "  </tbody>\n",
       "</table>\n",
       "</div>"
      ],
      "text/plain": [
       "Sex       0    1\n",
       "Title           \n",
       "Master    0   40\n",
       "Miss    185    0\n",
       "Mr        0  517\n",
       "Mrs     126    0\n",
       "Rare      3   20"
      ]
     },
     "execution_count": 28,
     "metadata": {},
     "output_type": "execute_result"
    }
   ],
   "source": [
    "pivot_table = train_df.pivot_table(index='Title', columns='Sex', aggfunc='size', fill_value=0)\n",
    "pivot_table"
   ]
  },
  {
   "cell_type": "markdown",
   "id": "85ce8fac",
   "metadata": {
    "papermill": {
     "duration": 0.036511,
     "end_time": "2024-10-02T11:16:25.500044",
     "exception": false,
     "start_time": "2024-10-02T11:16:25.463533",
     "status": "completed"
    },
    "tags": []
   },
   "source": [
    "Great! Let's continue.."
   ]
  },
  {
   "cell_type": "markdown",
   "id": "29254d6a",
   "metadata": {
    "papermill": {
     "duration": 0.035707,
     "end_time": "2024-10-02T11:16:25.571872",
     "exception": false,
     "start_time": "2024-10-02T11:16:25.536165",
     "status": "completed"
    },
    "tags": []
   },
   "source": [
    "# 4. EDA & Feature Selection"
   ]
  },
  {
   "cell_type": "code",
   "execution_count": 29,
   "id": "b4c034dd",
   "metadata": {
    "execution": {
     "iopub.execute_input": "2024-10-02T11:16:25.645618Z",
     "iopub.status.busy": "2024-10-02T11:16:25.645207Z",
     "iopub.status.idle": "2024-10-02T11:16:25.661598Z",
     "shell.execute_reply": "2024-10-02T11:16:25.660214Z"
    },
    "papermill": {
     "duration": 0.056133,
     "end_time": "2024-10-02T11:16:25.663971",
     "exception": false,
     "start_time": "2024-10-02T11:16:25.607838",
     "status": "completed"
    },
    "tags": []
   },
   "outputs": [
    {
     "data": {
      "text/html": [
       "<div>\n",
       "<style scoped>\n",
       "    .dataframe tbody tr th:only-of-type {\n",
       "        vertical-align: middle;\n",
       "    }\n",
       "\n",
       "    .dataframe tbody tr th {\n",
       "        vertical-align: top;\n",
       "    }\n",
       "\n",
       "    .dataframe thead th {\n",
       "        text-align: right;\n",
       "    }\n",
       "</style>\n",
       "<table border=\"1\" class=\"dataframe\">\n",
       "  <thead>\n",
       "    <tr style=\"text-align: right;\">\n",
       "      <th></th>\n",
       "      <th>Survived</th>\n",
       "    </tr>\n",
       "    <tr>\n",
       "      <th>FamilySize</th>\n",
       "      <th></th>\n",
       "    </tr>\n",
       "  </thead>\n",
       "  <tbody>\n",
       "    <tr>\n",
       "      <th>4</th>\n",
       "      <td>0.724138</td>\n",
       "    </tr>\n",
       "    <tr>\n",
       "      <th>3</th>\n",
       "      <td>0.578431</td>\n",
       "    </tr>\n",
       "    <tr>\n",
       "      <th>2</th>\n",
       "      <td>0.552795</td>\n",
       "    </tr>\n",
       "    <tr>\n",
       "      <th>7</th>\n",
       "      <td>0.333333</td>\n",
       "    </tr>\n",
       "    <tr>\n",
       "      <th>1</th>\n",
       "      <td>0.303538</td>\n",
       "    </tr>\n",
       "    <tr>\n",
       "      <th>5</th>\n",
       "      <td>0.200000</td>\n",
       "    </tr>\n",
       "    <tr>\n",
       "      <th>6</th>\n",
       "      <td>0.136364</td>\n",
       "    </tr>\n",
       "    <tr>\n",
       "      <th>8</th>\n",
       "      <td>0.000000</td>\n",
       "    </tr>\n",
       "    <tr>\n",
       "      <th>11</th>\n",
       "      <td>0.000000</td>\n",
       "    </tr>\n",
       "  </tbody>\n",
       "</table>\n",
       "</div>"
      ],
      "text/plain": [
       "            Survived\n",
       "FamilySize          \n",
       "4           0.724138\n",
       "3           0.578431\n",
       "2           0.552795\n",
       "7           0.333333\n",
       "1           0.303538\n",
       "5           0.200000\n",
       "6           0.136364\n",
       "8           0.000000\n",
       "11          0.000000"
      ]
     },
     "execution_count": 29,
     "metadata": {},
     "output_type": "execute_result"
    }
   ],
   "source": [
    "train_df[['FamilySize', 'Survived']] \\\n",
    "    .groupby('FamilySize') \\\n",
    "    .mean() \\\n",
    "    .sort_values(by='Survived', ascending=False)"
   ]
  },
  {
   "cell_type": "code",
   "execution_count": 30,
   "id": "73003093",
   "metadata": {
    "execution": {
     "iopub.execute_input": "2024-10-02T11:16:25.737868Z",
     "iopub.status.busy": "2024-10-02T11:16:25.737431Z",
     "iopub.status.idle": "2024-10-02T11:16:25.752512Z",
     "shell.execute_reply": "2024-10-02T11:16:25.751419Z"
    },
    "papermill": {
     "duration": 0.055025,
     "end_time": "2024-10-02T11:16:25.755167",
     "exception": false,
     "start_time": "2024-10-02T11:16:25.700142",
     "status": "completed"
    },
    "tags": []
   },
   "outputs": [
    {
     "data": {
      "text/html": [
       "<div>\n",
       "<style scoped>\n",
       "    .dataframe tbody tr th:only-of-type {\n",
       "        vertical-align: middle;\n",
       "    }\n",
       "\n",
       "    .dataframe tbody tr th {\n",
       "        vertical-align: top;\n",
       "    }\n",
       "\n",
       "    .dataframe thead th {\n",
       "        text-align: right;\n",
       "    }\n",
       "</style>\n",
       "<table border=\"1\" class=\"dataframe\">\n",
       "  <thead>\n",
       "    <tr style=\"text-align: right;\">\n",
       "      <th></th>\n",
       "      <th>Survived</th>\n",
       "    </tr>\n",
       "    <tr>\n",
       "      <th>IsAlone</th>\n",
       "      <th></th>\n",
       "    </tr>\n",
       "  </thead>\n",
       "  <tbody>\n",
       "    <tr>\n",
       "      <th>0</th>\n",
       "      <td>0.505650</td>\n",
       "    </tr>\n",
       "    <tr>\n",
       "      <th>1</th>\n",
       "      <td>0.303538</td>\n",
       "    </tr>\n",
       "  </tbody>\n",
       "</table>\n",
       "</div>"
      ],
      "text/plain": [
       "         Survived\n",
       "IsAlone          \n",
       "0        0.505650\n",
       "1        0.303538"
      ]
     },
     "execution_count": 30,
     "metadata": {},
     "output_type": "execute_result"
    }
   ],
   "source": [
    "train_df[['IsAlone', 'Survived']] \\\n",
    "    .groupby('IsAlone') \\\n",
    "    .mean() \\\n",
    "    .sort_values(by = 'Survived', ascending=False)"
   ]
  },
  {
   "cell_type": "markdown",
   "id": "f1fdbdd7",
   "metadata": {
    "papermill": {
     "duration": 0.036618,
     "end_time": "2024-10-02T11:16:25.828542",
     "exception": false,
     "start_time": "2024-10-02T11:16:25.791924",
     "status": "completed"
    },
    "tags": []
   },
   "source": [
    "So, we can see that around 50% of people with their families survived, while only 30% of those who are alone survived. Then, we can select the IsAlone feature and drop [Parch, SibSp, FamilySize].\n"
   ]
  },
  {
   "cell_type": "code",
   "execution_count": 31,
   "id": "6839625f",
   "metadata": {
    "execution": {
     "iopub.execute_input": "2024-10-02T11:16:25.903832Z",
     "iopub.status.busy": "2024-10-02T11:16:25.902862Z",
     "iopub.status.idle": "2024-10-02T11:16:25.911667Z",
     "shell.execute_reply": "2024-10-02T11:16:25.910441Z"
    },
    "papermill": {
     "duration": 0.049343,
     "end_time": "2024-10-02T11:16:25.914276",
     "exception": false,
     "start_time": "2024-10-02T11:16:25.864933",
     "status": "completed"
    },
    "tags": []
   },
   "outputs": [],
   "source": [
    "train_df.drop(columns=['Parch', 'SibSp', 'FamilySize'], inplace=True)\n",
    "test_df.drop(columns=['Parch', 'SibSp', 'FamilySize'], inplace=True)"
   ]
  },
  {
   "cell_type": "code",
   "execution_count": 32,
   "id": "51034532",
   "metadata": {
    "execution": {
     "iopub.execute_input": "2024-10-02T11:16:25.991297Z",
     "iopub.status.busy": "2024-10-02T11:16:25.990847Z",
     "iopub.status.idle": "2024-10-02T11:16:26.011072Z",
     "shell.execute_reply": "2024-10-02T11:16:26.009767Z"
    },
    "papermill": {
     "duration": 0.061215,
     "end_time": "2024-10-02T11:16:26.013713",
     "exception": false,
     "start_time": "2024-10-02T11:16:25.952498",
     "status": "completed"
    },
    "tags": []
   },
   "outputs": [
    {
     "data": {
      "text/html": [
       "<div>\n",
       "<style scoped>\n",
       "    .dataframe tbody tr th:only-of-type {\n",
       "        vertical-align: middle;\n",
       "    }\n",
       "\n",
       "    .dataframe tbody tr th {\n",
       "        vertical-align: top;\n",
       "    }\n",
       "\n",
       "    .dataframe thead th {\n",
       "        text-align: right;\n",
       "    }\n",
       "</style>\n",
       "<table border=\"1\" class=\"dataframe\">\n",
       "  <thead>\n",
       "    <tr style=\"text-align: right;\">\n",
       "      <th></th>\n",
       "      <th>PassengerId</th>\n",
       "      <th>Survived</th>\n",
       "      <th>Pclass</th>\n",
       "      <th>Sex</th>\n",
       "      <th>Age</th>\n",
       "      <th>Fare</th>\n",
       "      <th>Embarked</th>\n",
       "      <th>IsAlone</th>\n",
       "      <th>Title</th>\n",
       "      <th>FareBin</th>\n",
       "      <th>AgeBin</th>\n",
       "    </tr>\n",
       "  </thead>\n",
       "  <tbody>\n",
       "    <tr>\n",
       "      <th>0</th>\n",
       "      <td>1</td>\n",
       "      <td>0</td>\n",
       "      <td>3</td>\n",
       "      <td>1</td>\n",
       "      <td>22.0</td>\n",
       "      <td>7.2500</td>\n",
       "      <td>S</td>\n",
       "      <td>0</td>\n",
       "      <td>Mr</td>\n",
       "      <td>(-0.001, 7.91]</td>\n",
       "      <td>(16.0, 32.0]</td>\n",
       "    </tr>\n",
       "    <tr>\n",
       "      <th>1</th>\n",
       "      <td>2</td>\n",
       "      <td>1</td>\n",
       "      <td>1</td>\n",
       "      <td>0</td>\n",
       "      <td>38.0</td>\n",
       "      <td>71.2833</td>\n",
       "      <td>C</td>\n",
       "      <td>0</td>\n",
       "      <td>Mrs</td>\n",
       "      <td>(31.0, 512.329]</td>\n",
       "      <td>(32.0, 48.0]</td>\n",
       "    </tr>\n",
       "    <tr>\n",
       "      <th>2</th>\n",
       "      <td>3</td>\n",
       "      <td>1</td>\n",
       "      <td>3</td>\n",
       "      <td>0</td>\n",
       "      <td>26.0</td>\n",
       "      <td>7.9250</td>\n",
       "      <td>S</td>\n",
       "      <td>1</td>\n",
       "      <td>Miss</td>\n",
       "      <td>(7.91, 14.454]</td>\n",
       "      <td>(16.0, 32.0]</td>\n",
       "    </tr>\n",
       "    <tr>\n",
       "      <th>3</th>\n",
       "      <td>4</td>\n",
       "      <td>1</td>\n",
       "      <td>1</td>\n",
       "      <td>0</td>\n",
       "      <td>35.0</td>\n",
       "      <td>53.1000</td>\n",
       "      <td>S</td>\n",
       "      <td>0</td>\n",
       "      <td>Mrs</td>\n",
       "      <td>(31.0, 512.329]</td>\n",
       "      <td>(32.0, 48.0]</td>\n",
       "    </tr>\n",
       "    <tr>\n",
       "      <th>4</th>\n",
       "      <td>5</td>\n",
       "      <td>0</td>\n",
       "      <td>3</td>\n",
       "      <td>1</td>\n",
       "      <td>35.0</td>\n",
       "      <td>8.0500</td>\n",
       "      <td>S</td>\n",
       "      <td>1</td>\n",
       "      <td>Mr</td>\n",
       "      <td>(7.91, 14.454]</td>\n",
       "      <td>(32.0, 48.0]</td>\n",
       "    </tr>\n",
       "  </tbody>\n",
       "</table>\n",
       "</div>"
      ],
      "text/plain": [
       "   PassengerId  Survived  Pclass  Sex   Age     Fare Embarked  IsAlone Title  \\\n",
       "0            1         0       3    1  22.0   7.2500        S        0    Mr   \n",
       "1            2         1       1    0  38.0  71.2833        C        0   Mrs   \n",
       "2            3         1       3    0  26.0   7.9250        S        1  Miss   \n",
       "3            4         1       1    0  35.0  53.1000        S        0   Mrs   \n",
       "4            5         0       3    1  35.0   8.0500        S        1    Mr   \n",
       "\n",
       "           FareBin        AgeBin  \n",
       "0   (-0.001, 7.91]  (16.0, 32.0]  \n",
       "1  (31.0, 512.329]  (32.0, 48.0]  \n",
       "2   (7.91, 14.454]  (16.0, 32.0]  \n",
       "3  (31.0, 512.329]  (32.0, 48.0]  \n",
       "4   (7.91, 14.454]  (32.0, 48.0]  "
      ]
     },
     "execution_count": 32,
     "metadata": {},
     "output_type": "execute_result"
    }
   ],
   "source": [
    "train_df.head()"
   ]
  },
  {
   "cell_type": "code",
   "execution_count": 33,
   "id": "b4113f23",
   "metadata": {
    "execution": {
     "iopub.execute_input": "2024-10-02T11:16:26.090694Z",
     "iopub.status.busy": "2024-10-02T11:16:26.089693Z",
     "iopub.status.idle": "2024-10-02T11:16:26.109727Z",
     "shell.execute_reply": "2024-10-02T11:16:26.108338Z"
    },
    "papermill": {
     "duration": 0.061527,
     "end_time": "2024-10-02T11:16:26.112647",
     "exception": false,
     "start_time": "2024-10-02T11:16:26.051120",
     "status": "completed"
    },
    "tags": []
   },
   "outputs": [
    {
     "data": {
      "text/html": [
       "<div>\n",
       "<style scoped>\n",
       "    .dataframe tbody tr th:only-of-type {\n",
       "        vertical-align: middle;\n",
       "    }\n",
       "\n",
       "    .dataframe tbody tr th {\n",
       "        vertical-align: top;\n",
       "    }\n",
       "\n",
       "    .dataframe thead th {\n",
       "        text-align: right;\n",
       "    }\n",
       "</style>\n",
       "<table border=\"1\" class=\"dataframe\">\n",
       "  <thead>\n",
       "    <tr style=\"text-align: right;\">\n",
       "      <th></th>\n",
       "      <th>PassengerId</th>\n",
       "      <th>Pclass</th>\n",
       "      <th>Sex</th>\n",
       "      <th>Age</th>\n",
       "      <th>Fare</th>\n",
       "      <th>Embarked</th>\n",
       "      <th>IsAlone</th>\n",
       "      <th>Title</th>\n",
       "      <th>FareBin</th>\n",
       "      <th>AgeBin</th>\n",
       "    </tr>\n",
       "  </thead>\n",
       "  <tbody>\n",
       "    <tr>\n",
       "      <th>0</th>\n",
       "      <td>892</td>\n",
       "      <td>3</td>\n",
       "      <td>1</td>\n",
       "      <td>34.5</td>\n",
       "      <td>7.8292</td>\n",
       "      <td>Q</td>\n",
       "      <td>1</td>\n",
       "      <td>Mr</td>\n",
       "      <td>(-0.001, 7.91]</td>\n",
       "      <td>(32.0, 48.0]</td>\n",
       "    </tr>\n",
       "    <tr>\n",
       "      <th>1</th>\n",
       "      <td>893</td>\n",
       "      <td>3</td>\n",
       "      <td>0</td>\n",
       "      <td>47.0</td>\n",
       "      <td>7.0000</td>\n",
       "      <td>S</td>\n",
       "      <td>0</td>\n",
       "      <td>Mrs</td>\n",
       "      <td>(-0.001, 7.91]</td>\n",
       "      <td>(32.0, 48.0]</td>\n",
       "    </tr>\n",
       "    <tr>\n",
       "      <th>2</th>\n",
       "      <td>894</td>\n",
       "      <td>2</td>\n",
       "      <td>1</td>\n",
       "      <td>62.0</td>\n",
       "      <td>9.6875</td>\n",
       "      <td>Q</td>\n",
       "      <td>1</td>\n",
       "      <td>Mr</td>\n",
       "      <td>(7.91, 14.454]</td>\n",
       "      <td>(48.0, 64.0]</td>\n",
       "    </tr>\n",
       "    <tr>\n",
       "      <th>3</th>\n",
       "      <td>895</td>\n",
       "      <td>3</td>\n",
       "      <td>1</td>\n",
       "      <td>27.0</td>\n",
       "      <td>8.6625</td>\n",
       "      <td>S</td>\n",
       "      <td>1</td>\n",
       "      <td>Mr</td>\n",
       "      <td>(7.91, 14.454]</td>\n",
       "      <td>(16.0, 32.0]</td>\n",
       "    </tr>\n",
       "    <tr>\n",
       "      <th>4</th>\n",
       "      <td>896</td>\n",
       "      <td>3</td>\n",
       "      <td>0</td>\n",
       "      <td>22.0</td>\n",
       "      <td>12.2875</td>\n",
       "      <td>S</td>\n",
       "      <td>0</td>\n",
       "      <td>Mrs</td>\n",
       "      <td>(7.91, 14.454]</td>\n",
       "      <td>(16.0, 32.0]</td>\n",
       "    </tr>\n",
       "  </tbody>\n",
       "</table>\n",
       "</div>"
      ],
      "text/plain": [
       "   PassengerId  Pclass  Sex   Age     Fare Embarked  IsAlone Title  \\\n",
       "0          892       3    1  34.5   7.8292        Q        1    Mr   \n",
       "1          893       3    0  47.0   7.0000        S        0   Mrs   \n",
       "2          894       2    1  62.0   9.6875        Q        1    Mr   \n",
       "3          895       3    1  27.0   8.6625        S        1    Mr   \n",
       "4          896       3    0  22.0  12.2875        S        0   Mrs   \n",
       "\n",
       "          FareBin        AgeBin  \n",
       "0  (-0.001, 7.91]  (32.0, 48.0]  \n",
       "1  (-0.001, 7.91]  (32.0, 48.0]  \n",
       "2  (7.91, 14.454]  (48.0, 64.0]  \n",
       "3  (7.91, 14.454]  (16.0, 32.0]  \n",
       "4  (7.91, 14.454]  (16.0, 32.0]  "
      ]
     },
     "execution_count": 33,
     "metadata": {},
     "output_type": "execute_result"
    }
   ],
   "source": [
    "test_df.head()"
   ]
  },
  {
   "cell_type": "code",
   "execution_count": 34,
   "id": "8b671611",
   "metadata": {
    "execution": {
     "iopub.execute_input": "2024-10-02T11:16:26.188631Z",
     "iopub.status.busy": "2024-10-02T11:16:26.188227Z",
     "iopub.status.idle": "2024-10-02T11:16:26.204383Z",
     "shell.execute_reply": "2024-10-02T11:16:26.203277Z"
    },
    "papermill": {
     "duration": 0.057059,
     "end_time": "2024-10-02T11:16:26.206854",
     "exception": false,
     "start_time": "2024-10-02T11:16:26.149795",
     "status": "completed"
    },
    "tags": []
   },
   "outputs": [
    {
     "data": {
      "text/html": [
       "<div>\n",
       "<style scoped>\n",
       "    .dataframe tbody tr th:only-of-type {\n",
       "        vertical-align: middle;\n",
       "    }\n",
       "\n",
       "    .dataframe tbody tr th {\n",
       "        vertical-align: top;\n",
       "    }\n",
       "\n",
       "    .dataframe thead th {\n",
       "        text-align: right;\n",
       "    }\n",
       "</style>\n",
       "<table border=\"1\" class=\"dataframe\">\n",
       "  <thead>\n",
       "    <tr style=\"text-align: right;\">\n",
       "      <th></th>\n",
       "      <th>Survived</th>\n",
       "    </tr>\n",
       "    <tr>\n",
       "      <th>AgeBin</th>\n",
       "      <th></th>\n",
       "    </tr>\n",
       "  </thead>\n",
       "  <tbody>\n",
       "    <tr>\n",
       "      <th>(-0.08, 16.0]</th>\n",
       "      <td>0.550000</td>\n",
       "    </tr>\n",
       "    <tr>\n",
       "      <th>(48.0, 64.0]</th>\n",
       "      <td>0.434783</td>\n",
       "    </tr>\n",
       "    <tr>\n",
       "      <th>(32.0, 48.0]</th>\n",
       "      <td>0.412037</td>\n",
       "    </tr>\n",
       "    <tr>\n",
       "      <th>(16.0, 32.0]</th>\n",
       "      <td>0.337374</td>\n",
       "    </tr>\n",
       "    <tr>\n",
       "      <th>(64.0, 80.0]</th>\n",
       "      <td>0.090909</td>\n",
       "    </tr>\n",
       "  </tbody>\n",
       "</table>\n",
       "</div>"
      ],
      "text/plain": [
       "               Survived\n",
       "AgeBin                 \n",
       "(-0.08, 16.0]  0.550000\n",
       "(48.0, 64.0]   0.434783\n",
       "(32.0, 48.0]   0.412037\n",
       "(16.0, 32.0]   0.337374\n",
       "(64.0, 80.0]   0.090909"
      ]
     },
     "execution_count": 34,
     "metadata": {},
     "output_type": "execute_result"
    }
   ],
   "source": [
    "train_df[['AgeBin', 'Survived']] \\\n",
    "    .groupby('AgeBin') \\\n",
    "    .mean() \\\n",
    "    .sort_values(by='Survived', ascending=False)"
   ]
  },
  {
   "cell_type": "markdown",
   "id": "ee151a60",
   "metadata": {
    "papermill": {
     "duration": 0.036829,
     "end_time": "2024-10-02T11:16:26.280760",
     "exception": false,
     "start_time": "2024-10-02T11:16:26.243931",
     "status": "completed"
    },
    "tags": []
   },
   "source": [
    "Let's replace the AgeBin with an ordinal encoder based on these bands.\n"
   ]
  },
  {
   "cell_type": "code",
   "execution_count": 35,
   "id": "96364b16",
   "metadata": {
    "execution": {
     "iopub.execute_input": "2024-10-02T11:16:26.364640Z",
     "iopub.status.busy": "2024-10-02T11:16:26.364188Z",
     "iopub.status.idle": "2024-10-02T11:16:26.372320Z",
     "shell.execute_reply": "2024-10-02T11:16:26.371082Z"
    },
    "papermill": {
     "duration": 0.052329,
     "end_time": "2024-10-02T11:16:26.374742",
     "exception": false,
     "start_time": "2024-10-02T11:16:26.322413",
     "status": "completed"
    },
    "tags": []
   },
   "outputs": [
    {
     "data": {
      "text/plain": [
       "Interval(0, 1, closed='right')"
      ]
     },
     "execution_count": 35,
     "metadata": {},
     "output_type": "execute_result"
    }
   ],
   "source": [
    "pd.Interval(0, 1)"
   ]
  },
  {
   "cell_type": "code",
   "execution_count": 36,
   "id": "f43f9442",
   "metadata": {
    "execution": {
     "iopub.execute_input": "2024-10-02T11:16:26.453205Z",
     "iopub.status.busy": "2024-10-02T11:16:26.452681Z",
     "iopub.status.idle": "2024-10-02T11:16:26.462033Z",
     "shell.execute_reply": "2024-10-02T11:16:26.460886Z"
    },
    "papermill": {
     "duration": 0.052151,
     "end_time": "2024-10-02T11:16:26.464851",
     "exception": false,
     "start_time": "2024-10-02T11:16:26.412700",
     "status": "completed"
    },
    "tags": []
   },
   "outputs": [],
   "source": [
    "import pandas as pd\n",
    "\n",
    "def encode_age_column(df):\n",
    "    # Define the function to categorize ages\n",
    "    def categorize_age(age):\n",
    "        if age in pd.Interval(-0.08, 16.0):\n",
    "            return 5\n",
    "        elif age in pd.Interval(16.0, 32.0):\n",
    "            return 2\n",
    "        elif age in pd.Interval(32.0, 48.0):\n",
    "            return 3\n",
    "        elif age in pd.Interval(48.0, 64.0):\n",
    "            return 4\n",
    "        elif age in pd.Interval(64.0, float('inf')):\n",
    "            return 1\n",
    "        else:\n",
    "            return None \n",
    "\n",
    "    df['AgeCategory'] = df['Age'].apply(categorize_age)\n",
    "    \n",
    "    # Drop original 'Age' and 'AgeBin' columns\n",
    "    df.drop(columns=['Age', 'AgeBin'], inplace=True)\n",
    "    \n",
    "    return df\n"
   ]
  },
  {
   "cell_type": "code",
   "execution_count": 37,
   "id": "a1856607",
   "metadata": {
    "execution": {
     "iopub.execute_input": "2024-10-02T11:16:26.542113Z",
     "iopub.status.busy": "2024-10-02T11:16:26.541658Z",
     "iopub.status.idle": "2024-10-02T11:16:26.566434Z",
     "shell.execute_reply": "2024-10-02T11:16:26.565295Z"
    },
    "papermill": {
     "duration": 0.066833,
     "end_time": "2024-10-02T11:16:26.569448",
     "exception": false,
     "start_time": "2024-10-02T11:16:26.502615",
     "status": "completed"
    },
    "tags": []
   },
   "outputs": [
    {
     "data": {
      "text/html": [
       "<div>\n",
       "<style scoped>\n",
       "    .dataframe tbody tr th:only-of-type {\n",
       "        vertical-align: middle;\n",
       "    }\n",
       "\n",
       "    .dataframe tbody tr th {\n",
       "        vertical-align: top;\n",
       "    }\n",
       "\n",
       "    .dataframe thead th {\n",
       "        text-align: right;\n",
       "    }\n",
       "</style>\n",
       "<table border=\"1\" class=\"dataframe\">\n",
       "  <thead>\n",
       "    <tr style=\"text-align: right;\">\n",
       "      <th></th>\n",
       "      <th>PassengerId</th>\n",
       "      <th>Survived</th>\n",
       "      <th>Pclass</th>\n",
       "      <th>Sex</th>\n",
       "      <th>Fare</th>\n",
       "      <th>Embarked</th>\n",
       "      <th>IsAlone</th>\n",
       "      <th>Title</th>\n",
       "      <th>FareBin</th>\n",
       "      <th>AgeCategory</th>\n",
       "    </tr>\n",
       "  </thead>\n",
       "  <tbody>\n",
       "    <tr>\n",
       "      <th>0</th>\n",
       "      <td>1</td>\n",
       "      <td>0</td>\n",
       "      <td>3</td>\n",
       "      <td>1</td>\n",
       "      <td>7.2500</td>\n",
       "      <td>S</td>\n",
       "      <td>0</td>\n",
       "      <td>Mr</td>\n",
       "      <td>(-0.001, 7.91]</td>\n",
       "      <td>2</td>\n",
       "    </tr>\n",
       "    <tr>\n",
       "      <th>1</th>\n",
       "      <td>2</td>\n",
       "      <td>1</td>\n",
       "      <td>1</td>\n",
       "      <td>0</td>\n",
       "      <td>71.2833</td>\n",
       "      <td>C</td>\n",
       "      <td>0</td>\n",
       "      <td>Mrs</td>\n",
       "      <td>(31.0, 512.329]</td>\n",
       "      <td>3</td>\n",
       "    </tr>\n",
       "    <tr>\n",
       "      <th>2</th>\n",
       "      <td>3</td>\n",
       "      <td>1</td>\n",
       "      <td>3</td>\n",
       "      <td>0</td>\n",
       "      <td>7.9250</td>\n",
       "      <td>S</td>\n",
       "      <td>1</td>\n",
       "      <td>Miss</td>\n",
       "      <td>(7.91, 14.454]</td>\n",
       "      <td>2</td>\n",
       "    </tr>\n",
       "    <tr>\n",
       "      <th>3</th>\n",
       "      <td>4</td>\n",
       "      <td>1</td>\n",
       "      <td>1</td>\n",
       "      <td>0</td>\n",
       "      <td>53.1000</td>\n",
       "      <td>S</td>\n",
       "      <td>0</td>\n",
       "      <td>Mrs</td>\n",
       "      <td>(31.0, 512.329]</td>\n",
       "      <td>3</td>\n",
       "    </tr>\n",
       "    <tr>\n",
       "      <th>4</th>\n",
       "      <td>5</td>\n",
       "      <td>0</td>\n",
       "      <td>3</td>\n",
       "      <td>1</td>\n",
       "      <td>8.0500</td>\n",
       "      <td>S</td>\n",
       "      <td>1</td>\n",
       "      <td>Mr</td>\n",
       "      <td>(7.91, 14.454]</td>\n",
       "      <td>3</td>\n",
       "    </tr>\n",
       "  </tbody>\n",
       "</table>\n",
       "</div>"
      ],
      "text/plain": [
       "   PassengerId  Survived  Pclass  Sex     Fare Embarked  IsAlone Title  \\\n",
       "0            1         0       3    1   7.2500        S        0    Mr   \n",
       "1            2         1       1    0  71.2833        C        0   Mrs   \n",
       "2            3         1       3    0   7.9250        S        1  Miss   \n",
       "3            4         1       1    0  53.1000        S        0   Mrs   \n",
       "4            5         0       3    1   8.0500        S        1    Mr   \n",
       "\n",
       "           FareBin  AgeCategory  \n",
       "0   (-0.001, 7.91]            2  \n",
       "1  (31.0, 512.329]            3  \n",
       "2   (7.91, 14.454]            2  \n",
       "3  (31.0, 512.329]            3  \n",
       "4   (7.91, 14.454]            3  "
      ]
     },
     "execution_count": 37,
     "metadata": {},
     "output_type": "execute_result"
    }
   ],
   "source": [
    "train_df = encode_age_column(train_df)\n",
    "train_df.head()"
   ]
  },
  {
   "cell_type": "code",
   "execution_count": 38,
   "id": "4ec54615",
   "metadata": {
    "execution": {
     "iopub.execute_input": "2024-10-02T11:16:26.648492Z",
     "iopub.status.busy": "2024-10-02T11:16:26.647275Z",
     "iopub.status.idle": "2024-10-02T11:16:26.668550Z",
     "shell.execute_reply": "2024-10-02T11:16:26.667427Z"
    },
    "papermill": {
     "duration": 0.063613,
     "end_time": "2024-10-02T11:16:26.671272",
     "exception": false,
     "start_time": "2024-10-02T11:16:26.607659",
     "status": "completed"
    },
    "tags": []
   },
   "outputs": [
    {
     "data": {
      "text/html": [
       "<div>\n",
       "<style scoped>\n",
       "    .dataframe tbody tr th:only-of-type {\n",
       "        vertical-align: middle;\n",
       "    }\n",
       "\n",
       "    .dataframe tbody tr th {\n",
       "        vertical-align: top;\n",
       "    }\n",
       "\n",
       "    .dataframe thead th {\n",
       "        text-align: right;\n",
       "    }\n",
       "</style>\n",
       "<table border=\"1\" class=\"dataframe\">\n",
       "  <thead>\n",
       "    <tr style=\"text-align: right;\">\n",
       "      <th></th>\n",
       "      <th>PassengerId</th>\n",
       "      <th>Pclass</th>\n",
       "      <th>Sex</th>\n",
       "      <th>Fare</th>\n",
       "      <th>Embarked</th>\n",
       "      <th>IsAlone</th>\n",
       "      <th>Title</th>\n",
       "      <th>FareBin</th>\n",
       "      <th>AgeCategory</th>\n",
       "    </tr>\n",
       "  </thead>\n",
       "  <tbody>\n",
       "    <tr>\n",
       "      <th>0</th>\n",
       "      <td>892</td>\n",
       "      <td>3</td>\n",
       "      <td>1</td>\n",
       "      <td>7.8292</td>\n",
       "      <td>Q</td>\n",
       "      <td>1</td>\n",
       "      <td>Mr</td>\n",
       "      <td>(-0.001, 7.91]</td>\n",
       "      <td>3</td>\n",
       "    </tr>\n",
       "    <tr>\n",
       "      <th>1</th>\n",
       "      <td>893</td>\n",
       "      <td>3</td>\n",
       "      <td>0</td>\n",
       "      <td>7.0000</td>\n",
       "      <td>S</td>\n",
       "      <td>0</td>\n",
       "      <td>Mrs</td>\n",
       "      <td>(-0.001, 7.91]</td>\n",
       "      <td>3</td>\n",
       "    </tr>\n",
       "    <tr>\n",
       "      <th>2</th>\n",
       "      <td>894</td>\n",
       "      <td>2</td>\n",
       "      <td>1</td>\n",
       "      <td>9.6875</td>\n",
       "      <td>Q</td>\n",
       "      <td>1</td>\n",
       "      <td>Mr</td>\n",
       "      <td>(7.91, 14.454]</td>\n",
       "      <td>4</td>\n",
       "    </tr>\n",
       "    <tr>\n",
       "      <th>3</th>\n",
       "      <td>895</td>\n",
       "      <td>3</td>\n",
       "      <td>1</td>\n",
       "      <td>8.6625</td>\n",
       "      <td>S</td>\n",
       "      <td>1</td>\n",
       "      <td>Mr</td>\n",
       "      <td>(7.91, 14.454]</td>\n",
       "      <td>2</td>\n",
       "    </tr>\n",
       "    <tr>\n",
       "      <th>4</th>\n",
       "      <td>896</td>\n",
       "      <td>3</td>\n",
       "      <td>0</td>\n",
       "      <td>12.2875</td>\n",
       "      <td>S</td>\n",
       "      <td>0</td>\n",
       "      <td>Mrs</td>\n",
       "      <td>(7.91, 14.454]</td>\n",
       "      <td>2</td>\n",
       "    </tr>\n",
       "  </tbody>\n",
       "</table>\n",
       "</div>"
      ],
      "text/plain": [
       "   PassengerId  Pclass  Sex     Fare Embarked  IsAlone Title         FareBin  \\\n",
       "0          892       3    1   7.8292        Q        1    Mr  (-0.001, 7.91]   \n",
       "1          893       3    0   7.0000        S        0   Mrs  (-0.001, 7.91]   \n",
       "2          894       2    1   9.6875        Q        1    Mr  (7.91, 14.454]   \n",
       "3          895       3    1   8.6625        S        1    Mr  (7.91, 14.454]   \n",
       "4          896       3    0  12.2875        S        0   Mrs  (7.91, 14.454]   \n",
       "\n",
       "   AgeCategory  \n",
       "0            3  \n",
       "1            3  \n",
       "2            4  \n",
       "3            2  \n",
       "4            2  "
      ]
     },
     "execution_count": 38,
     "metadata": {},
     "output_type": "execute_result"
    }
   ],
   "source": [
    "test_df = encode_age_column(test_df)\n",
    "test_df.head()"
   ]
  },
  {
   "cell_type": "code",
   "execution_count": 39,
   "id": "148b86e4",
   "metadata": {
    "execution": {
     "iopub.execute_input": "2024-10-02T11:16:26.749932Z",
     "iopub.status.busy": "2024-10-02T11:16:26.748849Z",
     "iopub.status.idle": "2024-10-02T11:16:26.759394Z",
     "shell.execute_reply": "2024-10-02T11:16:26.757980Z"
    },
    "papermill": {
     "duration": 0.052536,
     "end_time": "2024-10-02T11:16:26.761996",
     "exception": false,
     "start_time": "2024-10-02T11:16:26.709460",
     "status": "completed"
    },
    "tags": []
   },
   "outputs": [
    {
     "data": {
      "text/plain": [
       "PassengerId    0\n",
       "Pclass         0\n",
       "Sex            0\n",
       "Fare           0\n",
       "Embarked       0\n",
       "IsAlone        0\n",
       "Title          0\n",
       "FareBin        0\n",
       "AgeCategory    0\n",
       "dtype: int64"
      ]
     },
     "execution_count": 39,
     "metadata": {},
     "output_type": "execute_result"
    }
   ],
   "source": [
    "test_df.isna().sum()"
   ]
  },
  {
   "cell_type": "markdown",
   "id": "cdd53194",
   "metadata": {
    "papermill": {
     "duration": 0.037966,
     "end_time": "2024-10-02T11:16:26.838186",
     "exception": false,
     "start_time": "2024-10-02T11:16:26.800220",
     "status": "completed"
    },
    "tags": []
   },
   "source": [
    "Now, Let's explore `Embarked Variable` before encoding it\n"
   ]
  },
  {
   "cell_type": "code",
   "execution_count": 40,
   "id": "8e8c5457",
   "metadata": {
    "execution": {
     "iopub.execute_input": "2024-10-02T11:16:26.916809Z",
     "iopub.status.busy": "2024-10-02T11:16:26.915986Z",
     "iopub.status.idle": "2024-10-02T11:16:26.931115Z",
     "shell.execute_reply": "2024-10-02T11:16:26.929358Z"
    },
    "papermill": {
     "duration": 0.059908,
     "end_time": "2024-10-02T11:16:26.936230",
     "exception": false,
     "start_time": "2024-10-02T11:16:26.876322",
     "status": "completed"
    },
    "tags": []
   },
   "outputs": [
    {
     "data": {
      "text/html": [
       "<div>\n",
       "<style scoped>\n",
       "    .dataframe tbody tr th:only-of-type {\n",
       "        vertical-align: middle;\n",
       "    }\n",
       "\n",
       "    .dataframe tbody tr th {\n",
       "        vertical-align: top;\n",
       "    }\n",
       "\n",
       "    .dataframe thead th {\n",
       "        text-align: right;\n",
       "    }\n",
       "</style>\n",
       "<table border=\"1\" class=\"dataframe\">\n",
       "  <thead>\n",
       "    <tr style=\"text-align: right;\">\n",
       "      <th></th>\n",
       "      <th>Survived</th>\n",
       "    </tr>\n",
       "    <tr>\n",
       "      <th>Embarked</th>\n",
       "      <th></th>\n",
       "    </tr>\n",
       "  </thead>\n",
       "  <tbody>\n",
       "    <tr>\n",
       "      <th>C</th>\n",
       "      <td>0.553571</td>\n",
       "    </tr>\n",
       "    <tr>\n",
       "      <th>Q</th>\n",
       "      <td>0.389610</td>\n",
       "    </tr>\n",
       "    <tr>\n",
       "      <th>S</th>\n",
       "      <td>0.339009</td>\n",
       "    </tr>\n",
       "  </tbody>\n",
       "</table>\n",
       "</div>"
      ],
      "text/plain": [
       "          Survived\n",
       "Embarked          \n",
       "C         0.553571\n",
       "Q         0.389610\n",
       "S         0.339009"
      ]
     },
     "execution_count": 40,
     "metadata": {},
     "output_type": "execute_result"
    }
   ],
   "source": [
    "train_df[['Embarked', 'Survived']].groupby('Embarked')\\\n",
    "    .mean() \\\n",
    "    .sort_values(by='Survived', ascending=False)"
   ]
  },
  {
   "cell_type": "markdown",
   "id": "c1b51a59",
   "metadata": {
    "papermill": {
     "duration": 0.038314,
     "end_time": "2024-10-02T11:16:27.014195",
     "exception": false,
     "start_time": "2024-10-02T11:16:26.975881",
     "status": "completed"
    },
    "tags": []
   },
   "source": [
    "We will use one hot encoder here as it preserves the information about the categories without imposing any ordinal relationships"
   ]
  },
  {
   "cell_type": "code",
   "execution_count": 41,
   "id": "0e30d866",
   "metadata": {
    "execution": {
     "iopub.execute_input": "2024-10-02T11:16:27.092971Z",
     "iopub.status.busy": "2024-10-02T11:16:27.092420Z",
     "iopub.status.idle": "2024-10-02T11:16:27.123629Z",
     "shell.execute_reply": "2024-10-02T11:16:27.122465Z"
    },
    "papermill": {
     "duration": 0.073941,
     "end_time": "2024-10-02T11:16:27.126567",
     "exception": false,
     "start_time": "2024-10-02T11:16:27.052626",
     "status": "completed"
    },
    "tags": []
   },
   "outputs": [],
   "source": [
    "one_hot_encoder = OneHotEncoder(cols='Embarked', use_cat_names=True)\n",
    "\n",
    "target = train_df[['Survived']]\n",
    "\n",
    "train_df_without_target = one_hot_encoder.fit_transform(train_df.drop(columns='Survived'))\n",
    "test_df = one_hot_encoder.transform(test_df)\n",
    "\n",
    "train_df = pd.concat([train_df_without_target, target], axis=1)"
   ]
  },
  {
   "cell_type": "code",
   "execution_count": 42,
   "id": "c5475b36",
   "metadata": {
    "execution": {
     "iopub.execute_input": "2024-10-02T11:16:27.206079Z",
     "iopub.status.busy": "2024-10-02T11:16:27.205579Z",
     "iopub.status.idle": "2024-10-02T11:16:27.224551Z",
     "shell.execute_reply": "2024-10-02T11:16:27.223303Z"
    },
    "papermill": {
     "duration": 0.061922,
     "end_time": "2024-10-02T11:16:27.227355",
     "exception": false,
     "start_time": "2024-10-02T11:16:27.165433",
     "status": "completed"
    },
    "tags": []
   },
   "outputs": [
    {
     "data": {
      "text/html": [
       "<div>\n",
       "<style scoped>\n",
       "    .dataframe tbody tr th:only-of-type {\n",
       "        vertical-align: middle;\n",
       "    }\n",
       "\n",
       "    .dataframe tbody tr th {\n",
       "        vertical-align: top;\n",
       "    }\n",
       "\n",
       "    .dataframe thead th {\n",
       "        text-align: right;\n",
       "    }\n",
       "</style>\n",
       "<table border=\"1\" class=\"dataframe\">\n",
       "  <thead>\n",
       "    <tr style=\"text-align: right;\">\n",
       "      <th></th>\n",
       "      <th>PassengerId</th>\n",
       "      <th>Pclass</th>\n",
       "      <th>Sex</th>\n",
       "      <th>Fare</th>\n",
       "      <th>Embarked_S</th>\n",
       "      <th>Embarked_C</th>\n",
       "      <th>Embarked_Q</th>\n",
       "      <th>IsAlone</th>\n",
       "      <th>Title</th>\n",
       "      <th>FareBin</th>\n",
       "      <th>AgeCategory</th>\n",
       "      <th>Survived</th>\n",
       "    </tr>\n",
       "  </thead>\n",
       "  <tbody>\n",
       "    <tr>\n",
       "      <th>0</th>\n",
       "      <td>1</td>\n",
       "      <td>3</td>\n",
       "      <td>1</td>\n",
       "      <td>7.2500</td>\n",
       "      <td>1</td>\n",
       "      <td>0</td>\n",
       "      <td>0</td>\n",
       "      <td>0</td>\n",
       "      <td>Mr</td>\n",
       "      <td>(-0.001, 7.91]</td>\n",
       "      <td>2</td>\n",
       "      <td>0</td>\n",
       "    </tr>\n",
       "    <tr>\n",
       "      <th>1</th>\n",
       "      <td>2</td>\n",
       "      <td>1</td>\n",
       "      <td>0</td>\n",
       "      <td>71.2833</td>\n",
       "      <td>0</td>\n",
       "      <td>1</td>\n",
       "      <td>0</td>\n",
       "      <td>0</td>\n",
       "      <td>Mrs</td>\n",
       "      <td>(31.0, 512.329]</td>\n",
       "      <td>3</td>\n",
       "      <td>1</td>\n",
       "    </tr>\n",
       "    <tr>\n",
       "      <th>2</th>\n",
       "      <td>3</td>\n",
       "      <td>3</td>\n",
       "      <td>0</td>\n",
       "      <td>7.9250</td>\n",
       "      <td>1</td>\n",
       "      <td>0</td>\n",
       "      <td>0</td>\n",
       "      <td>1</td>\n",
       "      <td>Miss</td>\n",
       "      <td>(7.91, 14.454]</td>\n",
       "      <td>2</td>\n",
       "      <td>1</td>\n",
       "    </tr>\n",
       "    <tr>\n",
       "      <th>3</th>\n",
       "      <td>4</td>\n",
       "      <td>1</td>\n",
       "      <td>0</td>\n",
       "      <td>53.1000</td>\n",
       "      <td>1</td>\n",
       "      <td>0</td>\n",
       "      <td>0</td>\n",
       "      <td>0</td>\n",
       "      <td>Mrs</td>\n",
       "      <td>(31.0, 512.329]</td>\n",
       "      <td>3</td>\n",
       "      <td>1</td>\n",
       "    </tr>\n",
       "    <tr>\n",
       "      <th>4</th>\n",
       "      <td>5</td>\n",
       "      <td>3</td>\n",
       "      <td>1</td>\n",
       "      <td>8.0500</td>\n",
       "      <td>1</td>\n",
       "      <td>0</td>\n",
       "      <td>0</td>\n",
       "      <td>1</td>\n",
       "      <td>Mr</td>\n",
       "      <td>(7.91, 14.454]</td>\n",
       "      <td>3</td>\n",
       "      <td>0</td>\n",
       "    </tr>\n",
       "  </tbody>\n",
       "</table>\n",
       "</div>"
      ],
      "text/plain": [
       "   PassengerId  Pclass  Sex     Fare  Embarked_S  Embarked_C  Embarked_Q  \\\n",
       "0            1       3    1   7.2500           1           0           0   \n",
       "1            2       1    0  71.2833           0           1           0   \n",
       "2            3       3    0   7.9250           1           0           0   \n",
       "3            4       1    0  53.1000           1           0           0   \n",
       "4            5       3    1   8.0500           1           0           0   \n",
       "\n",
       "   IsAlone Title          FareBin  AgeCategory  Survived  \n",
       "0        0    Mr   (-0.001, 7.91]            2         0  \n",
       "1        0   Mrs  (31.0, 512.329]            3         1  \n",
       "2        1  Miss   (7.91, 14.454]            2         1  \n",
       "3        0   Mrs  (31.0, 512.329]            3         1  \n",
       "4        1    Mr   (7.91, 14.454]            3         0  "
      ]
     },
     "execution_count": 42,
     "metadata": {},
     "output_type": "execute_result"
    }
   ],
   "source": [
    "train_df.head()"
   ]
  },
  {
   "cell_type": "code",
   "execution_count": 43,
   "id": "80e86fc6",
   "metadata": {
    "execution": {
     "iopub.execute_input": "2024-10-02T11:16:27.309181Z",
     "iopub.status.busy": "2024-10-02T11:16:27.308718Z",
     "iopub.status.idle": "2024-10-02T11:16:27.326706Z",
     "shell.execute_reply": "2024-10-02T11:16:27.325482Z"
    },
    "papermill": {
     "duration": 0.061558,
     "end_time": "2024-10-02T11:16:27.329421",
     "exception": false,
     "start_time": "2024-10-02T11:16:27.267863",
     "status": "completed"
    },
    "tags": []
   },
   "outputs": [
    {
     "data": {
      "text/html": [
       "<div>\n",
       "<style scoped>\n",
       "    .dataframe tbody tr th:only-of-type {\n",
       "        vertical-align: middle;\n",
       "    }\n",
       "\n",
       "    .dataframe tbody tr th {\n",
       "        vertical-align: top;\n",
       "    }\n",
       "\n",
       "    .dataframe thead th {\n",
       "        text-align: right;\n",
       "    }\n",
       "</style>\n",
       "<table border=\"1\" class=\"dataframe\">\n",
       "  <thead>\n",
       "    <tr style=\"text-align: right;\">\n",
       "      <th></th>\n",
       "      <th>PassengerId</th>\n",
       "      <th>Pclass</th>\n",
       "      <th>Sex</th>\n",
       "      <th>Fare</th>\n",
       "      <th>Embarked_S</th>\n",
       "      <th>Embarked_C</th>\n",
       "      <th>Embarked_Q</th>\n",
       "      <th>IsAlone</th>\n",
       "      <th>Title</th>\n",
       "      <th>FareBin</th>\n",
       "      <th>AgeCategory</th>\n",
       "    </tr>\n",
       "  </thead>\n",
       "  <tbody>\n",
       "    <tr>\n",
       "      <th>0</th>\n",
       "      <td>892</td>\n",
       "      <td>3</td>\n",
       "      <td>1</td>\n",
       "      <td>7.8292</td>\n",
       "      <td>0</td>\n",
       "      <td>0</td>\n",
       "      <td>1</td>\n",
       "      <td>1</td>\n",
       "      <td>Mr</td>\n",
       "      <td>(-0.001, 7.91]</td>\n",
       "      <td>3</td>\n",
       "    </tr>\n",
       "    <tr>\n",
       "      <th>1</th>\n",
       "      <td>893</td>\n",
       "      <td>3</td>\n",
       "      <td>0</td>\n",
       "      <td>7.0000</td>\n",
       "      <td>1</td>\n",
       "      <td>0</td>\n",
       "      <td>0</td>\n",
       "      <td>0</td>\n",
       "      <td>Mrs</td>\n",
       "      <td>(-0.001, 7.91]</td>\n",
       "      <td>3</td>\n",
       "    </tr>\n",
       "    <tr>\n",
       "      <th>2</th>\n",
       "      <td>894</td>\n",
       "      <td>2</td>\n",
       "      <td>1</td>\n",
       "      <td>9.6875</td>\n",
       "      <td>0</td>\n",
       "      <td>0</td>\n",
       "      <td>1</td>\n",
       "      <td>1</td>\n",
       "      <td>Mr</td>\n",
       "      <td>(7.91, 14.454]</td>\n",
       "      <td>4</td>\n",
       "    </tr>\n",
       "    <tr>\n",
       "      <th>3</th>\n",
       "      <td>895</td>\n",
       "      <td>3</td>\n",
       "      <td>1</td>\n",
       "      <td>8.6625</td>\n",
       "      <td>1</td>\n",
       "      <td>0</td>\n",
       "      <td>0</td>\n",
       "      <td>1</td>\n",
       "      <td>Mr</td>\n",
       "      <td>(7.91, 14.454]</td>\n",
       "      <td>2</td>\n",
       "    </tr>\n",
       "    <tr>\n",
       "      <th>4</th>\n",
       "      <td>896</td>\n",
       "      <td>3</td>\n",
       "      <td>0</td>\n",
       "      <td>12.2875</td>\n",
       "      <td>1</td>\n",
       "      <td>0</td>\n",
       "      <td>0</td>\n",
       "      <td>0</td>\n",
       "      <td>Mrs</td>\n",
       "      <td>(7.91, 14.454]</td>\n",
       "      <td>2</td>\n",
       "    </tr>\n",
       "  </tbody>\n",
       "</table>\n",
       "</div>"
      ],
      "text/plain": [
       "   PassengerId  Pclass  Sex     Fare  Embarked_S  Embarked_C  Embarked_Q  \\\n",
       "0          892       3    1   7.8292           0           0           1   \n",
       "1          893       3    0   7.0000           1           0           0   \n",
       "2          894       2    1   9.6875           0           0           1   \n",
       "3          895       3    1   8.6625           1           0           0   \n",
       "4          896       3    0  12.2875           1           0           0   \n",
       "\n",
       "   IsAlone Title         FareBin  AgeCategory  \n",
       "0        1    Mr  (-0.001, 7.91]            3  \n",
       "1        0   Mrs  (-0.001, 7.91]            3  \n",
       "2        1    Mr  (7.91, 14.454]            4  \n",
       "3        1    Mr  (7.91, 14.454]            2  \n",
       "4        0   Mrs  (7.91, 14.454]            2  "
      ]
     },
     "execution_count": 43,
     "metadata": {},
     "output_type": "execute_result"
    }
   ],
   "source": [
    "test_df.head()"
   ]
  },
  {
   "cell_type": "code",
   "execution_count": 44,
   "id": "785605c0",
   "metadata": {
    "execution": {
     "iopub.execute_input": "2024-10-02T11:16:27.412493Z",
     "iopub.status.busy": "2024-10-02T11:16:27.411017Z",
     "iopub.status.idle": "2024-10-02T11:16:27.428053Z",
     "shell.execute_reply": "2024-10-02T11:16:27.426786Z"
    },
    "papermill": {
     "duration": 0.061209,
     "end_time": "2024-10-02T11:16:27.430468",
     "exception": false,
     "start_time": "2024-10-02T11:16:27.369259",
     "status": "completed"
    },
    "tags": []
   },
   "outputs": [
    {
     "data": {
      "text/html": [
       "<div>\n",
       "<style scoped>\n",
       "    .dataframe tbody tr th:only-of-type {\n",
       "        vertical-align: middle;\n",
       "    }\n",
       "\n",
       "    .dataframe tbody tr th {\n",
       "        vertical-align: top;\n",
       "    }\n",
       "\n",
       "    .dataframe thead th {\n",
       "        text-align: right;\n",
       "    }\n",
       "</style>\n",
       "<table border=\"1\" class=\"dataframe\">\n",
       "  <thead>\n",
       "    <tr style=\"text-align: right;\">\n",
       "      <th></th>\n",
       "      <th>Survived</th>\n",
       "    </tr>\n",
       "    <tr>\n",
       "      <th>FareBin</th>\n",
       "      <th></th>\n",
       "    </tr>\n",
       "  </thead>\n",
       "  <tbody>\n",
       "    <tr>\n",
       "      <th>(31.0, 512.329]</th>\n",
       "      <td>0.581081</td>\n",
       "    </tr>\n",
       "    <tr>\n",
       "      <th>(14.454, 31.0]</th>\n",
       "      <td>0.454955</td>\n",
       "    </tr>\n",
       "    <tr>\n",
       "      <th>(7.91, 14.454]</th>\n",
       "      <td>0.303571</td>\n",
       "    </tr>\n",
       "    <tr>\n",
       "      <th>(-0.001, 7.91]</th>\n",
       "      <td>0.197309</td>\n",
       "    </tr>\n",
       "  </tbody>\n",
       "</table>\n",
       "</div>"
      ],
      "text/plain": [
       "                 Survived\n",
       "FareBin                  \n",
       "(31.0, 512.329]  0.581081\n",
       "(14.454, 31.0]   0.454955\n",
       "(7.91, 14.454]   0.303571\n",
       "(-0.001, 7.91]   0.197309"
      ]
     },
     "execution_count": 44,
     "metadata": {},
     "output_type": "execute_result"
    }
   ],
   "source": [
    "train_df[['FareBin', 'Survived']].groupby('FareBin').mean().sort_values(by='Survived', ascending=False)"
   ]
  },
  {
   "cell_type": "markdown",
   "id": "ac5a9bd2",
   "metadata": {
    "papermill": {
     "duration": 0.039193,
     "end_time": "2024-10-02T11:16:27.509214",
     "exception": false,
     "start_time": "2024-10-02T11:16:27.470021",
     "status": "completed"
    },
    "tags": []
   },
   "source": [
    "It seems that the people who paid more have a higher probability of survival. We will convert the Fare feature to ordinal values based on FareBin.\n"
   ]
  },
  {
   "cell_type": "code",
   "execution_count": 45,
   "id": "b024e865",
   "metadata": {
    "execution": {
     "iopub.execute_input": "2024-10-02T11:16:27.589224Z",
     "iopub.status.busy": "2024-10-02T11:16:27.588771Z",
     "iopub.status.idle": "2024-10-02T11:16:27.597291Z",
     "shell.execute_reply": "2024-10-02T11:16:27.596078Z"
    },
    "papermill": {
     "duration": 0.051367,
     "end_time": "2024-10-02T11:16:27.599664",
     "exception": false,
     "start_time": "2024-10-02T11:16:27.548297",
     "status": "completed"
    },
    "tags": []
   },
   "outputs": [],
   "source": [
    "def encode_fare_column(df):\n",
    "\n",
    "    def categorize_fare(fare):\n",
    "        if fare in pd.Interval(31.0, float('inf')):\n",
    "            return 4\n",
    "        elif fare in pd.Interval(14.454, 31.0):\n",
    "            return 3\n",
    "        elif fare in pd.Interval(7.91, 14.454):\n",
    "            return 2\n",
    "        elif fare in pd.Interval(-0.001, 7.91):\n",
    "            return 1\n",
    "        else:\n",
    "            return None \n",
    "\n",
    "    df['FareCategory'] = df['Fare'].apply(categorize_fare)\n",
    "    \n",
    "    df.drop(columns=['Fare', 'FareBin'], inplace=True)\n",
    "    \n",
    "    return df\n"
   ]
  },
  {
   "cell_type": "code",
   "execution_count": 46,
   "id": "0c8eef51",
   "metadata": {
    "execution": {
     "iopub.execute_input": "2024-10-02T11:16:27.681633Z",
     "iopub.status.busy": "2024-10-02T11:16:27.681180Z",
     "iopub.status.idle": "2024-10-02T11:16:27.704244Z",
     "shell.execute_reply": "2024-10-02T11:16:27.702934Z"
    },
    "papermill": {
     "duration": 0.067655,
     "end_time": "2024-10-02T11:16:27.706706",
     "exception": false,
     "start_time": "2024-10-02T11:16:27.639051",
     "status": "completed"
    },
    "tags": []
   },
   "outputs": [
    {
     "data": {
      "text/html": [
       "<div>\n",
       "<style scoped>\n",
       "    .dataframe tbody tr th:only-of-type {\n",
       "        vertical-align: middle;\n",
       "    }\n",
       "\n",
       "    .dataframe tbody tr th {\n",
       "        vertical-align: top;\n",
       "    }\n",
       "\n",
       "    .dataframe thead th {\n",
       "        text-align: right;\n",
       "    }\n",
       "</style>\n",
       "<table border=\"1\" class=\"dataframe\">\n",
       "  <thead>\n",
       "    <tr style=\"text-align: right;\">\n",
       "      <th></th>\n",
       "      <th>PassengerId</th>\n",
       "      <th>Pclass</th>\n",
       "      <th>Sex</th>\n",
       "      <th>Embarked_S</th>\n",
       "      <th>Embarked_C</th>\n",
       "      <th>Embarked_Q</th>\n",
       "      <th>IsAlone</th>\n",
       "      <th>Title</th>\n",
       "      <th>AgeCategory</th>\n",
       "      <th>Survived</th>\n",
       "      <th>FareCategory</th>\n",
       "    </tr>\n",
       "  </thead>\n",
       "  <tbody>\n",
       "    <tr>\n",
       "      <th>0</th>\n",
       "      <td>1</td>\n",
       "      <td>3</td>\n",
       "      <td>1</td>\n",
       "      <td>1</td>\n",
       "      <td>0</td>\n",
       "      <td>0</td>\n",
       "      <td>0</td>\n",
       "      <td>Mr</td>\n",
       "      <td>2</td>\n",
       "      <td>0</td>\n",
       "      <td>1</td>\n",
       "    </tr>\n",
       "    <tr>\n",
       "      <th>1</th>\n",
       "      <td>2</td>\n",
       "      <td>1</td>\n",
       "      <td>0</td>\n",
       "      <td>0</td>\n",
       "      <td>1</td>\n",
       "      <td>0</td>\n",
       "      <td>0</td>\n",
       "      <td>Mrs</td>\n",
       "      <td>3</td>\n",
       "      <td>1</td>\n",
       "      <td>4</td>\n",
       "    </tr>\n",
       "    <tr>\n",
       "      <th>2</th>\n",
       "      <td>3</td>\n",
       "      <td>3</td>\n",
       "      <td>0</td>\n",
       "      <td>1</td>\n",
       "      <td>0</td>\n",
       "      <td>0</td>\n",
       "      <td>1</td>\n",
       "      <td>Miss</td>\n",
       "      <td>2</td>\n",
       "      <td>1</td>\n",
       "      <td>2</td>\n",
       "    </tr>\n",
       "    <tr>\n",
       "      <th>3</th>\n",
       "      <td>4</td>\n",
       "      <td>1</td>\n",
       "      <td>0</td>\n",
       "      <td>1</td>\n",
       "      <td>0</td>\n",
       "      <td>0</td>\n",
       "      <td>0</td>\n",
       "      <td>Mrs</td>\n",
       "      <td>3</td>\n",
       "      <td>1</td>\n",
       "      <td>4</td>\n",
       "    </tr>\n",
       "    <tr>\n",
       "      <th>4</th>\n",
       "      <td>5</td>\n",
       "      <td>3</td>\n",
       "      <td>1</td>\n",
       "      <td>1</td>\n",
       "      <td>0</td>\n",
       "      <td>0</td>\n",
       "      <td>1</td>\n",
       "      <td>Mr</td>\n",
       "      <td>3</td>\n",
       "      <td>0</td>\n",
       "      <td>2</td>\n",
       "    </tr>\n",
       "  </tbody>\n",
       "</table>\n",
       "</div>"
      ],
      "text/plain": [
       "   PassengerId  Pclass  Sex  Embarked_S  Embarked_C  Embarked_Q  IsAlone  \\\n",
       "0            1       3    1           1           0           0        0   \n",
       "1            2       1    0           0           1           0        0   \n",
       "2            3       3    0           1           0           0        1   \n",
       "3            4       1    0           1           0           0        0   \n",
       "4            5       3    1           1           0           0        1   \n",
       "\n",
       "  Title  AgeCategory  Survived  FareCategory  \n",
       "0    Mr            2         0             1  \n",
       "1   Mrs            3         1             4  \n",
       "2  Miss            2         1             2  \n",
       "3   Mrs            3         1             4  \n",
       "4    Mr            3         0             2  "
      ]
     },
     "execution_count": 46,
     "metadata": {},
     "output_type": "execute_result"
    }
   ],
   "source": [
    "train_df = encode_fare_column(train_df)\n",
    "train_df.head()"
   ]
  },
  {
   "cell_type": "code",
   "execution_count": 47,
   "id": "6812af0c",
   "metadata": {
    "execution": {
     "iopub.execute_input": "2024-10-02T11:16:27.787408Z",
     "iopub.status.busy": "2024-10-02T11:16:27.786870Z",
     "iopub.status.idle": "2024-10-02T11:16:27.797560Z",
     "shell.execute_reply": "2024-10-02T11:16:27.796413Z"
    },
    "papermill": {
     "duration": 0.053736,
     "end_time": "2024-10-02T11:16:27.800021",
     "exception": false,
     "start_time": "2024-10-02T11:16:27.746285",
     "status": "completed"
    },
    "tags": []
   },
   "outputs": [
    {
     "data": {
      "text/plain": [
       "PassengerId     0\n",
       "Pclass          0\n",
       "Sex             0\n",
       "Embarked_S      0\n",
       "Embarked_C      0\n",
       "Embarked_Q      0\n",
       "IsAlone         0\n",
       "Title           0\n",
       "AgeCategory     0\n",
       "Survived        0\n",
       "FareCategory    0\n",
       "dtype: int64"
      ]
     },
     "execution_count": 47,
     "metadata": {},
     "output_type": "execute_result"
    }
   ],
   "source": [
    "train_df.isna().sum()"
   ]
  },
  {
   "cell_type": "code",
   "execution_count": 48,
   "id": "a9421cad",
   "metadata": {
    "execution": {
     "iopub.execute_input": "2024-10-02T11:16:27.882381Z",
     "iopub.status.busy": "2024-10-02T11:16:27.881935Z",
     "iopub.status.idle": "2024-10-02T11:16:27.900260Z",
     "shell.execute_reply": "2024-10-02T11:16:27.899097Z"
    },
    "papermill": {
     "duration": 0.062713,
     "end_time": "2024-10-02T11:16:27.902778",
     "exception": false,
     "start_time": "2024-10-02T11:16:27.840065",
     "status": "completed"
    },
    "tags": []
   },
   "outputs": [
    {
     "data": {
      "text/html": [
       "<div>\n",
       "<style scoped>\n",
       "    .dataframe tbody tr th:only-of-type {\n",
       "        vertical-align: middle;\n",
       "    }\n",
       "\n",
       "    .dataframe tbody tr th {\n",
       "        vertical-align: top;\n",
       "    }\n",
       "\n",
       "    .dataframe thead th {\n",
       "        text-align: right;\n",
       "    }\n",
       "</style>\n",
       "<table border=\"1\" class=\"dataframe\">\n",
       "  <thead>\n",
       "    <tr style=\"text-align: right;\">\n",
       "      <th></th>\n",
       "      <th>PassengerId</th>\n",
       "      <th>Pclass</th>\n",
       "      <th>Sex</th>\n",
       "      <th>Embarked_S</th>\n",
       "      <th>Embarked_C</th>\n",
       "      <th>Embarked_Q</th>\n",
       "      <th>IsAlone</th>\n",
       "      <th>Title</th>\n",
       "      <th>AgeCategory</th>\n",
       "      <th>FareCategory</th>\n",
       "    </tr>\n",
       "  </thead>\n",
       "  <tbody>\n",
       "    <tr>\n",
       "      <th>0</th>\n",
       "      <td>892</td>\n",
       "      <td>3</td>\n",
       "      <td>1</td>\n",
       "      <td>0</td>\n",
       "      <td>0</td>\n",
       "      <td>1</td>\n",
       "      <td>1</td>\n",
       "      <td>Mr</td>\n",
       "      <td>3</td>\n",
       "      <td>1</td>\n",
       "    </tr>\n",
       "    <tr>\n",
       "      <th>1</th>\n",
       "      <td>893</td>\n",
       "      <td>3</td>\n",
       "      <td>0</td>\n",
       "      <td>1</td>\n",
       "      <td>0</td>\n",
       "      <td>0</td>\n",
       "      <td>0</td>\n",
       "      <td>Mrs</td>\n",
       "      <td>3</td>\n",
       "      <td>1</td>\n",
       "    </tr>\n",
       "    <tr>\n",
       "      <th>2</th>\n",
       "      <td>894</td>\n",
       "      <td>2</td>\n",
       "      <td>1</td>\n",
       "      <td>0</td>\n",
       "      <td>0</td>\n",
       "      <td>1</td>\n",
       "      <td>1</td>\n",
       "      <td>Mr</td>\n",
       "      <td>4</td>\n",
       "      <td>2</td>\n",
       "    </tr>\n",
       "    <tr>\n",
       "      <th>3</th>\n",
       "      <td>895</td>\n",
       "      <td>3</td>\n",
       "      <td>1</td>\n",
       "      <td>1</td>\n",
       "      <td>0</td>\n",
       "      <td>0</td>\n",
       "      <td>1</td>\n",
       "      <td>Mr</td>\n",
       "      <td>2</td>\n",
       "      <td>2</td>\n",
       "    </tr>\n",
       "    <tr>\n",
       "      <th>4</th>\n",
       "      <td>896</td>\n",
       "      <td>3</td>\n",
       "      <td>0</td>\n",
       "      <td>1</td>\n",
       "      <td>0</td>\n",
       "      <td>0</td>\n",
       "      <td>0</td>\n",
       "      <td>Mrs</td>\n",
       "      <td>2</td>\n",
       "      <td>2</td>\n",
       "    </tr>\n",
       "  </tbody>\n",
       "</table>\n",
       "</div>"
      ],
      "text/plain": [
       "   PassengerId  Pclass  Sex  Embarked_S  Embarked_C  Embarked_Q  IsAlone  \\\n",
       "0          892       3    1           0           0           1        1   \n",
       "1          893       3    0           1           0           0        0   \n",
       "2          894       2    1           0           0           1        1   \n",
       "3          895       3    1           1           0           0        1   \n",
       "4          896       3    0           1           0           0        0   \n",
       "\n",
       "  Title  AgeCategory  FareCategory  \n",
       "0    Mr            3             1  \n",
       "1   Mrs            3             1  \n",
       "2    Mr            4             2  \n",
       "3    Mr            2             2  \n",
       "4   Mrs            2             2  "
      ]
     },
     "execution_count": 48,
     "metadata": {},
     "output_type": "execute_result"
    }
   ],
   "source": [
    "test_df = encode_fare_column(test_df)\n",
    "test_df.head()"
   ]
  },
  {
   "cell_type": "code",
   "execution_count": 49,
   "id": "a4a69d4c",
   "metadata": {
    "execution": {
     "iopub.execute_input": "2024-10-02T11:16:27.986946Z",
     "iopub.status.busy": "2024-10-02T11:16:27.986199Z",
     "iopub.status.idle": "2024-10-02T11:16:27.996308Z",
     "shell.execute_reply": "2024-10-02T11:16:27.995123Z"
    },
    "papermill": {
     "duration": 0.054633,
     "end_time": "2024-10-02T11:16:27.999205",
     "exception": false,
     "start_time": "2024-10-02T11:16:27.944572",
     "status": "completed"
    },
    "tags": []
   },
   "outputs": [
    {
     "data": {
      "text/plain": [
       "PassengerId     0\n",
       "Pclass          0\n",
       "Sex             0\n",
       "Embarked_S      0\n",
       "Embarked_C      0\n",
       "Embarked_Q      0\n",
       "IsAlone         0\n",
       "Title           0\n",
       "AgeCategory     0\n",
       "FareCategory    0\n",
       "dtype: int64"
      ]
     },
     "execution_count": 49,
     "metadata": {},
     "output_type": "execute_result"
    }
   ],
   "source": [
    "test_df.isna().sum()"
   ]
  },
  {
   "cell_type": "markdown",
   "id": "1ad82b52",
   "metadata": {
    "papermill": {
     "duration": 0.039832,
     "end_time": "2024-10-02T11:16:28.079640",
     "exception": false,
     "start_time": "2024-10-02T11:16:28.039808",
     "status": "completed"
    },
    "tags": []
   },
   "source": [
    "Let's check Title column values"
   ]
  },
  {
   "cell_type": "code",
   "execution_count": 50,
   "id": "ee0b68f1",
   "metadata": {
    "execution": {
     "iopub.execute_input": "2024-10-02T11:16:28.162520Z",
     "iopub.status.busy": "2024-10-02T11:16:28.162090Z",
     "iopub.status.idle": "2024-10-02T11:16:28.178181Z",
     "shell.execute_reply": "2024-10-02T11:16:28.177079Z"
    },
    "papermill": {
     "duration": 0.060779,
     "end_time": "2024-10-02T11:16:28.180858",
     "exception": false,
     "start_time": "2024-10-02T11:16:28.120079",
     "status": "completed"
    },
    "tags": []
   },
   "outputs": [
    {
     "data": {
      "text/html": [
       "<div>\n",
       "<style scoped>\n",
       "    .dataframe tbody tr th:only-of-type {\n",
       "        vertical-align: middle;\n",
       "    }\n",
       "\n",
       "    .dataframe tbody tr th {\n",
       "        vertical-align: top;\n",
       "    }\n",
       "\n",
       "    .dataframe thead th {\n",
       "        text-align: right;\n",
       "    }\n",
       "</style>\n",
       "<table border=\"1\" class=\"dataframe\">\n",
       "  <thead>\n",
       "    <tr style=\"text-align: right;\">\n",
       "      <th></th>\n",
       "      <th>Survived</th>\n",
       "    </tr>\n",
       "    <tr>\n",
       "      <th>Title</th>\n",
       "      <th></th>\n",
       "    </tr>\n",
       "  </thead>\n",
       "  <tbody>\n",
       "    <tr>\n",
       "      <th>Mrs</th>\n",
       "      <td>0.793651</td>\n",
       "    </tr>\n",
       "    <tr>\n",
       "      <th>Miss</th>\n",
       "      <td>0.702703</td>\n",
       "    </tr>\n",
       "    <tr>\n",
       "      <th>Master</th>\n",
       "      <td>0.575000</td>\n",
       "    </tr>\n",
       "    <tr>\n",
       "      <th>Rare</th>\n",
       "      <td>0.347826</td>\n",
       "    </tr>\n",
       "    <tr>\n",
       "      <th>Mr</th>\n",
       "      <td>0.156673</td>\n",
       "    </tr>\n",
       "  </tbody>\n",
       "</table>\n",
       "</div>"
      ],
      "text/plain": [
       "        Survived\n",
       "Title           \n",
       "Mrs     0.793651\n",
       "Miss    0.702703\n",
       "Master  0.575000\n",
       "Rare    0.347826\n",
       "Mr      0.156673"
      ]
     },
     "execution_count": 50,
     "metadata": {},
     "output_type": "execute_result"
    }
   ],
   "source": [
    "train_df[['Title', 'Survived']] \\\n",
    "    .groupby('Title') \\\n",
    "    .mean() \\\n",
    "    .sort_values(by='Survived', ascending=False)"
   ]
  },
  {
   "cell_type": "code",
   "execution_count": 51,
   "id": "f7f461ee",
   "metadata": {
    "execution": {
     "iopub.execute_input": "2024-10-02T11:16:28.266080Z",
     "iopub.status.busy": "2024-10-02T11:16:28.265603Z",
     "iopub.status.idle": "2024-10-02T11:16:28.274074Z",
     "shell.execute_reply": "2024-10-02T11:16:28.272894Z"
    },
    "papermill": {
     "duration": 0.053862,
     "end_time": "2024-10-02T11:16:28.276498",
     "exception": false,
     "start_time": "2024-10-02T11:16:28.222636",
     "status": "completed"
    },
    "tags": []
   },
   "outputs": [
    {
     "data": {
      "text/plain": [
       "array(['Mr', 'Mrs', 'Miss', 'Master', 'Rare'], dtype=object)"
      ]
     },
     "execution_count": 51,
     "metadata": {},
     "output_type": "execute_result"
    }
   ],
   "source": [
    "train_df['Title'].unique()"
   ]
  },
  {
   "cell_type": "code",
   "execution_count": 52,
   "id": "a05ccbb4",
   "metadata": {
    "execution": {
     "iopub.execute_input": "2024-10-02T11:16:28.362879Z",
     "iopub.status.busy": "2024-10-02T11:16:28.362449Z",
     "iopub.status.idle": "2024-10-02T11:16:28.373591Z",
     "shell.execute_reply": "2024-10-02T11:16:28.372533Z"
    },
    "papermill": {
     "duration": 0.057205,
     "end_time": "2024-10-02T11:16:28.376039",
     "exception": false,
     "start_time": "2024-10-02T11:16:28.318834",
     "status": "completed"
    },
    "tags": []
   },
   "outputs": [],
   "source": [
    "ordinal_encoder = OrdinalEncoder(categories=[['Master', 'Miss', 'Mrs', 'Mr', 'Rare']])\n",
    "\n",
    "train_df['Title'] = ordinal_encoder.fit_transform(train_df[['Title']])\n",
    "test_df['Title'] = ordinal_encoder.transform(test_df[['Title']])"
   ]
  },
  {
   "cell_type": "code",
   "execution_count": 53,
   "id": "d64b7e2b",
   "metadata": {
    "execution": {
     "iopub.execute_input": "2024-10-02T11:16:28.460188Z",
     "iopub.status.busy": "2024-10-02T11:16:28.458886Z",
     "iopub.status.idle": "2024-10-02T11:16:28.475345Z",
     "shell.execute_reply": "2024-10-02T11:16:28.474197Z"
    },
    "papermill": {
     "duration": 0.061564,
     "end_time": "2024-10-02T11:16:28.478251",
     "exception": false,
     "start_time": "2024-10-02T11:16:28.416687",
     "status": "completed"
    },
    "tags": []
   },
   "outputs": [
    {
     "data": {
      "text/html": [
       "<div>\n",
       "<style scoped>\n",
       "    .dataframe tbody tr th:only-of-type {\n",
       "        vertical-align: middle;\n",
       "    }\n",
       "\n",
       "    .dataframe tbody tr th {\n",
       "        vertical-align: top;\n",
       "    }\n",
       "\n",
       "    .dataframe thead th {\n",
       "        text-align: right;\n",
       "    }\n",
       "</style>\n",
       "<table border=\"1\" class=\"dataframe\">\n",
       "  <thead>\n",
       "    <tr style=\"text-align: right;\">\n",
       "      <th></th>\n",
       "      <th>PassengerId</th>\n",
       "      <th>Pclass</th>\n",
       "      <th>Sex</th>\n",
       "      <th>Embarked_S</th>\n",
       "      <th>Embarked_C</th>\n",
       "      <th>Embarked_Q</th>\n",
       "      <th>IsAlone</th>\n",
       "      <th>Title</th>\n",
       "      <th>AgeCategory</th>\n",
       "      <th>Survived</th>\n",
       "      <th>FareCategory</th>\n",
       "    </tr>\n",
       "  </thead>\n",
       "  <tbody>\n",
       "    <tr>\n",
       "      <th>0</th>\n",
       "      <td>1</td>\n",
       "      <td>3</td>\n",
       "      <td>1</td>\n",
       "      <td>1</td>\n",
       "      <td>0</td>\n",
       "      <td>0</td>\n",
       "      <td>0</td>\n",
       "      <td>3.0</td>\n",
       "      <td>2</td>\n",
       "      <td>0</td>\n",
       "      <td>1</td>\n",
       "    </tr>\n",
       "    <tr>\n",
       "      <th>1</th>\n",
       "      <td>2</td>\n",
       "      <td>1</td>\n",
       "      <td>0</td>\n",
       "      <td>0</td>\n",
       "      <td>1</td>\n",
       "      <td>0</td>\n",
       "      <td>0</td>\n",
       "      <td>2.0</td>\n",
       "      <td>3</td>\n",
       "      <td>1</td>\n",
       "      <td>4</td>\n",
       "    </tr>\n",
       "    <tr>\n",
       "      <th>2</th>\n",
       "      <td>3</td>\n",
       "      <td>3</td>\n",
       "      <td>0</td>\n",
       "      <td>1</td>\n",
       "      <td>0</td>\n",
       "      <td>0</td>\n",
       "      <td>1</td>\n",
       "      <td>1.0</td>\n",
       "      <td>2</td>\n",
       "      <td>1</td>\n",
       "      <td>2</td>\n",
       "    </tr>\n",
       "    <tr>\n",
       "      <th>3</th>\n",
       "      <td>4</td>\n",
       "      <td>1</td>\n",
       "      <td>0</td>\n",
       "      <td>1</td>\n",
       "      <td>0</td>\n",
       "      <td>0</td>\n",
       "      <td>0</td>\n",
       "      <td>2.0</td>\n",
       "      <td>3</td>\n",
       "      <td>1</td>\n",
       "      <td>4</td>\n",
       "    </tr>\n",
       "    <tr>\n",
       "      <th>4</th>\n",
       "      <td>5</td>\n",
       "      <td>3</td>\n",
       "      <td>1</td>\n",
       "      <td>1</td>\n",
       "      <td>0</td>\n",
       "      <td>0</td>\n",
       "      <td>1</td>\n",
       "      <td>3.0</td>\n",
       "      <td>3</td>\n",
       "      <td>0</td>\n",
       "      <td>2</td>\n",
       "    </tr>\n",
       "  </tbody>\n",
       "</table>\n",
       "</div>"
      ],
      "text/plain": [
       "   PassengerId  Pclass  Sex  Embarked_S  Embarked_C  Embarked_Q  IsAlone  \\\n",
       "0            1       3    1           1           0           0        0   \n",
       "1            2       1    0           0           1           0        0   \n",
       "2            3       3    0           1           0           0        1   \n",
       "3            4       1    0           1           0           0        0   \n",
       "4            5       3    1           1           0           0        1   \n",
       "\n",
       "   Title  AgeCategory  Survived  FareCategory  \n",
       "0    3.0            2         0             1  \n",
       "1    2.0            3         1             4  \n",
       "2    1.0            2         1             2  \n",
       "3    2.0            3         1             4  \n",
       "4    3.0            3         0             2  "
      ]
     },
     "execution_count": 53,
     "metadata": {},
     "output_type": "execute_result"
    }
   ],
   "source": [
    "train_df.head()"
   ]
  },
  {
   "cell_type": "code",
   "execution_count": 54,
   "id": "f1f5cd28",
   "metadata": {
    "execution": {
     "iopub.execute_input": "2024-10-02T11:16:28.561972Z",
     "iopub.status.busy": "2024-10-02T11:16:28.561547Z",
     "iopub.status.idle": "2024-10-02T11:16:28.577309Z",
     "shell.execute_reply": "2024-10-02T11:16:28.576039Z"
    },
    "papermill": {
     "duration": 0.060719,
     "end_time": "2024-10-02T11:16:28.580081",
     "exception": false,
     "start_time": "2024-10-02T11:16:28.519362",
     "status": "completed"
    },
    "tags": []
   },
   "outputs": [
    {
     "data": {
      "text/html": [
       "<div>\n",
       "<style scoped>\n",
       "    .dataframe tbody tr th:only-of-type {\n",
       "        vertical-align: middle;\n",
       "    }\n",
       "\n",
       "    .dataframe tbody tr th {\n",
       "        vertical-align: top;\n",
       "    }\n",
       "\n",
       "    .dataframe thead th {\n",
       "        text-align: right;\n",
       "    }\n",
       "</style>\n",
       "<table border=\"1\" class=\"dataframe\">\n",
       "  <thead>\n",
       "    <tr style=\"text-align: right;\">\n",
       "      <th></th>\n",
       "      <th>PassengerId</th>\n",
       "      <th>Pclass</th>\n",
       "      <th>Sex</th>\n",
       "      <th>Embarked_S</th>\n",
       "      <th>Embarked_C</th>\n",
       "      <th>Embarked_Q</th>\n",
       "      <th>IsAlone</th>\n",
       "      <th>Title</th>\n",
       "      <th>AgeCategory</th>\n",
       "      <th>FareCategory</th>\n",
       "    </tr>\n",
       "  </thead>\n",
       "  <tbody>\n",
       "    <tr>\n",
       "      <th>0</th>\n",
       "      <td>892</td>\n",
       "      <td>3</td>\n",
       "      <td>1</td>\n",
       "      <td>0</td>\n",
       "      <td>0</td>\n",
       "      <td>1</td>\n",
       "      <td>1</td>\n",
       "      <td>3.0</td>\n",
       "      <td>3</td>\n",
       "      <td>1</td>\n",
       "    </tr>\n",
       "    <tr>\n",
       "      <th>1</th>\n",
       "      <td>893</td>\n",
       "      <td>3</td>\n",
       "      <td>0</td>\n",
       "      <td>1</td>\n",
       "      <td>0</td>\n",
       "      <td>0</td>\n",
       "      <td>0</td>\n",
       "      <td>2.0</td>\n",
       "      <td>3</td>\n",
       "      <td>1</td>\n",
       "    </tr>\n",
       "    <tr>\n",
       "      <th>2</th>\n",
       "      <td>894</td>\n",
       "      <td>2</td>\n",
       "      <td>1</td>\n",
       "      <td>0</td>\n",
       "      <td>0</td>\n",
       "      <td>1</td>\n",
       "      <td>1</td>\n",
       "      <td>3.0</td>\n",
       "      <td>4</td>\n",
       "      <td>2</td>\n",
       "    </tr>\n",
       "    <tr>\n",
       "      <th>3</th>\n",
       "      <td>895</td>\n",
       "      <td>3</td>\n",
       "      <td>1</td>\n",
       "      <td>1</td>\n",
       "      <td>0</td>\n",
       "      <td>0</td>\n",
       "      <td>1</td>\n",
       "      <td>3.0</td>\n",
       "      <td>2</td>\n",
       "      <td>2</td>\n",
       "    </tr>\n",
       "    <tr>\n",
       "      <th>4</th>\n",
       "      <td>896</td>\n",
       "      <td>3</td>\n",
       "      <td>0</td>\n",
       "      <td>1</td>\n",
       "      <td>0</td>\n",
       "      <td>0</td>\n",
       "      <td>0</td>\n",
       "      <td>2.0</td>\n",
       "      <td>2</td>\n",
       "      <td>2</td>\n",
       "    </tr>\n",
       "  </tbody>\n",
       "</table>\n",
       "</div>"
      ],
      "text/plain": [
       "   PassengerId  Pclass  Sex  Embarked_S  Embarked_C  Embarked_Q  IsAlone  \\\n",
       "0          892       3    1           0           0           1        1   \n",
       "1          893       3    0           1           0           0        0   \n",
       "2          894       2    1           0           0           1        1   \n",
       "3          895       3    1           1           0           0        1   \n",
       "4          896       3    0           1           0           0        0   \n",
       "\n",
       "   Title  AgeCategory  FareCategory  \n",
       "0    3.0            3             1  \n",
       "1    2.0            3             1  \n",
       "2    3.0            4             2  \n",
       "3    3.0            2             2  \n",
       "4    2.0            2             2  "
      ]
     },
     "execution_count": 54,
     "metadata": {},
     "output_type": "execute_result"
    }
   ],
   "source": [
    "test_df.head()"
   ]
  },
  {
   "cell_type": "code",
   "execution_count": 55,
   "id": "19ebd915",
   "metadata": {
    "execution": {
     "iopub.execute_input": "2024-10-02T11:16:28.666692Z",
     "iopub.status.busy": "2024-10-02T11:16:28.666276Z",
     "iopub.status.idle": "2024-10-02T11:16:28.683725Z",
     "shell.execute_reply": "2024-10-02T11:16:28.682591Z"
    },
    "papermill": {
     "duration": 0.063471,
     "end_time": "2024-10-02T11:16:28.686466",
     "exception": false,
     "start_time": "2024-10-02T11:16:28.622995",
     "status": "completed"
    },
    "tags": []
   },
   "outputs": [
    {
     "data": {
      "text/html": [
       "<div>\n",
       "<style scoped>\n",
       "    .dataframe tbody tr th:only-of-type {\n",
       "        vertical-align: middle;\n",
       "    }\n",
       "\n",
       "    .dataframe tbody tr th {\n",
       "        vertical-align: top;\n",
       "    }\n",
       "\n",
       "    .dataframe thead th {\n",
       "        text-align: right;\n",
       "    }\n",
       "</style>\n",
       "<table border=\"1\" class=\"dataframe\">\n",
       "  <thead>\n",
       "    <tr style=\"text-align: right;\">\n",
       "      <th></th>\n",
       "      <th>Pclass</th>\n",
       "      <th>Sex</th>\n",
       "      <th>Embarked_S</th>\n",
       "      <th>Embarked_C</th>\n",
       "      <th>Embarked_Q</th>\n",
       "      <th>IsAlone</th>\n",
       "      <th>Title</th>\n",
       "      <th>AgeCategory</th>\n",
       "      <th>Survived</th>\n",
       "      <th>FareCategory</th>\n",
       "    </tr>\n",
       "  </thead>\n",
       "  <tbody>\n",
       "    <tr>\n",
       "      <th>0</th>\n",
       "      <td>3</td>\n",
       "      <td>1</td>\n",
       "      <td>1</td>\n",
       "      <td>0</td>\n",
       "      <td>0</td>\n",
       "      <td>0</td>\n",
       "      <td>3.0</td>\n",
       "      <td>2</td>\n",
       "      <td>0</td>\n",
       "      <td>1</td>\n",
       "    </tr>\n",
       "    <tr>\n",
       "      <th>1</th>\n",
       "      <td>1</td>\n",
       "      <td>0</td>\n",
       "      <td>0</td>\n",
       "      <td>1</td>\n",
       "      <td>0</td>\n",
       "      <td>0</td>\n",
       "      <td>2.0</td>\n",
       "      <td>3</td>\n",
       "      <td>1</td>\n",
       "      <td>4</td>\n",
       "    </tr>\n",
       "    <tr>\n",
       "      <th>2</th>\n",
       "      <td>3</td>\n",
       "      <td>0</td>\n",
       "      <td>1</td>\n",
       "      <td>0</td>\n",
       "      <td>0</td>\n",
       "      <td>1</td>\n",
       "      <td>1.0</td>\n",
       "      <td>2</td>\n",
       "      <td>1</td>\n",
       "      <td>2</td>\n",
       "    </tr>\n",
       "    <tr>\n",
       "      <th>3</th>\n",
       "      <td>1</td>\n",
       "      <td>0</td>\n",
       "      <td>1</td>\n",
       "      <td>0</td>\n",
       "      <td>0</td>\n",
       "      <td>0</td>\n",
       "      <td>2.0</td>\n",
       "      <td>3</td>\n",
       "      <td>1</td>\n",
       "      <td>4</td>\n",
       "    </tr>\n",
       "    <tr>\n",
       "      <th>4</th>\n",
       "      <td>3</td>\n",
       "      <td>1</td>\n",
       "      <td>1</td>\n",
       "      <td>0</td>\n",
       "      <td>0</td>\n",
       "      <td>1</td>\n",
       "      <td>3.0</td>\n",
       "      <td>3</td>\n",
       "      <td>0</td>\n",
       "      <td>2</td>\n",
       "    </tr>\n",
       "  </tbody>\n",
       "</table>\n",
       "</div>"
      ],
      "text/plain": [
       "   Pclass  Sex  Embarked_S  Embarked_C  Embarked_Q  IsAlone  Title  \\\n",
       "0       3    1           1           0           0        0    3.0   \n",
       "1       1    0           0           1           0        0    2.0   \n",
       "2       3    0           1           0           0        1    1.0   \n",
       "3       1    0           1           0           0        0    2.0   \n",
       "4       3    1           1           0           0        1    3.0   \n",
       "\n",
       "   AgeCategory  Survived  FareCategory  \n",
       "0            2         0             1  \n",
       "1            3         1             4  \n",
       "2            2         1             2  \n",
       "3            3         1             4  \n",
       "4            3         0             2  "
      ]
     },
     "execution_count": 55,
     "metadata": {},
     "output_type": "execute_result"
    }
   ],
   "source": [
    "train_df.drop(columns='PassengerId', inplace=True)\n",
    "train_df.head()"
   ]
  },
  {
   "cell_type": "code",
   "execution_count": 56,
   "id": "531c5ef4",
   "metadata": {
    "execution": {
     "iopub.execute_input": "2024-10-02T11:16:28.772930Z",
     "iopub.status.busy": "2024-10-02T11:16:28.771831Z",
     "iopub.status.idle": "2024-10-02T11:16:29.522485Z",
     "shell.execute_reply": "2024-10-02T11:16:29.521259Z"
    },
    "papermill": {
     "duration": 0.795973,
     "end_time": "2024-10-02T11:16:29.524875",
     "exception": false,
     "start_time": "2024-10-02T11:16:28.728902",
     "status": "completed"
    },
    "tags": []
   },
   "outputs": [
    {
     "data": {
      "text/plain": [
       "<Axes: >"
      ]
     },
     "execution_count": 56,
     "metadata": {},
     "output_type": "execute_result"
    },
    {
     "data": {
      "image/png": "[encoded data removed]",
      "text/plain": [
       "<Figure size 640x480 with 2 Axes>"
      ]
     },
     "metadata": {},
     "output_type": "display_data"
    }
   ],
   "source": [
    "sns.heatmap(train_df.corr(), annot=True)"
   ]
  },
  {
   "cell_type": "markdown",
   "id": "c2d4c104",
   "metadata": {
    "papermill": {
     "duration": 0.044383,
     "end_time": "2024-10-02T11:16:29.613129",
     "exception": false,
     "start_time": "2024-10-02T11:16:29.568746",
     "status": "completed"
    },
    "tags": []
   },
   "source": [
    "We can see that Sex and Title are the most correlated features with our target variable."
   ]
  },
  {
   "cell_type": "code",
   "execution_count": 57,
   "id": "8a3b9d1f",
   "metadata": {
    "execution": {
     "iopub.execute_input": "2024-10-02T11:16:29.702776Z",
     "iopub.status.busy": "2024-10-02T11:16:29.701707Z",
     "iopub.status.idle": "2024-10-02T11:16:29.712377Z",
     "shell.execute_reply": "2024-10-02T11:16:29.711381Z"
    },
    "papermill": {
     "duration": 0.057694,
     "end_time": "2024-10-02T11:16:29.714741",
     "exception": false,
     "start_time": "2024-10-02T11:16:29.657047",
     "status": "completed"
    },
    "tags": []
   },
   "outputs": [
    {
     "data": {
      "text/plain": [
       "Survived\n",
       "0    549\n",
       "1    342\n",
       "Name: count, dtype: int64"
      ]
     },
     "execution_count": 57,
     "metadata": {},
     "output_type": "execute_result"
    }
   ],
   "source": [
    "train_df['Survived'].value_counts()"
   ]
  },
  {
   "cell_type": "markdown",
   "id": "29344b05",
   "metadata": {
    "papermill": {
     "duration": 0.043272,
     "end_time": "2024-10-02T11:16:29.801159",
     "exception": false,
     "start_time": "2024-10-02T11:16:29.757887",
     "status": "completed"
    },
    "tags": []
   },
   "source": [
    "The data is not balanced, so we cannot rely on the accuracy metric here. Therefore, we will examine the confusion matrix for more information.\n"
   ]
  },
  {
   "cell_type": "markdown",
   "id": "fa5f6053",
   "metadata": {
    "papermill": {
     "duration": 0.046927,
     "end_time": "2024-10-02T11:16:29.891454",
     "exception": false,
     "start_time": "2024-10-02T11:16:29.844527",
     "status": "completed"
    },
    "tags": []
   },
   "source": [
    "# 5. Splitting Data into train and validation sets\n",
    "\n",
    "\n"
   ]
  },
  {
   "cell_type": "code",
   "execution_count": 58,
   "id": "46980336",
   "metadata": {
    "execution": {
     "iopub.execute_input": "2024-10-02T11:16:29.984485Z",
     "iopub.status.busy": "2024-10-02T11:16:29.984053Z",
     "iopub.status.idle": "2024-10-02T11:16:29.991490Z",
     "shell.execute_reply": "2024-10-02T11:16:29.990281Z"
    },
    "papermill": {
     "duration": 0.058682,
     "end_time": "2024-10-02T11:16:29.994275",
     "exception": false,
     "start_time": "2024-10-02T11:16:29.935593",
     "status": "completed"
    },
    "tags": []
   },
   "outputs": [
    {
     "name": "stdout",
     "output_type": "stream",
     "text": [
      "X shape = (891, 9), y shape = (891,)\n"
     ]
    }
   ],
   "source": [
    "target = 'Survived'\n",
    "\n",
    "X = train_df.drop(columns=target)\n",
    "y = train_df[target]\n",
    "\n",
    "print(f'X shape = {X.shape}, y shape = {y.shape}')"
   ]
  },
  {
   "cell_type": "code",
   "execution_count": 59,
   "id": "912a2c6a",
   "metadata": {
    "execution": {
     "iopub.execute_input": "2024-10-02T11:16:30.097702Z",
     "iopub.status.busy": "2024-10-02T11:16:30.097047Z",
     "iopub.status.idle": "2024-10-02T11:16:30.108874Z",
     "shell.execute_reply": "2024-10-02T11:16:30.107816Z"
    },
    "papermill": {
     "duration": 0.073307,
     "end_time": "2024-10-02T11:16:30.111835",
     "exception": false,
     "start_time": "2024-10-02T11:16:30.038528",
     "status": "completed"
    },
    "tags": []
   },
   "outputs": [
    {
     "name": "stdout",
     "output_type": "stream",
     "text": [
      "X_train shape = (712, 9)\n",
      "X_val shape = (179, 9)\n",
      "y_train shape = (712,)\n",
      "y_val shape = (179,)\n"
     ]
    }
   ],
   "source": [
    "X_train, X_val, y_train, y_val = train_test_split(X, y, test_size=0.2, random_state=42)\n",
    "\n",
    "print(f'X_train shape = {X_train.shape}')\n",
    "print(f'X_val shape = {X_val.shape}')\n",
    "print(f'y_train shape = {y_train.shape}')\n",
    "print(f'y_val shape = {y_val.shape}')\n"
   ]
  },
  {
   "cell_type": "code",
   "execution_count": 60,
   "id": "63ab6768",
   "metadata": {
    "execution": {
     "iopub.execute_input": "2024-10-02T11:16:30.209336Z",
     "iopub.status.busy": "2024-10-02T11:16:30.208195Z",
     "iopub.status.idle": "2024-10-02T11:16:30.224795Z",
     "shell.execute_reply": "2024-10-02T11:16:30.223637Z"
    },
    "papermill": {
     "duration": 0.065657,
     "end_time": "2024-10-02T11:16:30.227324",
     "exception": false,
     "start_time": "2024-10-02T11:16:30.161667",
     "status": "completed"
    },
    "tags": []
   },
   "outputs": [
    {
     "data": {
      "text/html": [
       "<div>\n",
       "<style scoped>\n",
       "    .dataframe tbody tr th:only-of-type {\n",
       "        vertical-align: middle;\n",
       "    }\n",
       "\n",
       "    .dataframe tbody tr th {\n",
       "        vertical-align: top;\n",
       "    }\n",
       "\n",
       "    .dataframe thead th {\n",
       "        text-align: right;\n",
       "    }\n",
       "</style>\n",
       "<table border=\"1\" class=\"dataframe\">\n",
       "  <thead>\n",
       "    <tr style=\"text-align: right;\">\n",
       "      <th></th>\n",
       "      <th>Pclass</th>\n",
       "      <th>Sex</th>\n",
       "      <th>Embarked_S</th>\n",
       "      <th>Embarked_C</th>\n",
       "      <th>Embarked_Q</th>\n",
       "      <th>IsAlone</th>\n",
       "      <th>Title</th>\n",
       "      <th>AgeCategory</th>\n",
       "      <th>FareCategory</th>\n",
       "    </tr>\n",
       "  </thead>\n",
       "  <tbody>\n",
       "    <tr>\n",
       "      <th>0</th>\n",
       "      <td>3</td>\n",
       "      <td>1</td>\n",
       "      <td>0</td>\n",
       "      <td>0</td>\n",
       "      <td>1</td>\n",
       "      <td>1</td>\n",
       "      <td>3.0</td>\n",
       "      <td>3</td>\n",
       "      <td>1</td>\n",
       "    </tr>\n",
       "    <tr>\n",
       "      <th>1</th>\n",
       "      <td>3</td>\n",
       "      <td>0</td>\n",
       "      <td>1</td>\n",
       "      <td>0</td>\n",
       "      <td>0</td>\n",
       "      <td>0</td>\n",
       "      <td>2.0</td>\n",
       "      <td>3</td>\n",
       "      <td>1</td>\n",
       "    </tr>\n",
       "    <tr>\n",
       "      <th>2</th>\n",
       "      <td>2</td>\n",
       "      <td>1</td>\n",
       "      <td>0</td>\n",
       "      <td>0</td>\n",
       "      <td>1</td>\n",
       "      <td>1</td>\n",
       "      <td>3.0</td>\n",
       "      <td>4</td>\n",
       "      <td>2</td>\n",
       "    </tr>\n",
       "    <tr>\n",
       "      <th>3</th>\n",
       "      <td>3</td>\n",
       "      <td>1</td>\n",
       "      <td>1</td>\n",
       "      <td>0</td>\n",
       "      <td>0</td>\n",
       "      <td>1</td>\n",
       "      <td>3.0</td>\n",
       "      <td>2</td>\n",
       "      <td>2</td>\n",
       "    </tr>\n",
       "    <tr>\n",
       "      <th>4</th>\n",
       "      <td>3</td>\n",
       "      <td>0</td>\n",
       "      <td>1</td>\n",
       "      <td>0</td>\n",
       "      <td>0</td>\n",
       "      <td>0</td>\n",
       "      <td>2.0</td>\n",
       "      <td>2</td>\n",
       "      <td>2</td>\n",
       "    </tr>\n",
       "  </tbody>\n",
       "</table>\n",
       "</div>"
      ],
      "text/plain": [
       "   Pclass  Sex  Embarked_S  Embarked_C  Embarked_Q  IsAlone  Title  \\\n",
       "0       3    1           0           0           1        1    3.0   \n",
       "1       3    0           1           0           0        0    2.0   \n",
       "2       2    1           0           0           1        1    3.0   \n",
       "3       3    1           1           0           0        1    3.0   \n",
       "4       3    0           1           0           0        0    2.0   \n",
       "\n",
       "   AgeCategory  FareCategory  \n",
       "0            3             1  \n",
       "1            3             1  \n",
       "2            4             2  \n",
       "3            2             2  \n",
       "4            2             2  "
      ]
     },
     "execution_count": 60,
     "metadata": {},
     "output_type": "execute_result"
    }
   ],
   "source": [
    "X_test = test_df.drop(columns='PassengerId')\n",
    "X_test.head()"
   ]
  },
  {
   "cell_type": "markdown",
   "id": "46f3039f",
   "metadata": {
    "papermill": {
     "duration": 0.043701,
     "end_time": "2024-10-02T11:16:30.315536",
     "exception": false,
     "start_time": "2024-10-02T11:16:30.271835",
     "status": "completed"
    },
    "tags": []
   },
   "source": [
    "# 6. Modeling"
   ]
  },
  {
   "cell_type": "code",
   "execution_count": 61,
   "id": "4fdc62aa",
   "metadata": {
    "execution": {
     "iopub.execute_input": "2024-10-02T11:16:30.407664Z",
     "iopub.status.busy": "2024-10-02T11:16:30.407190Z",
     "iopub.status.idle": "2024-10-02T11:16:30.416713Z",
     "shell.execute_reply": "2024-10-02T11:16:30.415574Z"
    },
    "papermill": {
     "duration": 0.059259,
     "end_time": "2024-10-02T11:16:30.419305",
     "exception": false,
     "start_time": "2024-10-02T11:16:30.360046",
     "status": "completed"
    },
    "tags": []
   },
   "outputs": [],
   "source": [
    "def try_different_models(models):\n",
    "    results = {}\n",
    "\n",
    "    for model_name, model in models.items():\n",
    "        model.fit(X_train, y_train)\n",
    "        y_train_pred = model.predict(X_train)\n",
    "        y_val_pred = model.predict(X_val)\n",
    "\n",
    "        results[model_name] = {\n",
    "            'train_acc': accuracy_score(y_train, y_train_pred),\n",
    "            'val_acc': accuracy_score(y_val, y_val_pred),\n",
    "            'train_recall': recall_score(y_train, y_train_pred),\n",
    "            'val_recall': recall_score(y_val, y_val_pred),\n",
    "            'train_precision': precision_score(y_train, y_train_pred),\n",
    "            'val_precision': precision_score(y_val, y_val_pred),\n",
    "            'train_f1_score': f1_score(y_train, y_train_pred),\n",
    "            'val_f1_score': f1_score(y_val, y_val_pred)\n",
    "        }\n",
    "\n",
    "        print(f'{model_name} has finished.')\n",
    "\n",
    "    \n",
    "    result_df = pd.DataFrame(results).T\n",
    "    return result_df, models"
   ]
  },
  {
   "cell_type": "code",
   "execution_count": 62,
   "id": "39c9de8a",
   "metadata": {
    "execution": {
     "iopub.execute_input": "2024-10-02T11:16:30.510295Z",
     "iopub.status.busy": "2024-10-02T11:16:30.509823Z",
     "iopub.status.idle": "2024-10-02T11:16:31.191726Z",
     "shell.execute_reply": "2024-10-02T11:16:31.190541Z"
    },
    "papermill": {
     "duration": 0.730883,
     "end_time": "2024-10-02T11:16:31.194871",
     "exception": false,
     "start_time": "2024-10-02T11:16:30.463988",
     "status": "completed"
    },
    "tags": []
   },
   "outputs": [
    {
     "name": "stdout",
     "output_type": "stream",
     "text": [
      "Logistic Regression has finished.\n",
      "XGBoost has finished.\n",
      "SVM has finished.\n",
      "Decision Tree has finished.\n",
      "Random Forest has finished.\n",
      "Naive Bayes has finished.\n",
      "KNN has finished.\n"
     ]
    },
    {
     "data": {
      "text/html": [
       "<div>\n",
       "<style scoped>\n",
       "    .dataframe tbody tr th:only-of-type {\n",
       "        vertical-align: middle;\n",
       "    }\n",
       "\n",
       "    .dataframe tbody tr th {\n",
       "        vertical-align: top;\n",
       "    }\n",
       "\n",
       "    .dataframe thead th {\n",
       "        text-align: right;\n",
       "    }\n",
       "</style>\n",
       "<table border=\"1\" class=\"dataframe\">\n",
       "  <thead>\n",
       "    <tr style=\"text-align: right;\">\n",
       "      <th></th>\n",
       "      <th>train_acc</th>\n",
       "      <th>val_acc</th>\n",
       "      <th>train_recall</th>\n",
       "      <th>val_recall</th>\n",
       "      <th>train_precision</th>\n",
       "      <th>val_precision</th>\n",
       "      <th>train_f1_score</th>\n",
       "      <th>val_f1_score</th>\n",
       "    </tr>\n",
       "  </thead>\n",
       "  <tbody>\n",
       "    <tr>\n",
       "      <th>XGBoost</th>\n",
       "      <td>0.870787</td>\n",
       "      <td>0.821229</td>\n",
       "      <td>0.783582</td>\n",
       "      <td>0.810811</td>\n",
       "      <td>0.860656</td>\n",
       "      <td>0.769231</td>\n",
       "      <td>0.820312</td>\n",
       "      <td>0.789474</td>\n",
       "    </tr>\n",
       "    <tr>\n",
       "      <th>Decision Tree</th>\n",
       "      <td>0.870787</td>\n",
       "      <td>0.815642</td>\n",
       "      <td>0.772388</td>\n",
       "      <td>0.810811</td>\n",
       "      <td>0.869748</td>\n",
       "      <td>0.759494</td>\n",
       "      <td>0.818182</td>\n",
       "      <td>0.784314</td>\n",
       "    </tr>\n",
       "    <tr>\n",
       "      <th>Random Forest</th>\n",
       "      <td>0.870787</td>\n",
       "      <td>0.810056</td>\n",
       "      <td>0.783582</td>\n",
       "      <td>0.770270</td>\n",
       "      <td>0.860656</td>\n",
       "      <td>0.770270</td>\n",
       "      <td>0.820312</td>\n",
       "      <td>0.770270</td>\n",
       "    </tr>\n",
       "    <tr>\n",
       "      <th>KNN</th>\n",
       "      <td>0.845506</td>\n",
       "      <td>0.810056</td>\n",
       "      <td>0.757463</td>\n",
       "      <td>0.770270</td>\n",
       "      <td>0.818548</td>\n",
       "      <td>0.770270</td>\n",
       "      <td>0.786822</td>\n",
       "      <td>0.770270</td>\n",
       "    </tr>\n",
       "    <tr>\n",
       "      <th>Naive Bayes</th>\n",
       "      <td>0.776685</td>\n",
       "      <td>0.782123</td>\n",
       "      <td>0.783582</td>\n",
       "      <td>0.837838</td>\n",
       "      <td>0.675241</td>\n",
       "      <td>0.696629</td>\n",
       "      <td>0.725389</td>\n",
       "      <td>0.760736</td>\n",
       "    </tr>\n",
       "    <tr>\n",
       "      <th>Logistic Regression</th>\n",
       "      <td>0.794944</td>\n",
       "      <td>0.798883</td>\n",
       "      <td>0.705224</td>\n",
       "      <td>0.770270</td>\n",
       "      <td>0.738281</td>\n",
       "      <td>0.750000</td>\n",
       "      <td>0.721374</td>\n",
       "      <td>0.760000</td>\n",
       "    </tr>\n",
       "    <tr>\n",
       "      <th>SVM</th>\n",
       "      <td>0.823034</td>\n",
       "      <td>0.793296</td>\n",
       "      <td>0.723881</td>\n",
       "      <td>0.702703</td>\n",
       "      <td>0.788618</td>\n",
       "      <td>0.776119</td>\n",
       "      <td>0.754864</td>\n",
       "      <td>0.737589</td>\n",
       "    </tr>\n",
       "  </tbody>\n",
       "</table>\n",
       "</div>"
      ],
      "text/plain": [
       "                     train_acc   val_acc  train_recall  val_recall  \\\n",
       "XGBoost               0.870787  0.821229      0.783582    0.810811   \n",
       "Decision Tree         0.870787  0.815642      0.772388    0.810811   \n",
       "Random Forest         0.870787  0.810056      0.783582    0.770270   \n",
       "KNN                   0.845506  0.810056      0.757463    0.770270   \n",
       "Naive Bayes           0.776685  0.782123      0.783582    0.837838   \n",
       "Logistic Regression   0.794944  0.798883      0.705224    0.770270   \n",
       "SVM                   0.823034  0.793296      0.723881    0.702703   \n",
       "\n",
       "                     train_precision  val_precision  train_f1_score  \\\n",
       "XGBoost                     0.860656       0.769231        0.820312   \n",
       "Decision Tree               0.869748       0.759494        0.818182   \n",
       "Random Forest               0.860656       0.770270        0.820312   \n",
       "KNN                         0.818548       0.770270        0.786822   \n",
       "Naive Bayes                 0.675241       0.696629        0.725389   \n",
       "Logistic Regression         0.738281       0.750000        0.721374   \n",
       "SVM                         0.788618       0.776119        0.754864   \n",
       "\n",
       "                     val_f1_score  \n",
       "XGBoost                  0.789474  \n",
       "Decision Tree            0.784314  \n",
       "Random Forest            0.770270  \n",
       "KNN                      0.770270  \n",
       "Naive Bayes              0.760736  \n",
       "Logistic Regression      0.760000  \n",
       "SVM                      0.737589  "
      ]
     },
     "execution_count": 62,
     "metadata": {},
     "output_type": "execute_result"
    }
   ],
   "source": [
    "models = {\n",
    "    'Logistic Regression': LogisticRegression(),\n",
    "    'XGBoost': XGBClassifier(random_state=42),\n",
    "    'SVM': SVC(),\n",
    "    'Decision Tree': DecisionTreeClassifier(),\n",
    "    'Random Forest': RandomForestClassifier(),\n",
    "    'Naive Bayes': GaussianNB(),\n",
    "    'KNN': KNeighborsClassifier()\n",
    "}\n",
    "\n",
    "results_df, _ = try_different_models(models)\n",
    "results_df.sort_values(by='val_f1_score', ascending=False)"
   ]
  },
  {
   "cell_type": "markdown",
   "id": "5d21ef9e",
   "metadata": {
    "papermill": {
     "duration": 0.04454,
     "end_time": "2024-10-02T11:16:31.284606",
     "exception": false,
     "start_time": "2024-10-02T11:16:31.240066",
     "status": "completed"
    },
    "tags": []
   },
   "source": [
    "We will continue with the best 4 models of validation f1 score."
   ]
  },
  {
   "cell_type": "markdown",
   "id": "ea23a033",
   "metadata": {
    "papermill": {
     "duration": 0.04493,
     "end_time": "2024-10-02T11:16:31.374011",
     "exception": false,
     "start_time": "2024-10-02T11:16:31.329081",
     "status": "completed"
    },
    "tags": []
   },
   "source": [
    "# 7. Hyperparameter Tuning"
   ]
  },
  {
   "cell_type": "code",
   "execution_count": 63,
   "id": "e06e2c59",
   "metadata": {
    "execution": {
     "iopub.execute_input": "2024-10-02T11:16:31.465647Z",
     "iopub.status.busy": "2024-10-02T11:16:31.465239Z",
     "iopub.status.idle": "2024-10-02T11:16:31.471516Z",
     "shell.execute_reply": "2024-10-02T11:16:31.470304Z"
    },
    "papermill": {
     "duration": 0.055218,
     "end_time": "2024-10-02T11:16:31.474013",
     "exception": false,
     "start_time": "2024-10-02T11:16:31.418795",
     "status": "completed"
    },
    "tags": []
   },
   "outputs": [],
   "source": [
    "def get_best_hyperparameters_using_grid_search(model, param_grid):\n",
    "    \n",
    "    grid = GridSearchCV(estimator=model, param_grid=param_grid, cv=5)\n",
    "        \n",
    "    grid.fit(X, y)\n",
    "    \n",
    "    return grid.best_params_\n",
    "    "
   ]
  },
  {
   "cell_type": "markdown",
   "id": "c3f512e5",
   "metadata": {
    "papermill": {
     "duration": 0.044155,
     "end_time": "2024-10-02T11:16:31.564863",
     "exception": false,
     "start_time": "2024-10-02T11:16:31.520708",
     "status": "completed"
    },
    "tags": []
   },
   "source": [
    "## 7.1 Decision Tree Hyperparameter Tuning"
   ]
  },
  {
   "cell_type": "code",
   "execution_count": 64,
   "id": "8e2c5e8c",
   "metadata": {
    "execution": {
     "iopub.execute_input": "2024-10-02T11:16:31.655966Z",
     "iopub.status.busy": "2024-10-02T11:16:31.654883Z",
     "iopub.status.idle": "2024-10-02T11:16:34.614143Z",
     "shell.execute_reply": "2024-10-02T11:16:34.613019Z"
    },
    "papermill": {
     "duration": 3.007633,
     "end_time": "2024-10-02T11:16:34.616776",
     "exception": false,
     "start_time": "2024-10-02T11:16:31.609143",
     "status": "completed"
    },
    "tags": []
   },
   "outputs": [
    {
     "data": {
      "text/plain": [
       "{'criterion': 'entropy', 'max_depth': 3}"
      ]
     },
     "execution_count": 64,
     "metadata": {},
     "output_type": "execute_result"
    }
   ],
   "source": [
    "dt_model = DecisionTreeClassifier()\n",
    "dt_param = {\n",
    "    'criterion': ['gini', 'entropy'],\n",
    "    'max_depth': range(1, 50),\n",
    "}\n",
    "\n",
    "best_dt_param = get_best_hyperparameters_using_grid_search(dt_model, dt_param)\n",
    "best_dt_param"
   ]
  },
  {
   "cell_type": "markdown",
   "id": "889d1134",
   "metadata": {
    "papermill": {
     "duration": 0.0445,
     "end_time": "2024-10-02T11:16:34.707066",
     "exception": false,
     "start_time": "2024-10-02T11:16:34.662566",
     "status": "completed"
    },
    "tags": []
   },
   "source": [
    "# 7.2 Random Forest Hyperparameter Tuning"
   ]
  },
  {
   "cell_type": "code",
   "execution_count": 65,
   "id": "5688ef89",
   "metadata": {
    "execution": {
     "iopub.execute_input": "2024-10-02T11:16:34.798469Z",
     "iopub.status.busy": "2024-10-02T11:16:34.798040Z",
     "iopub.status.idle": "2024-10-02T11:17:36.189227Z",
     "shell.execute_reply": "2024-10-02T11:17:36.187819Z"
    },
    "papermill": {
     "duration": 61.487054,
     "end_time": "2024-10-02T11:17:36.238923",
     "exception": false,
     "start_time": "2024-10-02T11:16:34.751869",
     "status": "completed"
    },
    "tags": []
   },
   "outputs": [
    {
     "data": {
      "text/plain": [
       "{'criterion': 'gini',\n",
       " 'max_depth': 3,\n",
       " 'min_samples_leaf': 2,\n",
       " 'min_samples_split': 5,\n",
       " 'n_estimators': 100}"
      ]
     },
     "execution_count": 65,
     "metadata": {},
     "output_type": "execute_result"
    }
   ],
   "source": [
    "rf_model = RandomForestClassifier()\n",
    "rf_param = {\n",
    "    'n_estimators': [100, 200],\n",
    "    'criterion': ['gini', 'entropy'],\n",
    "    'max_depth': [3,10],\n",
    "    'min_samples_split': [2, 5],\n",
    "    'min_samples_leaf': [2, 5]\n",
    "}\n",
    "\n",
    "best_rf_param = get_best_hyperparameters_using_grid_search(rf_model, rf_param)\n",
    "best_rf_param"
   ]
  },
  {
   "cell_type": "markdown",
   "id": "43bf4e5b",
   "metadata": {
    "papermill": {
     "duration": 0.045198,
     "end_time": "2024-10-02T11:17:36.329698",
     "exception": false,
     "start_time": "2024-10-02T11:17:36.284500",
     "status": "completed"
    },
    "tags": []
   },
   "source": [
    "## 7.3 XGBoost Hyperparameter Tuning"
   ]
  },
  {
   "cell_type": "code",
   "execution_count": 66,
   "id": "7cca1396",
   "metadata": {
    "execution": {
     "iopub.execute_input": "2024-10-02T11:17:36.424291Z",
     "iopub.status.busy": "2024-10-02T11:17:36.423811Z",
     "iopub.status.idle": "2024-10-02T11:18:02.626653Z",
     "shell.execute_reply": "2024-10-02T11:18:02.625483Z"
    },
    "papermill": {
     "duration": 26.254706,
     "end_time": "2024-10-02T11:18:02.629497",
     "exception": false,
     "start_time": "2024-10-02T11:17:36.374791",
     "status": "completed"
    },
    "tags": []
   },
   "outputs": [
    {
     "data": {
      "text/plain": [
       "{'classifier__colsample_bytree': 0.8,\n",
       " 'classifier__learning_rate': 0.01,\n",
       " 'classifier__max_depth': 3,\n",
       " 'classifier__n_estimators': 100,\n",
       " 'classifier__subsample': 0.8}"
      ]
     },
     "execution_count": 66,
     "metadata": {},
     "output_type": "execute_result"
    }
   ],
   "source": [
    "xgb_model = XGBClassifier()\n",
    "\n",
    "xgb_param = {\n",
    "    'classifier__n_estimators': [100, 200],\n",
    "    'classifier__max_depth': [3, 5, 7],\n",
    "    'classifier__learning_rate': [0.01, 0.1, 0.2],\n",
    "    'classifier__subsample': [0.8, 1.0],\n",
    "    'classifier__colsample_bytree': [0.8, 1.0]\n",
    "}\n",
    "\n",
    "best_xgb_param = get_best_hyperparameters_using_grid_search(xgb_model, xgb_param)\n",
    "best_xgb_param"
   ]
  },
  {
   "cell_type": "code",
   "execution_count": 67,
   "id": "ed954c42",
   "metadata": {
    "execution": {
     "iopub.execute_input": "2024-10-02T11:18:02.721930Z",
     "iopub.status.busy": "2024-10-02T11:18:02.721509Z",
     "iopub.status.idle": "2024-10-02T11:18:03.200147Z",
     "shell.execute_reply": "2024-10-02T11:18:03.198989Z"
    },
    "papermill": {
     "duration": 0.528069,
     "end_time": "2024-10-02T11:18:03.203498",
     "exception": false,
     "start_time": "2024-10-02T11:18:02.675429",
     "status": "completed"
    },
    "tags": []
   },
   "outputs": [
    {
     "name": "stdout",
     "output_type": "stream",
     "text": [
      "XGBoost has finished.\n",
      "Decision Tree has finished.\n",
      "Random Forest has finished.\n",
      "KNN has finished.\n"
     ]
    },
    {
     "data": {
      "text/html": [
       "<div>\n",
       "<style scoped>\n",
       "    .dataframe tbody tr th:only-of-type {\n",
       "        vertical-align: middle;\n",
       "    }\n",
       "\n",
       "    .dataframe tbody tr th {\n",
       "        vertical-align: top;\n",
       "    }\n",
       "\n",
       "    .dataframe thead th {\n",
       "        text-align: right;\n",
       "    }\n",
       "</style>\n",
       "<table border=\"1\" class=\"dataframe\">\n",
       "  <thead>\n",
       "    <tr style=\"text-align: right;\">\n",
       "      <th></th>\n",
       "      <th>train_acc</th>\n",
       "      <th>val_acc</th>\n",
       "      <th>train_recall</th>\n",
       "      <th>val_recall</th>\n",
       "      <th>train_precision</th>\n",
       "      <th>val_precision</th>\n",
       "      <th>train_f1_score</th>\n",
       "      <th>val_f1_score</th>\n",
       "    </tr>\n",
       "  </thead>\n",
       "  <tbody>\n",
       "    <tr>\n",
       "      <th>XGBoost</th>\n",
       "      <td>0.870787</td>\n",
       "      <td>0.821229</td>\n",
       "      <td>0.783582</td>\n",
       "      <td>0.810811</td>\n",
       "      <td>0.860656</td>\n",
       "      <td>0.769231</td>\n",
       "      <td>0.820312</td>\n",
       "      <td>0.789474</td>\n",
       "    </tr>\n",
       "    <tr>\n",
       "      <th>Decision Tree</th>\n",
       "      <td>0.816011</td>\n",
       "      <td>0.798883</td>\n",
       "      <td>0.727612</td>\n",
       "      <td>0.743243</td>\n",
       "      <td>0.770751</td>\n",
       "      <td>0.763889</td>\n",
       "      <td>0.748560</td>\n",
       "      <td>0.753425</td>\n",
       "    </tr>\n",
       "    <tr>\n",
       "      <th>Random Forest</th>\n",
       "      <td>0.832865</td>\n",
       "      <td>0.782123</td>\n",
       "      <td>0.686567</td>\n",
       "      <td>0.675676</td>\n",
       "      <td>0.840183</td>\n",
       "      <td>0.769231</td>\n",
       "      <td>0.755647</td>\n",
       "      <td>0.719424</td>\n",
       "    </tr>\n",
       "    <tr>\n",
       "      <th>KNN</th>\n",
       "      <td>0.845506</td>\n",
       "      <td>0.810056</td>\n",
       "      <td>0.757463</td>\n",
       "      <td>0.770270</td>\n",
       "      <td>0.818548</td>\n",
       "      <td>0.770270</td>\n",
       "      <td>0.786822</td>\n",
       "      <td>0.770270</td>\n",
       "    </tr>\n",
       "  </tbody>\n",
       "</table>\n",
       "</div>"
      ],
      "text/plain": [
       "               train_acc   val_acc  train_recall  val_recall  train_precision  \\\n",
       "XGBoost         0.870787  0.821229      0.783582    0.810811         0.860656   \n",
       "Decision Tree   0.816011  0.798883      0.727612    0.743243         0.770751   \n",
       "Random Forest   0.832865  0.782123      0.686567    0.675676         0.840183   \n",
       "KNN             0.845506  0.810056      0.757463    0.770270         0.818548   \n",
       "\n",
       "               val_precision  train_f1_score  val_f1_score  \n",
       "XGBoost             0.769231        0.820312      0.789474  \n",
       "Decision Tree       0.763889        0.748560      0.753425  \n",
       "Random Forest       0.769231        0.755647      0.719424  \n",
       "KNN                 0.770270        0.786822      0.770270  "
      ]
     },
     "execution_count": 67,
     "metadata": {},
     "output_type": "execute_result"
    }
   ],
   "source": [
    "models = {\n",
    "    'XGBoost': XGBClassifier(**best_xgb_param, random_state=42),\n",
    "    'Decision Tree': DecisionTreeClassifier(**best_dt_param, random_state=42),\n",
    "    'Random Forest': RandomForestClassifier(**best_rf_param, random_state=42),\n",
    "    'KNN': KNeighborsClassifier()\n",
    "}\n",
    "\n",
    "results_df, models = try_different_models(models)\n",
    "results_df"
   ]
  },
  {
   "cell_type": "code",
   "execution_count": 68,
   "id": "090e3d7d",
   "metadata": {
    "execution": {
     "iopub.execute_input": "2024-10-02T11:18:03.296936Z",
     "iopub.status.busy": "2024-10-02T11:18:03.296522Z",
     "iopub.status.idle": "2024-10-02T11:18:03.305564Z",
     "shell.execute_reply": "2024-10-02T11:18:03.304240Z"
    },
    "papermill": {
     "duration": 0.05893,
     "end_time": "2024-10-02T11:18:03.308300",
     "exception": false,
     "start_time": "2024-10-02T11:18:03.249370",
     "status": "completed"
    },
    "tags": []
   },
   "outputs": [
    {
     "name": "stdout",
     "output_type": "stream",
     "text": [
      "XGBoost is the best model according to train_acc column.\n",
      "XGBoost is the best model according to val_acc column.\n",
      "XGBoost is the best model according to train_recall column.\n",
      "XGBoost is the best model according to val_recall column.\n",
      "XGBoost is the best model according to train_precision column.\n",
      "KNN is the best model according to val_precision column.\n",
      "XGBoost is the best model according to train_f1_score column.\n",
      "XGBoost is the best model according to val_f1_score column.\n"
     ]
    }
   ],
   "source": [
    "for col in results_df.columns:\n",
    "    best_model = results_df[col].idxmax()\n",
    "    print(f'{best_model} is the best model according to {col} column.')"
   ]
  },
  {
   "cell_type": "code",
   "execution_count": 69,
   "id": "8d933740",
   "metadata": {
    "execution": {
     "iopub.execute_input": "2024-10-02T11:18:03.405167Z",
     "iopub.status.busy": "2024-10-02T11:18:03.404701Z",
     "iopub.status.idle": "2024-10-02T11:18:03.411225Z",
     "shell.execute_reply": "2024-10-02T11:18:03.410030Z"
    },
    "papermill": {
     "duration": 0.057119,
     "end_time": "2024-10-02T11:18:03.413758",
     "exception": false,
     "start_time": "2024-10-02T11:18:03.356639",
     "status": "completed"
    },
    "tags": []
   },
   "outputs": [],
   "source": [
    "def plot_feature_importances(model):\n",
    "    importances = model.feature_importances_\n",
    "    features = model.feature_names_in_\n",
    "    \n",
    "    feat_imp = pd.Series(importances, index=features).sort_values(ascending=True)\n",
    "    feat_imp.plot.barh()\n",
    "    plt.show()"
   ]
  },
  {
   "cell_type": "code",
   "execution_count": 70,
   "id": "40d394be",
   "metadata": {
    "execution": {
     "iopub.execute_input": "2024-10-02T11:18:03.509604Z",
     "iopub.status.busy": "2024-10-02T11:18:03.509192Z",
     "iopub.status.idle": "2024-10-02T11:18:04.333140Z",
     "shell.execute_reply": "2024-10-02T11:18:04.331863Z"
    },
    "papermill": {
     "duration": 0.874669,
     "end_time": "2024-10-02T11:18:04.336507",
     "exception": false,
     "start_time": "2024-10-02T11:18:03.461838",
     "status": "completed"
    },
    "tags": []
   },
   "outputs": [
    {
     "name": "stdout",
     "output_type": "stream",
     "text": [
      "XGBoost feature importances:\n"
     ]
    },
    {
     "data": {
      "image/png": "[encoded data removed]",
      "text/plain": [
       "<Figure size 640x480 with 1 Axes>"
      ]
     },
     "metadata": {},
     "output_type": "display_data"
    },
    {
     "name": "stdout",
     "output_type": "stream",
     "text": [
      "Decision Tree feature importances:\n"
     ]
    },
    {
     "data": {
      "image/png": "[encoded data removed]",
      "text/plain": [
       "<Figure size 640x480 with 1 Axes>"
      ]
     },
     "metadata": {},
     "output_type": "display_data"
    },
    {
     "name": "stdout",
     "output_type": "stream",
     "text": [
      "Random Forest feature importances:\n"
     ]
    },
    {
     "data": {
      "image/png": "[encoded data removed]",
      "text/plain": [
       "<Figure size 640x480 with 1 Axes>"
      ]
     },
     "metadata": {},
     "output_type": "display_data"
    }
   ],
   "source": [
    "for model_name, model in models.items():\n",
    "    if model_name != 'KNN':\n",
    "        print(f'{model_name} feature importances:')\n",
    "        plot_feature_importances(model)"
   ]
  },
  {
   "cell_type": "markdown",
   "id": "b2e90048",
   "metadata": {
    "papermill": {
     "duration": 0.048428,
     "end_time": "2024-10-02T11:18:04.433548",
     "exception": false,
     "start_time": "2024-10-02T11:18:04.385120",
     "status": "completed"
    },
    "tags": []
   },
   "source": [
    "# 8. Submissions"
   ]
  },
  {
   "cell_type": "code",
   "execution_count": 71,
   "id": "10cc9e3b",
   "metadata": {
    "execution": {
     "iopub.execute_input": "2024-10-02T11:18:04.532792Z",
     "iopub.status.busy": "2024-10-02T11:18:04.532334Z",
     "iopub.status.idle": "2024-10-02T11:18:04.554505Z",
     "shell.execute_reply": "2024-10-02T11:18:04.553228Z"
    },
    "papermill": {
     "duration": 0.075473,
     "end_time": "2024-10-02T11:18:04.557224",
     "exception": false,
     "start_time": "2024-10-02T11:18:04.481751",
     "status": "completed"
    },
    "tags": []
   },
   "outputs": [
    {
     "data": {
      "text/html": [
       "<div>\n",
       "<style scoped>\n",
       "    .dataframe tbody tr th:only-of-type {\n",
       "        vertical-align: middle;\n",
       "    }\n",
       "\n",
       "    .dataframe tbody tr th {\n",
       "        vertical-align: top;\n",
       "    }\n",
       "\n",
       "    .dataframe thead th {\n",
       "        text-align: right;\n",
       "    }\n",
       "</style>\n",
       "<table border=\"1\" class=\"dataframe\">\n",
       "  <thead>\n",
       "    <tr style=\"text-align: right;\">\n",
       "      <th></th>\n",
       "      <th>PassengerId</th>\n",
       "      <th>Survived</th>\n",
       "    </tr>\n",
       "  </thead>\n",
       "  <tbody>\n",
       "    <tr>\n",
       "      <th>0</th>\n",
       "      <td>892</td>\n",
       "      <td>0</td>\n",
       "    </tr>\n",
       "    <tr>\n",
       "      <th>1</th>\n",
       "      <td>893</td>\n",
       "      <td>1</td>\n",
       "    </tr>\n",
       "    <tr>\n",
       "      <th>2</th>\n",
       "      <td>894</td>\n",
       "      <td>0</td>\n",
       "    </tr>\n",
       "    <tr>\n",
       "      <th>3</th>\n",
       "      <td>895</td>\n",
       "      <td>0</td>\n",
       "    </tr>\n",
       "    <tr>\n",
       "      <th>4</th>\n",
       "      <td>896</td>\n",
       "      <td>1</td>\n",
       "    </tr>\n",
       "    <tr>\n",
       "      <th>...</th>\n",
       "      <td>...</td>\n",
       "      <td>...</td>\n",
       "    </tr>\n",
       "    <tr>\n",
       "      <th>413</th>\n",
       "      <td>1305</td>\n",
       "      <td>0</td>\n",
       "    </tr>\n",
       "    <tr>\n",
       "      <th>414</th>\n",
       "      <td>1306</td>\n",
       "      <td>1</td>\n",
       "    </tr>\n",
       "    <tr>\n",
       "      <th>415</th>\n",
       "      <td>1307</td>\n",
       "      <td>0</td>\n",
       "    </tr>\n",
       "    <tr>\n",
       "      <th>416</th>\n",
       "      <td>1308</td>\n",
       "      <td>0</td>\n",
       "    </tr>\n",
       "    <tr>\n",
       "      <th>417</th>\n",
       "      <td>1309</td>\n",
       "      <td>0</td>\n",
       "    </tr>\n",
       "  </tbody>\n",
       "</table>\n",
       "<p>418 rows × 2 columns</p>\n",
       "</div>"
      ],
      "text/plain": [
       "     PassengerId  Survived\n",
       "0            892         0\n",
       "1            893         1\n",
       "2            894         0\n",
       "3            895         0\n",
       "4            896         1\n",
       "..           ...       ...\n",
       "413         1305         0\n",
       "414         1306         1\n",
       "415         1307         0\n",
       "416         1308         0\n",
       "417         1309         0\n",
       "\n",
       "[418 rows x 2 columns]"
      ]
     },
     "execution_count": 71,
     "metadata": {},
     "output_type": "execute_result"
    }
   ],
   "source": [
    "templete = pd.read_csv('/kaggle/input/titanic/gender_submission.csv')\n",
    "templete"
   ]
  },
  {
   "cell_type": "code",
   "execution_count": 72,
   "id": "3b5ae9aa",
   "metadata": {
    "execution": {
     "iopub.execute_input": "2024-10-02T11:18:04.655534Z",
     "iopub.status.busy": "2024-10-02T11:18:04.655083Z",
     "iopub.status.idle": "2024-10-02T11:18:04.661801Z",
     "shell.execute_reply": "2024-10-02T11:18:04.660648Z"
    },
    "papermill": {
     "duration": 0.059037,
     "end_time": "2024-10-02T11:18:04.664594",
     "exception": false,
     "start_time": "2024-10-02T11:18:04.605557",
     "status": "completed"
    },
    "tags": []
   },
   "outputs": [],
   "source": [
    "def save_submission_df(model_name, model):\n",
    "    model.fit(X, y)\n",
    "    y_pred = model.predict(X_test)\n",
    "    \n",
    "    submission_df = pd.DataFrame(data = {\n",
    "        'PassengerId': test_df['PassengerId'],\n",
    "        'Survived': y_pred\n",
    "    })\n",
    "    \n",
    "    submission_df.to_csv(f'{model_name} Submission.csv', index=False)\n",
    "    "
   ]
  },
  {
   "cell_type": "code",
   "execution_count": 73,
   "id": "148bee96",
   "metadata": {
    "execution": {
     "iopub.execute_input": "2024-10-02T11:18:04.762695Z",
     "iopub.status.busy": "2024-10-02T11:18:04.762255Z",
     "iopub.status.idle": "2024-10-02T11:18:05.137560Z",
     "shell.execute_reply": "2024-10-02T11:18:05.136444Z"
    },
    "papermill": {
     "duration": 0.427596,
     "end_time": "2024-10-02T11:18:05.140362",
     "exception": false,
     "start_time": "2024-10-02T11:18:04.712766",
     "status": "completed"
    },
    "tags": []
   },
   "outputs": [],
   "source": [
    "for model_name, model in models.items():\n",
    "    save_submission_df(model_name, model)"
   ]
  }
 ],
 "metadata": {
  "kaggle": {
   "accelerator": "none",
   "dataSources": [
    {
     "databundleVersionId": 26502,
     "sourceId": 3136,
     "sourceType": "competition"
    }
   ],
   "dockerImageVersionId": 30776,
   "isGpuEnabled": false,
   "isInternetEnabled": true,
   "language": "python",
   "sourceType": "notebook"
  },
  "kernelspec": {
   "display_name": "Python 3",
   "language": "python",
   "name": "python3"
  },
  "language_info": {
   "codemirror_mode": {
    "name": "ipython",
    "version": 3
   },
   "file_extension": ".py",
   "mimetype": "text/x-python",
   "name": "python",
   "nbconvert_exporter": "python",
   "pygments_lexer": "ipython3",
   "version": "3.10.14"
  },
  "papermill": {
   "default_parameters": {},
   "duration": 114.187326,
   "end_time": "2024-10-02T11:18:05.911316",
   "environment_variables": {},
   "exception": null,
   "input_path": "__notebook__.ipynb",
   "output_path": "__notebook__.ipynb",
   "parameters": {},
   "start_time": "2024-10-02T11:16:11.723990",
   "version": "2.6.0"
  }
 },
 "nbformat": 4,
 "nbformat_minor": 5
}
