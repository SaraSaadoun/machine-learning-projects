{
 "cells": [
  {
   "cell_type": "markdown",
   "id": "6f82d73d",
   "metadata": {
    "papermill": {
     "duration": 0.015554,
     "end_time": "2024-10-09T17:23:46.380610",
     "exception": false,
     "start_time": "2024-10-09T17:23:46.365056",
     "status": "completed"
    },
    "tags": []
   },
   "source": [
    "# 0. Import Libraries"
   ]
  },
  {
   "cell_type": "code",
   "execution_count": 1,
   "id": "43dbf1ca",
   "metadata": {
    "execution": {
     "iopub.execute_input": "2024-10-09T17:23:46.412415Z",
     "iopub.status.busy": "2024-10-09T17:23:46.411984Z",
     "iopub.status.idle": "2024-10-09T17:23:50.063996Z",
     "shell.execute_reply": "2024-10-09T17:23:50.062712Z"
    },
    "papermill": {
     "duration": 3.670815,
     "end_time": "2024-10-09T17:23:50.067030",
     "exception": false,
     "start_time": "2024-10-09T17:23:46.396215",
     "status": "completed"
    },
    "tags": []
   },
   "outputs": [],
   "source": [
    "import pandas as pd\n",
    "\n",
    "import matplotlib.pyplot as plt\n",
    "import seaborn as sns\n",
    "\n",
    "from sklearn.preprocessing import LabelEncoder\n",
    "from sklearn.cluster import KMeans\n",
    "from sklearn.metrics import silhouette_score\n",
    "from sklearn.decomposition import PCA\n",
    "from sklearn.cluster import AgglomerativeClustering\n",
    "\n",
    "\n",
    "import warnings\n",
    "warnings.filterwarnings('ignore')"
   ]
  },
  {
   "cell_type": "markdown",
   "id": "c9afb455",
   "metadata": {
    "papermill": {
     "duration": 0.014595,
     "end_time": "2024-10-09T17:23:50.096334",
     "exception": false,
     "start_time": "2024-10-09T17:23:50.081739",
     "status": "completed"
    },
    "tags": []
   },
   "source": [
    "# 1. Meet The Data"
   ]
  },
  {
   "cell_type": "code",
   "execution_count": 2,
   "id": "22bb3178",
   "metadata": {
    "execution": {
     "iopub.execute_input": "2024-10-09T17:23:50.127456Z",
     "iopub.status.busy": "2024-10-09T17:23:50.126850Z",
     "iopub.status.idle": "2024-10-09T17:23:50.169887Z",
     "shell.execute_reply": "2024-10-09T17:23:50.168693Z"
    },
    "papermill": {
     "duration": 0.061809,
     "end_time": "2024-10-09T17:23:50.172655",
     "exception": false,
     "start_time": "2024-10-09T17:23:50.110846",
     "status": "completed"
    },
    "tags": []
   },
   "outputs": [
    {
     "data": {
      "text/html": [
       "<div>\n",
       "<style scoped>\n",
       "    .dataframe tbody tr th:only-of-type {\n",
       "        vertical-align: middle;\n",
       "    }\n",
       "\n",
       "    .dataframe tbody tr th {\n",
       "        vertical-align: top;\n",
       "    }\n",
       "\n",
       "    .dataframe thead th {\n",
       "        text-align: right;\n",
       "    }\n",
       "</style>\n",
       "<table border=\"1\" class=\"dataframe\">\n",
       "  <thead>\n",
       "    <tr style=\"text-align: right;\">\n",
       "      <th></th>\n",
       "      <th>CustomerID</th>\n",
       "      <th>Genre</th>\n",
       "      <th>Age</th>\n",
       "      <th>Annual Income (k$)</th>\n",
       "      <th>Spending Score (1-100)</th>\n",
       "    </tr>\n",
       "  </thead>\n",
       "  <tbody>\n",
       "    <tr>\n",
       "      <th>0</th>\n",
       "      <td>1</td>\n",
       "      <td>Male</td>\n",
       "      <td>19</td>\n",
       "      <td>15</td>\n",
       "      <td>39</td>\n",
       "    </tr>\n",
       "    <tr>\n",
       "      <th>1</th>\n",
       "      <td>2</td>\n",
       "      <td>Male</td>\n",
       "      <td>21</td>\n",
       "      <td>15</td>\n",
       "      <td>81</td>\n",
       "    </tr>\n",
       "    <tr>\n",
       "      <th>2</th>\n",
       "      <td>3</td>\n",
       "      <td>Female</td>\n",
       "      <td>20</td>\n",
       "      <td>16</td>\n",
       "      <td>6</td>\n",
       "    </tr>\n",
       "    <tr>\n",
       "      <th>3</th>\n",
       "      <td>4</td>\n",
       "      <td>Female</td>\n",
       "      <td>23</td>\n",
       "      <td>16</td>\n",
       "      <td>77</td>\n",
       "    </tr>\n",
       "    <tr>\n",
       "      <th>4</th>\n",
       "      <td>5</td>\n",
       "      <td>Female</td>\n",
       "      <td>31</td>\n",
       "      <td>17</td>\n",
       "      <td>40</td>\n",
       "    </tr>\n",
       "  </tbody>\n",
       "</table>\n",
       "</div>"
      ],
      "text/plain": [
       "   CustomerID   Genre  Age  Annual Income (k$)  Spending Score (1-100)\n",
       "0           1    Male   19                  15                      39\n",
       "1           2    Male   21                  15                      81\n",
       "2           3  Female   20                  16                       6\n",
       "3           4  Female   23                  16                      77\n",
       "4           5  Female   31                  17                      40"
      ]
     },
     "execution_count": 2,
     "metadata": {},
     "output_type": "execute_result"
    }
   ],
   "source": [
    "df = pd.read_csv('/kaggle/input/mall-customers/Mall_Customers.csv')\n",
    "df.head()"
   ]
  },
  {
   "cell_type": "markdown",
   "id": "27cd48b0",
   "metadata": {
    "papermill": {
     "duration": 0.014747,
     "end_time": "2024-10-09T17:23:50.202844",
     "exception": false,
     "start_time": "2024-10-09T17:23:50.188097",
     "status": "completed"
    },
    "tags": []
   },
   "source": [
    "# 2. Data Exploration & Manipulation"
   ]
  },
  {
   "cell_type": "code",
   "execution_count": 3,
   "id": "1f6fba46",
   "metadata": {
    "execution": {
     "iopub.execute_input": "2024-10-09T17:23:50.235099Z",
     "iopub.status.busy": "2024-10-09T17:23:50.234664Z",
     "iopub.status.idle": "2024-10-09T17:23:50.242152Z",
     "shell.execute_reply": "2024-10-09T17:23:50.240951Z"
    },
    "papermill": {
     "duration": 0.026664,
     "end_time": "2024-10-09T17:23:50.244655",
     "exception": false,
     "start_time": "2024-10-09T17:23:50.217991",
     "status": "completed"
    },
    "tags": []
   },
   "outputs": [
    {
     "data": {
      "text/plain": [
       "(200, 5)"
      ]
     },
     "execution_count": 3,
     "metadata": {},
     "output_type": "execute_result"
    }
   ],
   "source": [
    "df.shape"
   ]
  },
  {
   "cell_type": "code",
   "execution_count": 4,
   "id": "9866319a",
   "metadata": {
    "execution": {
     "iopub.execute_input": "2024-10-09T17:23:50.276566Z",
     "iopub.status.busy": "2024-10-09T17:23:50.276159Z",
     "iopub.status.idle": "2024-10-09T17:23:50.288999Z",
     "shell.execute_reply": "2024-10-09T17:23:50.287849Z"
    },
    "papermill": {
     "duration": 0.031826,
     "end_time": "2024-10-09T17:23:50.291527",
     "exception": false,
     "start_time": "2024-10-09T17:23:50.259701",
     "status": "completed"
    },
    "tags": []
   },
   "outputs": [
    {
     "data": {
      "text/html": [
       "<div>\n",
       "<style scoped>\n",
       "    .dataframe tbody tr th:only-of-type {\n",
       "        vertical-align: middle;\n",
       "    }\n",
       "\n",
       "    .dataframe tbody tr th {\n",
       "        vertical-align: top;\n",
       "    }\n",
       "\n",
       "    .dataframe thead th {\n",
       "        text-align: right;\n",
       "    }\n",
       "</style>\n",
       "<table border=\"1\" class=\"dataframe\">\n",
       "  <thead>\n",
       "    <tr style=\"text-align: right;\">\n",
       "      <th></th>\n",
       "      <th>CustomerID</th>\n",
       "      <th>Genre</th>\n",
       "      <th>Age</th>\n",
       "      <th>Annual Income (k$)</th>\n",
       "      <th>Spending Score (1-100)</th>\n",
       "    </tr>\n",
       "  </thead>\n",
       "  <tbody>\n",
       "    <tr>\n",
       "      <th>0</th>\n",
       "      <td>1</td>\n",
       "      <td>Male</td>\n",
       "      <td>19</td>\n",
       "      <td>15</td>\n",
       "      <td>39</td>\n",
       "    </tr>\n",
       "    <tr>\n",
       "      <th>1</th>\n",
       "      <td>2</td>\n",
       "      <td>Male</td>\n",
       "      <td>21</td>\n",
       "      <td>15</td>\n",
       "      <td>81</td>\n",
       "    </tr>\n",
       "    <tr>\n",
       "      <th>2</th>\n",
       "      <td>3</td>\n",
       "      <td>Female</td>\n",
       "      <td>20</td>\n",
       "      <td>16</td>\n",
       "      <td>6</td>\n",
       "    </tr>\n",
       "    <tr>\n",
       "      <th>3</th>\n",
       "      <td>4</td>\n",
       "      <td>Female</td>\n",
       "      <td>23</td>\n",
       "      <td>16</td>\n",
       "      <td>77</td>\n",
       "    </tr>\n",
       "    <tr>\n",
       "      <th>4</th>\n",
       "      <td>5</td>\n",
       "      <td>Female</td>\n",
       "      <td>31</td>\n",
       "      <td>17</td>\n",
       "      <td>40</td>\n",
       "    </tr>\n",
       "  </tbody>\n",
       "</table>\n",
       "</div>"
      ],
      "text/plain": [
       "   CustomerID   Genre  Age  Annual Income (k$)  Spending Score (1-100)\n",
       "0           1    Male   19                  15                      39\n",
       "1           2    Male   21                  15                      81\n",
       "2           3  Female   20                  16                       6\n",
       "3           4  Female   23                  16                      77\n",
       "4           5  Female   31                  17                      40"
      ]
     },
     "execution_count": 4,
     "metadata": {},
     "output_type": "execute_result"
    }
   ],
   "source": [
    "df.head()"
   ]
  },
  {
   "cell_type": "code",
   "execution_count": 5,
   "id": "bada1d78",
   "metadata": {
    "execution": {
     "iopub.execute_input": "2024-10-09T17:23:50.323581Z",
     "iopub.status.busy": "2024-10-09T17:23:50.323177Z",
     "iopub.status.idle": "2024-10-09T17:23:50.546263Z",
     "shell.execute_reply": "2024-10-09T17:23:50.544743Z"
    },
    "papermill": {
     "duration": 0.244277,
     "end_time": "2024-10-09T17:23:50.550913",
     "exception": false,
     "start_time": "2024-10-09T17:23:50.306636",
     "status": "completed"
    },
    "tags": []
   },
   "outputs": [
    {
     "data": {
      "image/png": "[encoded data removed]",
      "text/plain": [
       "<Figure size 640x480 with 1 Axes>"
      ]
     },
     "metadata": {},
     "output_type": "display_data"
    }
   ],
   "source": [
    "df['Genre'].value_counts().plot.pie(autopct='%1.1f%%', legend=True);"
   ]
  },
  {
   "cell_type": "code",
   "execution_count": 6,
   "id": "497ba59a",
   "metadata": {
    "execution": {
     "iopub.execute_input": "2024-10-09T17:23:50.619424Z",
     "iopub.status.busy": "2024-10-09T17:23:50.618324Z",
     "iopub.status.idle": "2024-10-09T17:23:50.639458Z",
     "shell.execute_reply": "2024-10-09T17:23:50.638019Z"
    },
    "papermill": {
     "duration": 0.059158,
     "end_time": "2024-10-09T17:23:50.643037",
     "exception": false,
     "start_time": "2024-10-09T17:23:50.583879",
     "status": "completed"
    },
    "tags": []
   },
   "outputs": [
    {
     "name": "stdout",
     "output_type": "stream",
     "text": [
      "<class 'pandas.core.frame.DataFrame'>\n",
      "RangeIndex: 200 entries, 0 to 199\n",
      "Data columns (total 5 columns):\n",
      " #   Column                  Non-Null Count  Dtype \n",
      "---  ------                  --------------  ----- \n",
      " 0   CustomerID              200 non-null    int64 \n",
      " 1   Genre                   200 non-null    object\n",
      " 2   Age                     200 non-null    int64 \n",
      " 3   Annual Income (k$)      200 non-null    int64 \n",
      " 4   Spending Score (1-100)  200 non-null    int64 \n",
      "dtypes: int64(4), object(1)\n",
      "memory usage: 7.9+ KB\n"
     ]
    }
   ],
   "source": [
    "df.info()"
   ]
  },
  {
   "cell_type": "markdown",
   "id": "5f804ffe",
   "metadata": {
    "papermill": {
     "duration": 0.015676,
     "end_time": "2024-10-09T17:23:50.674454",
     "exception": false,
     "start_time": "2024-10-09T17:23:50.658778",
     "status": "completed"
    },
    "tags": []
   },
   "source": [
    "As we see, data types are correct and there is no null values as well."
   ]
  },
  {
   "cell_type": "code",
   "execution_count": 7,
   "id": "3d74c655",
   "metadata": {
    "execution": {
     "iopub.execute_input": "2024-10-09T17:23:50.707897Z",
     "iopub.status.busy": "2024-10-09T17:23:50.707439Z",
     "iopub.status.idle": "2024-10-09T17:23:50.738460Z",
     "shell.execute_reply": "2024-10-09T17:23:50.737291Z"
    },
    "papermill": {
     "duration": 0.051138,
     "end_time": "2024-10-09T17:23:50.741188",
     "exception": false,
     "start_time": "2024-10-09T17:23:50.690050",
     "status": "completed"
    },
    "tags": []
   },
   "outputs": [
    {
     "data": {
      "text/html": [
       "<div>\n",
       "<style scoped>\n",
       "    .dataframe tbody tr th:only-of-type {\n",
       "        vertical-align: middle;\n",
       "    }\n",
       "\n",
       "    .dataframe tbody tr th {\n",
       "        vertical-align: top;\n",
       "    }\n",
       "\n",
       "    .dataframe thead th {\n",
       "        text-align: right;\n",
       "    }\n",
       "</style>\n",
       "<table border=\"1\" class=\"dataframe\">\n",
       "  <thead>\n",
       "    <tr style=\"text-align: right;\">\n",
       "      <th></th>\n",
       "      <th>count</th>\n",
       "      <th>mean</th>\n",
       "      <th>std</th>\n",
       "      <th>min</th>\n",
       "      <th>25%</th>\n",
       "      <th>50%</th>\n",
       "      <th>75%</th>\n",
       "      <th>max</th>\n",
       "    </tr>\n",
       "  </thead>\n",
       "  <tbody>\n",
       "    <tr>\n",
       "      <th>CustomerID</th>\n",
       "      <td>200.0</td>\n",
       "      <td>100.50</td>\n",
       "      <td>57.879185</td>\n",
       "      <td>1.0</td>\n",
       "      <td>50.75</td>\n",
       "      <td>100.5</td>\n",
       "      <td>150.25</td>\n",
       "      <td>200.0</td>\n",
       "    </tr>\n",
       "    <tr>\n",
       "      <th>Age</th>\n",
       "      <td>200.0</td>\n",
       "      <td>38.85</td>\n",
       "      <td>13.969007</td>\n",
       "      <td>18.0</td>\n",
       "      <td>28.75</td>\n",
       "      <td>36.0</td>\n",
       "      <td>49.00</td>\n",
       "      <td>70.0</td>\n",
       "    </tr>\n",
       "    <tr>\n",
       "      <th>Annual Income (k$)</th>\n",
       "      <td>200.0</td>\n",
       "      <td>60.56</td>\n",
       "      <td>26.264721</td>\n",
       "      <td>15.0</td>\n",
       "      <td>41.50</td>\n",
       "      <td>61.5</td>\n",
       "      <td>78.00</td>\n",
       "      <td>137.0</td>\n",
       "    </tr>\n",
       "    <tr>\n",
       "      <th>Spending Score (1-100)</th>\n",
       "      <td>200.0</td>\n",
       "      <td>50.20</td>\n",
       "      <td>25.823522</td>\n",
       "      <td>1.0</td>\n",
       "      <td>34.75</td>\n",
       "      <td>50.0</td>\n",
       "      <td>73.00</td>\n",
       "      <td>99.0</td>\n",
       "    </tr>\n",
       "  </tbody>\n",
       "</table>\n",
       "</div>"
      ],
      "text/plain": [
       "                        count    mean        std   min    25%    50%     75%  \\\n",
       "CustomerID              200.0  100.50  57.879185   1.0  50.75  100.5  150.25   \n",
       "Age                     200.0   38.85  13.969007  18.0  28.75   36.0   49.00   \n",
       "Annual Income (k$)      200.0   60.56  26.264721  15.0  41.50   61.5   78.00   \n",
       "Spending Score (1-100)  200.0   50.20  25.823522   1.0  34.75   50.0   73.00   \n",
       "\n",
       "                          max  \n",
       "CustomerID              200.0  \n",
       "Age                      70.0  \n",
       "Annual Income (k$)      137.0  \n",
       "Spending Score (1-100)   99.0  "
      ]
     },
     "execution_count": 7,
     "metadata": {},
     "output_type": "execute_result"
    }
   ],
   "source": [
    "df.describe().T"
   ]
  },
  {
   "cell_type": "markdown",
   "id": "c9018007",
   "metadata": {
    "papermill": {
     "duration": 0.015332,
     "end_time": "2024-10-09T17:23:50.772706",
     "exception": false,
     "start_time": "2024-10-09T17:23:50.757374",
     "status": "completed"
    },
    "tags": []
   },
   "source": [
    "We will choose to work with std scaler, so this rescales the features to a fixed range, typically [0, 1].\n"
   ]
  },
  {
   "cell_type": "code",
   "execution_count": 8,
   "id": "4b08c9dc",
   "metadata": {
    "execution": {
     "iopub.execute_input": "2024-10-09T17:23:50.806180Z",
     "iopub.status.busy": "2024-10-09T17:23:50.805710Z",
     "iopub.status.idle": "2024-10-09T17:23:51.782047Z",
     "shell.execute_reply": "2024-10-09T17:23:51.780797Z"
    },
    "papermill": {
     "duration": 0.996379,
     "end_time": "2024-10-09T17:23:51.785007",
     "exception": false,
     "start_time": "2024-10-09T17:23:50.788628",
     "status": "completed"
    },
    "tags": []
   },
   "outputs": [
    {
     "data": {
      "text/plain": [
       "array([[<Axes: title={'center': 'CustomerID'}>,\n",
       "        <Axes: title={'center': 'Age'}>],\n",
       "       [<Axes: title={'center': 'Annual Income (k$)'}>,\n",
       "        <Axes: title={'center': 'Spending Score (1-100)'}>]], dtype=object)"
      ]
     },
     "execution_count": 8,
     "metadata": {},
     "output_type": "execute_result"
    },
    {
     "data": {
      "image/png": "[encoded data removed]",
      "text/plain": [
       "<Figure size 640x480 with 4 Axes>"
      ]
     },
     "metadata": {},
     "output_type": "display_data"
    }
   ],
   "source": [
    "df.select_dtypes(exclude='O').hist()"
   ]
  },
  {
   "cell_type": "markdown",
   "id": "631001a3",
   "metadata": {
    "papermill": {
     "duration": 0.01692,
     "end_time": "2024-10-09T17:23:51.823092",
     "exception": false,
     "start_time": "2024-10-09T17:23:51.806172",
     "status": "completed"
    },
    "tags": []
   },
   "source": [
    "check for duplications"
   ]
  },
  {
   "cell_type": "code",
   "execution_count": 9,
   "id": "575412f4",
   "metadata": {
    "execution": {
     "iopub.execute_input": "2024-10-09T17:23:51.858502Z",
     "iopub.status.busy": "2024-10-09T17:23:51.858084Z",
     "iopub.status.idle": "2024-10-09T17:23:51.868559Z",
     "shell.execute_reply": "2024-10-09T17:23:51.867305Z"
    },
    "papermill": {
     "duration": 0.031015,
     "end_time": "2024-10-09T17:23:51.871219",
     "exception": false,
     "start_time": "2024-10-09T17:23:51.840204",
     "status": "completed"
    },
    "tags": []
   },
   "outputs": [
    {
     "data": {
      "text/plain": [
       "0"
      ]
     },
     "execution_count": 9,
     "metadata": {},
     "output_type": "execute_result"
    }
   ],
   "source": [
    "df.duplicated().sum()"
   ]
  },
  {
   "cell_type": "code",
   "execution_count": 10,
   "id": "9af7e2ef",
   "metadata": {
    "execution": {
     "iopub.execute_input": "2024-10-09T17:23:51.907458Z",
     "iopub.status.busy": "2024-10-09T17:23:51.907018Z",
     "iopub.status.idle": "2024-10-09T17:23:51.919949Z",
     "shell.execute_reply": "2024-10-09T17:23:51.918758Z"
    },
    "papermill": {
     "duration": 0.033948,
     "end_time": "2024-10-09T17:23:51.922271",
     "exception": false,
     "start_time": "2024-10-09T17:23:51.888323",
     "status": "completed"
    },
    "tags": []
   },
   "outputs": [
    {
     "data": {
      "text/html": [
       "<div>\n",
       "<style scoped>\n",
       "    .dataframe tbody tr th:only-of-type {\n",
       "        vertical-align: middle;\n",
       "    }\n",
       "\n",
       "    .dataframe tbody tr th {\n",
       "        vertical-align: top;\n",
       "    }\n",
       "\n",
       "    .dataframe thead th {\n",
       "        text-align: right;\n",
       "    }\n",
       "</style>\n",
       "<table border=\"1\" class=\"dataframe\">\n",
       "  <thead>\n",
       "    <tr style=\"text-align: right;\">\n",
       "      <th></th>\n",
       "      <th>CustomerID</th>\n",
       "      <th>Genre</th>\n",
       "      <th>Age</th>\n",
       "      <th>Annual Income (k$)</th>\n",
       "      <th>Spending Score (1-100)</th>\n",
       "    </tr>\n",
       "  </thead>\n",
       "  <tbody>\n",
       "    <tr>\n",
       "      <th>0</th>\n",
       "      <td>1</td>\n",
       "      <td>Male</td>\n",
       "      <td>19</td>\n",
       "      <td>15</td>\n",
       "      <td>39</td>\n",
       "    </tr>\n",
       "    <tr>\n",
       "      <th>1</th>\n",
       "      <td>2</td>\n",
       "      <td>Male</td>\n",
       "      <td>21</td>\n",
       "      <td>15</td>\n",
       "      <td>81</td>\n",
       "    </tr>\n",
       "    <tr>\n",
       "      <th>2</th>\n",
       "      <td>3</td>\n",
       "      <td>Female</td>\n",
       "      <td>20</td>\n",
       "      <td>16</td>\n",
       "      <td>6</td>\n",
       "    </tr>\n",
       "    <tr>\n",
       "      <th>3</th>\n",
       "      <td>4</td>\n",
       "      <td>Female</td>\n",
       "      <td>23</td>\n",
       "      <td>16</td>\n",
       "      <td>77</td>\n",
       "    </tr>\n",
       "    <tr>\n",
       "      <th>4</th>\n",
       "      <td>5</td>\n",
       "      <td>Female</td>\n",
       "      <td>31</td>\n",
       "      <td>17</td>\n",
       "      <td>40</td>\n",
       "    </tr>\n",
       "  </tbody>\n",
       "</table>\n",
       "</div>"
      ],
      "text/plain": [
       "   CustomerID   Genre  Age  Annual Income (k$)  Spending Score (1-100)\n",
       "0           1    Male   19                  15                      39\n",
       "1           2    Male   21                  15                      81\n",
       "2           3  Female   20                  16                       6\n",
       "3           4  Female   23                  16                      77\n",
       "4           5  Female   31                  17                      40"
      ]
     },
     "execution_count": 10,
     "metadata": {},
     "output_type": "execute_result"
    }
   ],
   "source": [
    "df.head()"
   ]
  },
  {
   "cell_type": "code",
   "execution_count": 11,
   "id": "d2fd5ee3",
   "metadata": {
    "execution": {
     "iopub.execute_input": "2024-10-09T17:23:51.958822Z",
     "iopub.status.busy": "2024-10-09T17:23:51.957729Z",
     "iopub.status.idle": "2024-10-09T17:23:51.966380Z",
     "shell.execute_reply": "2024-10-09T17:23:51.965236Z"
    },
    "papermill": {
     "duration": 0.03046,
     "end_time": "2024-10-09T17:23:51.969739",
     "exception": false,
     "start_time": "2024-10-09T17:23:51.939279",
     "status": "completed"
    },
    "tags": []
   },
   "outputs": [
    {
     "data": {
      "text/plain": [
       "Index(['CustomerID', 'Age', 'Annual Income (k$)', 'Spending Score (1-100)'], dtype='object')"
      ]
     },
     "execution_count": 11,
     "metadata": {},
     "output_type": "execute_result"
    }
   ],
   "source": [
    "df.select_dtypes(exclude='O').columns"
   ]
  },
  {
   "cell_type": "markdown",
   "id": "ab100936",
   "metadata": {
    "papermill": {
     "duration": 0.0169,
     "end_time": "2024-10-09T17:23:52.005187",
     "exception": false,
     "start_time": "2024-10-09T17:23:51.988287",
     "status": "completed"
    },
    "tags": []
   },
   "source": [
    "# 3. Preprocessing"
   ]
  },
  {
   "cell_type": "markdown",
   "id": "b49dc670",
   "metadata": {
    "papermill": {
     "duration": 0.017014,
     "end_time": "2024-10-09T17:23:52.039514",
     "exception": false,
     "start_time": "2024-10-09T17:23:52.022500",
     "status": "completed"
    },
    "tags": []
   },
   "source": [
    "- Drop customer IDs, as they are considered a high-cardinality variable.\n"
   ]
  },
  {
   "cell_type": "code",
   "execution_count": 12,
   "id": "147df7bf",
   "metadata": {
    "execution": {
     "iopub.execute_input": "2024-10-09T17:23:52.076522Z",
     "iopub.status.busy": "2024-10-09T17:23:52.076045Z",
     "iopub.status.idle": "2024-10-09T17:23:52.084485Z",
     "shell.execute_reply": "2024-10-09T17:23:52.083284Z"
    },
    "papermill": {
     "duration": 0.030112,
     "end_time": "2024-10-09T17:23:52.087025",
     "exception": false,
     "start_time": "2024-10-09T17:23:52.056913",
     "status": "completed"
    },
    "tags": []
   },
   "outputs": [],
   "source": [
    "df.drop(columns='CustomerID', axis=1, inplace=True)"
   ]
  },
  {
   "cell_type": "markdown",
   "id": "792670f6",
   "metadata": {
    "papermill": {
     "duration": 0.017155,
     "end_time": "2024-10-09T17:23:52.121063",
     "exception": false,
     "start_time": "2024-10-09T17:23:52.103908",
     "status": "completed"
    },
    "tags": []
   },
   "source": [
    "Note that in clustering we don't need actually to split our data like in supervised machine learning tasks."
   ]
  },
  {
   "cell_type": "code",
   "execution_count": 13,
   "id": "77ba7758",
   "metadata": {
    "execution": {
     "iopub.execute_input": "2024-10-09T17:23:52.158588Z",
     "iopub.status.busy": "2024-10-09T17:23:52.158167Z",
     "iopub.status.idle": "2024-10-09T17:23:52.164765Z",
     "shell.execute_reply": "2024-10-09T17:23:52.163555Z"
    },
    "papermill": {
     "duration": 0.029182,
     "end_time": "2024-10-09T17:23:52.167725",
     "exception": false,
     "start_time": "2024-10-09T17:23:52.138543",
     "status": "completed"
    },
    "tags": []
   },
   "outputs": [],
   "source": [
    "label_encoder = LabelEncoder()\n",
    "df['Genre'] = label_encoder.fit_transform(df['Genre'])"
   ]
  },
  {
   "cell_type": "code",
   "execution_count": 14,
   "id": "cb60f7dc",
   "metadata": {
    "execution": {
     "iopub.execute_input": "2024-10-09T17:23:52.204148Z",
     "iopub.status.busy": "2024-10-09T17:23:52.203670Z",
     "iopub.status.idle": "2024-10-09T17:23:52.215680Z",
     "shell.execute_reply": "2024-10-09T17:23:52.214668Z"
    },
    "papermill": {
     "duration": 0.032892,
     "end_time": "2024-10-09T17:23:52.217976",
     "exception": false,
     "start_time": "2024-10-09T17:23:52.185084",
     "status": "completed"
    },
    "tags": []
   },
   "outputs": [
    {
     "data": {
      "text/html": [
       "<div>\n",
       "<style scoped>\n",
       "    .dataframe tbody tr th:only-of-type {\n",
       "        vertical-align: middle;\n",
       "    }\n",
       "\n",
       "    .dataframe tbody tr th {\n",
       "        vertical-align: top;\n",
       "    }\n",
       "\n",
       "    .dataframe thead th {\n",
       "        text-align: right;\n",
       "    }\n",
       "</style>\n",
       "<table border=\"1\" class=\"dataframe\">\n",
       "  <thead>\n",
       "    <tr style=\"text-align: right;\">\n",
       "      <th></th>\n",
       "      <th>Genre</th>\n",
       "      <th>Age</th>\n",
       "      <th>Annual Income (k$)</th>\n",
       "      <th>Spending Score (1-100)</th>\n",
       "    </tr>\n",
       "  </thead>\n",
       "  <tbody>\n",
       "    <tr>\n",
       "      <th>0</th>\n",
       "      <td>1</td>\n",
       "      <td>19</td>\n",
       "      <td>15</td>\n",
       "      <td>39</td>\n",
       "    </tr>\n",
       "    <tr>\n",
       "      <th>1</th>\n",
       "      <td>1</td>\n",
       "      <td>21</td>\n",
       "      <td>15</td>\n",
       "      <td>81</td>\n",
       "    </tr>\n",
       "    <tr>\n",
       "      <th>2</th>\n",
       "      <td>0</td>\n",
       "      <td>20</td>\n",
       "      <td>16</td>\n",
       "      <td>6</td>\n",
       "    </tr>\n",
       "    <tr>\n",
       "      <th>3</th>\n",
       "      <td>0</td>\n",
       "      <td>23</td>\n",
       "      <td>16</td>\n",
       "      <td>77</td>\n",
       "    </tr>\n",
       "    <tr>\n",
       "      <th>4</th>\n",
       "      <td>0</td>\n",
       "      <td>31</td>\n",
       "      <td>17</td>\n",
       "      <td>40</td>\n",
       "    </tr>\n",
       "  </tbody>\n",
       "</table>\n",
       "</div>"
      ],
      "text/plain": [
       "   Genre  Age  Annual Income (k$)  Spending Score (1-100)\n",
       "0      1   19                  15                      39\n",
       "1      1   21                  15                      81\n",
       "2      0   20                  16                       6\n",
       "3      0   23                  16                      77\n",
       "4      0   31                  17                      40"
      ]
     },
     "execution_count": 14,
     "metadata": {},
     "output_type": "execute_result"
    }
   ],
   "source": [
    "df.head()"
   ]
  },
  {
   "cell_type": "markdown",
   "id": "2aed152d",
   "metadata": {
    "papermill": {
     "duration": 0.016878,
     "end_time": "2024-10-09T17:23:52.252329",
     "exception": false,
     "start_time": "2024-10-09T17:23:52.235451",
     "status": "completed"
    },
    "tags": []
   },
   "source": [
    "# 4. KMeans Clustering"
   ]
  },
  {
   "cell_type": "markdown",
   "id": "e9e202dd",
   "metadata": {
    "papermill": {
     "duration": 0.017061,
     "end_time": "2024-10-09T17:23:52.286679",
     "exception": false,
     "start_time": "2024-10-09T17:23:52.269618",
     "status": "completed"
    },
    "tags": []
   },
   "source": [
    "## 4.1 Determine Number of Clusters"
   ]
  },
  {
   "cell_type": "markdown",
   "id": "b1772266",
   "metadata": {
    "papermill": {
     "duration": 0.017078,
     "end_time": "2024-10-09T17:23:52.321042",
     "exception": false,
     "start_time": "2024-10-09T17:23:52.303964",
     "status": "completed"
    },
    "tags": []
   },
   "source": [
    "### 4.1.1 Pair Plot Visualization"
   ]
  },
  {
   "cell_type": "markdown",
   "id": "b2ab78aa",
   "metadata": {
    "papermill": {
     "duration": 0.017279,
     "end_time": "2024-10-09T17:23:52.355663",
     "exception": false,
     "start_time": "2024-10-09T17:23:52.338384",
     "status": "completed"
    },
    "tags": []
   },
   "source": [
    "At first I'd like to visualize pairs of features to explore their relationships and assess how well they can be separated based on these two features.\n",
    "\n",
    "This analysis will help us understand the underlying patterns in the data and the potential for clustering.\n"
   ]
  },
  {
   "cell_type": "code",
   "execution_count": 15,
   "id": "09d51ffe",
   "metadata": {
    "execution": {
     "iopub.execute_input": "2024-10-09T17:23:52.392427Z",
     "iopub.status.busy": "2024-10-09T17:23:52.391987Z",
     "iopub.status.idle": "2024-10-09T17:23:57.803919Z",
     "shell.execute_reply": "2024-10-09T17:23:57.802705Z"
    },
    "papermill": {
     "duration": 5.434067,
     "end_time": "2024-10-09T17:23:57.807078",
     "exception": false,
     "start_time": "2024-10-09T17:23:52.373011",
     "status": "completed"
    },
    "tags": []
   },
   "outputs": [
    {
     "data": {
      "image/png": "[encoded data removed]",
      "text/plain": [
       "<Figure size 1000x1000 with 20 Axes>"
      ]
     },
     "metadata": {},
     "output_type": "display_data"
    }
   ],
   "source": [
    "sns.pairplot(df);"
   ]
  },
  {
   "cell_type": "markdown",
   "id": "74ec460a",
   "metadata": {
    "papermill": {
     "duration": 0.019113,
     "end_time": "2024-10-09T17:23:57.845853",
     "exception": false,
     "start_time": "2024-10-09T17:23:57.826740",
     "status": "completed"
    },
    "tags": []
   },
   "source": [
    "We can see that there are 5 clusters based on the features : Spending Score (1-100) and Annual Income (k$).\n",
    "\n",
    "But let's also explore how we can determin number of clusters using other methods."
   ]
  },
  {
   "cell_type": "markdown",
   "id": "14a31ab4",
   "metadata": {
    "papermill": {
     "duration": 0.018985,
     "end_time": "2024-10-09T17:23:57.884266",
     "exception": false,
     "start_time": "2024-10-09T17:23:57.865281",
     "status": "completed"
    },
    "tags": []
   },
   "source": [
    "### 4.1.2 Elbow Method"
   ]
  },
  {
   "cell_type": "code",
   "execution_count": 16,
   "id": "0f444780",
   "metadata": {
    "execution": {
     "iopub.execute_input": "2024-10-09T17:23:57.925184Z",
     "iopub.status.busy": "2024-10-09T17:23:57.924724Z",
     "iopub.status.idle": "2024-10-09T17:23:58.177799Z",
     "shell.execute_reply": "2024-10-09T17:23:58.176847Z"
    },
    "papermill": {
     "duration": 0.276551,
     "end_time": "2024-10-09T17:23:58.180556",
     "exception": false,
     "start_time": "2024-10-09T17:23:57.904005",
     "status": "completed"
    },
    "tags": []
   },
   "outputs": [
    {
     "name": "stdout",
     "output_type": "stream",
     "text": [
      "at k = 1, inertia = 308862.06000000006\n",
      "at k = 2, inertia = 212889.44245524297\n",
      "at k = 3, inertia = 143391.59236035676\n",
      "at k = 4, inertia = 104414.67534220166\n",
      "at k = 5, inertia = 75399.61541401483\n",
      "at k = 6, inertia = 58348.641363315044\n",
      "at k = 7, inertia = 51132.7032125769\n",
      "at k = 8, inertia = 44389.807673557676\n",
      "at k = 9, inertia = 40948.792950799194\n"
     ]
    }
   ],
   "source": [
    "k_range = range(1, 10)\n",
    "kmeans_scores = []\n",
    "for k in k_range:\n",
    "    kmeans_model = KMeans(n_clusters=k)\n",
    "    kmeans_model.fit(df)\n",
    "    kmeans_scores.append(kmeans_model.inertia_)\n",
    "    print(f'at k = {k}, inertia = {kmeans_scores[-1]}')\n"
   ]
  },
  {
   "cell_type": "code",
   "execution_count": 17,
   "id": "53338392",
   "metadata": {
    "execution": {
     "iopub.execute_input": "2024-10-09T17:23:58.223508Z",
     "iopub.status.busy": "2024-10-09T17:23:58.223099Z",
     "iopub.status.idle": "2024-10-09T17:23:58.511874Z",
     "shell.execute_reply": "2024-10-09T17:23:58.510575Z"
    },
    "papermill": {
     "duration": 0.312362,
     "end_time": "2024-10-09T17:23:58.514544",
     "exception": false,
     "start_time": "2024-10-09T17:23:58.202182",
     "status": "completed"
    },
    "tags": []
   },
   "outputs": [
    {
     "data": {
      "text/plain": [
       "Text(0.5, 1.0, 'elbow method')"
      ]
     },
     "execution_count": 17,
     "metadata": {},
     "output_type": "execute_result"
    },
    {
     "data": {
      "image/png": "[encoded data removed]",
      "text/plain": [
       "<Figure size 640x480 with 1 Axes>"
      ]
     },
     "metadata": {},
     "output_type": "display_data"
    }
   ],
   "source": [
    "plt.plot(k_range, kmeans_scores, marker='o')\n",
    "plt.xlabel('No of clusters')\n",
    "plt.ylabel('kmeans inertia scores')\n",
    "plt.title('elbow method')"
   ]
  },
  {
   "cell_type": "markdown",
   "id": "af917c83",
   "metadata": {
    "papermill": {
     "duration": 0.020453,
     "end_time": "2024-10-09T17:23:58.555581",
     "exception": false,
     "start_time": "2024-10-09T17:23:58.535128",
     "status": "completed"
    },
    "tags": []
   },
   "source": [
    "### 4.1.3 Sileuotte Score"
   ]
  },
  {
   "cell_type": "code",
   "execution_count": 18,
   "id": "326524bc",
   "metadata": {
    "execution": {
     "iopub.execute_input": "2024-10-09T17:23:58.598338Z",
     "iopub.status.busy": "2024-10-09T17:23:58.597859Z",
     "iopub.status.idle": "2024-10-09T17:23:58.822953Z",
     "shell.execute_reply": "2024-10-09T17:23:58.822014Z"
    },
    "papermill": {
     "duration": 0.250033,
     "end_time": "2024-10-09T17:23:58.826000",
     "exception": false,
     "start_time": "2024-10-09T17:23:58.575967",
     "status": "completed"
    },
    "tags": []
   },
   "outputs": [
    {
     "name": "stdout",
     "output_type": "stream",
     "text": [
      "at k = 2, silhouette score = 0.29307334005502633\n",
      "at k = 3, silhouette score = 0.383798873822341\n",
      "at k = 4, silhouette score = 0.4052954330641215\n",
      "at k = 5, silhouette score = 0.44482259384548795\n",
      "at k = 6, silhouette score = 0.45205475380756527\n",
      "at k = 7, silhouette score = 0.43946743327036053\n",
      "at k = 8, silhouette score = 0.4277721345758326\n",
      "at k = 9, silhouette score = 0.4134123971780628\n"
     ]
    }
   ],
   "source": [
    "k_range = range(2, 10)\n",
    "silhouette_scores = []\n",
    "for k in k_range:\n",
    "    kmeans_model = KMeans(n_clusters=k)\n",
    "    kmeans_model.fit(df)\n",
    "    silhouette_scores.append(silhouette_score(df, kmeans_model.predict(df)))\n",
    "    print(f'at k = {k}, silhouette score = {silhouette_scores[-1]}')\n"
   ]
  },
  {
   "cell_type": "code",
   "execution_count": 19,
   "id": "37498542",
   "metadata": {
    "execution": {
     "iopub.execute_input": "2024-10-09T17:23:58.869407Z",
     "iopub.status.busy": "2024-10-09T17:23:58.868984Z",
     "iopub.status.idle": "2024-10-09T17:23:59.170094Z",
     "shell.execute_reply": "2024-10-09T17:23:59.168673Z"
    },
    "papermill": {
     "duration": 0.325643,
     "end_time": "2024-10-09T17:23:59.172756",
     "exception": false,
     "start_time": "2024-10-09T17:23:58.847113",
     "status": "completed"
    },
    "tags": []
   },
   "outputs": [
    {
     "data": {
      "image/png": "[encoded data removed]",
      "text/plain": [
       "<Figure size 640x480 with 1 Axes>"
      ]
     },
     "metadata": {},
     "output_type": "display_data"
    }
   ],
   "source": [
    "plt.plot(k_range, silhouette_scores)\n",
    "plt.title('silhouette scores');"
   ]
  },
  {
   "cell_type": "markdown",
   "id": "68a1f2b7",
   "metadata": {
    "papermill": {
     "duration": 0.074687,
     "end_time": "2024-10-09T17:23:59.269535",
     "exception": false,
     "start_time": "2024-10-09T17:23:59.194848",
     "status": "completed"
    },
    "tags": []
   },
   "source": [
    "As we can see k with values 4, 5, or 6 may be appropriate so lets visulaize using pca first..\n",
    "\n",
    "at k = 4, silhouette score = 0.4052954330641215\n",
    "\n",
    "at k = 5, silhouette score = 0.43959178858284587\n",
    "\n",
    "at k = 6, silhouette score = 0.45205475380756527"
   ]
  },
  {
   "cell_type": "markdown",
   "id": "513e98d0",
   "metadata": {
    "papermill": {
     "duration": 0.021009,
     "end_time": "2024-10-09T17:23:59.311498",
     "exception": false,
     "start_time": "2024-10-09T17:23:59.290489",
     "status": "completed"
    },
    "tags": []
   },
   "source": [
    "### 4.1.4 Visualization after applying PCA"
   ]
  },
  {
   "cell_type": "code",
   "execution_count": 20,
   "id": "fdcee47c",
   "metadata": {
    "execution": {
     "iopub.execute_input": "2024-10-09T17:23:59.355684Z",
     "iopub.status.busy": "2024-10-09T17:23:59.355230Z",
     "iopub.status.idle": "2024-10-09T17:23:59.379097Z",
     "shell.execute_reply": "2024-10-09T17:23:59.377754Z"
    },
    "papermill": {
     "duration": 0.049149,
     "end_time": "2024-10-09T17:23:59.381760",
     "exception": false,
     "start_time": "2024-10-09T17:23:59.332611",
     "status": "completed"
    },
    "tags": []
   },
   "outputs": [],
   "source": [
    "pca = PCA(n_components=2)\n",
    "df_pca = pca.fit_transform(df)"
   ]
  },
  {
   "cell_type": "code",
   "execution_count": 21,
   "id": "52a1e705",
   "metadata": {
    "execution": {
     "iopub.execute_input": "2024-10-09T17:23:59.425897Z",
     "iopub.status.busy": "2024-10-09T17:23:59.425024Z",
     "iopub.status.idle": "2024-10-09T17:23:59.432321Z",
     "shell.execute_reply": "2024-10-09T17:23:59.431224Z"
    },
    "papermill": {
     "duration": 0.031811,
     "end_time": "2024-10-09T17:23:59.434782",
     "exception": false,
     "start_time": "2024-10-09T17:23:59.402971",
     "status": "completed"
    },
    "tags": []
   },
   "outputs": [
    {
     "data": {
      "text/plain": [
       "(200, 2)"
      ]
     },
     "execution_count": 21,
     "metadata": {},
     "output_type": "execute_result"
    }
   ],
   "source": [
    "df_pca.shape"
   ]
  },
  {
   "cell_type": "code",
   "execution_count": 22,
   "id": "c88f15b2",
   "metadata": {
    "execution": {
     "iopub.execute_input": "2024-10-09T17:23:59.480014Z",
     "iopub.status.busy": "2024-10-09T17:23:59.479203Z",
     "iopub.status.idle": "2024-10-09T17:23:59.721557Z",
     "shell.execute_reply": "2024-10-09T17:23:59.720457Z"
    },
    "papermill": {
     "duration": 0.267377,
     "end_time": "2024-10-09T17:23:59.723992",
     "exception": false,
     "start_time": "2024-10-09T17:23:59.456615",
     "status": "completed"
    },
    "tags": []
   },
   "outputs": [
    {
     "data": {
      "text/plain": [
       "<matplotlib.collections.PathCollection at 0x796b027ac4c0>"
      ]
     },
     "execution_count": 22,
     "metadata": {},
     "output_type": "execute_result"
    },
    {
     "data": {
      "image/png": "[encoded data removed]",
      "text/plain": [
       "<Figure size 640x480 with 1 Axes>"
      ]
     },
     "metadata": {},
     "output_type": "display_data"
    }
   ],
   "source": [
    "plt.scatter(df_pca[:, 0], df_pca[:, 1])"
   ]
  },
  {
   "cell_type": "code",
   "execution_count": 23,
   "id": "cdba09de",
   "metadata": {
    "execution": {
     "iopub.execute_input": "2024-10-09T17:23:59.770037Z",
     "iopub.status.busy": "2024-10-09T17:23:59.768884Z",
     "iopub.status.idle": "2024-10-09T17:24:00.424910Z",
     "shell.execute_reply": "2024-10-09T17:24:00.423321Z"
    },
    "papermill": {
     "duration": 0.681337,
     "end_time": "2024-10-09T17:24:00.427083",
     "exception": true,
     "start_time": "2024-10-09T17:23:59.745746",
     "status": "failed"
    },
    "tags": []
   },
   "outputs": [
    {
     "ename": "NameError",
     "evalue": "name 'df_2d' is not defined",
     "output_type": "error",
     "traceback": [
      "\u001b[0;31m---------------------------------------------------------------------------\u001b[0m",
      "\u001b[0;31mNameError\u001b[0m                                 Traceback (most recent call last)",
      "Cell \u001b[0;32mIn[23], line 2\u001b[0m\n\u001b[1;32m      1\u001b[0m kmeans_after_pca \u001b[38;5;241m=\u001b[39m KMeans(n_clusters\u001b[38;5;241m=\u001b[39m\u001b[38;5;241m5\u001b[39m)\n\u001b[0;32m----> 2\u001b[0m labels \u001b[38;5;241m=\u001b[39m kmeans_after_pca\u001b[38;5;241m.\u001b[39mfit_predict(\u001b[43mdf_2d\u001b[49m)\n",
      "\u001b[0;31mNameError\u001b[0m: name 'df_2d' is not defined"
     ]
    }
   ],
   "source": [
    "kmeans_after_pca = KMeans(n_clusters=5)\n",
    "labels = kmeans_after_pca.fit_predict(df_2d)"
   ]
  },
  {
   "cell_type": "code",
   "execution_count": null,
   "id": "f5e8bb76",
   "metadata": {
    "execution": {
     "iopub.execute_input": "2024-10-09T17:23:19.816620Z",
     "iopub.status.busy": "2024-10-09T17:23:19.815981Z",
     "iopub.status.idle": "2024-10-09T17:23:20.084850Z",
     "shell.execute_reply": "2024-10-09T17:23:20.083770Z",
     "shell.execute_reply.started": "2024-10-09T17:23:19.816567Z"
    },
    "papermill": {
     "duration": null,
     "end_time": null,
     "exception": null,
     "start_time": null,
     "status": "pending"
    },
    "tags": []
   },
   "outputs": [],
   "source": [
    "plt.scatter(df_pca[:, 0], df_pca[:, 1], c=labels)"
   ]
  },
  {
   "cell_type": "markdown",
   "id": "5f18688e",
   "metadata": {
    "papermill": {
     "duration": null,
     "end_time": null,
     "exception": null,
     "start_time": null,
     "status": "pending"
    },
    "tags": []
   },
   "source": [
    "Excellent!"
   ]
  },
  {
   "cell_type": "markdown",
   "id": "78d26b1b",
   "metadata": {
    "papermill": {
     "duration": null,
     "end_time": null,
     "exception": null,
     "start_time": null,
     "status": "pending"
    },
    "tags": []
   },
   "source": [
    "# 4.2 Final Kmeans Model with k = 5"
   ]
  },
  {
   "cell_type": "code",
   "execution_count": null,
   "id": "53a541da",
   "metadata": {
    "execution": {
     "iopub.execute_input": "2024-10-09T17:23:20.086468Z",
     "iopub.status.busy": "2024-10-09T17:23:20.086127Z",
     "iopub.status.idle": "2024-10-09T17:23:20.110202Z",
     "shell.execute_reply": "2024-10-09T17:23:20.108713Z",
     "shell.execute_reply.started": "2024-10-09T17:23:20.086433Z"
    },
    "papermill": {
     "duration": null,
     "end_time": null,
     "exception": null,
     "start_time": null,
     "status": "pending"
    },
    "tags": []
   },
   "outputs": [],
   "source": [
    "kmeans_model = KMeans(n_clusters=5)\n",
    "labels = kmeans_model.fit_predict(df)"
   ]
  },
  {
   "cell_type": "code",
   "execution_count": null,
   "id": "c5af4323",
   "metadata": {
    "execution": {
     "iopub.execute_input": "2024-10-09T17:23:20.112515Z",
     "iopub.status.busy": "2024-10-09T17:23:20.111762Z",
     "iopub.status.idle": "2024-10-09T17:23:20.118576Z",
     "shell.execute_reply": "2024-10-09T17:23:20.117138Z",
     "shell.execute_reply.started": "2024-10-09T17:23:20.112448Z"
    },
    "papermill": {
     "duration": null,
     "end_time": null,
     "exception": null,
     "start_time": null,
     "status": "pending"
    },
    "tags": []
   },
   "outputs": [],
   "source": [
    "df['cluster'] = labels"
   ]
  },
  {
   "cell_type": "code",
   "execution_count": null,
   "id": "6a978154",
   "metadata": {
    "execution": {
     "iopub.execute_input": "2024-10-09T17:23:20.120853Z",
     "iopub.status.busy": "2024-10-09T17:23:20.120450Z",
     "iopub.status.idle": "2024-10-09T17:23:28.119778Z",
     "shell.execute_reply": "2024-10-09T17:23:28.118620Z",
     "shell.execute_reply.started": "2024-10-09T17:23:20.120807Z"
    },
    "papermill": {
     "duration": null,
     "end_time": null,
     "exception": null,
     "start_time": null,
     "status": "pending"
    },
    "tags": []
   },
   "outputs": [],
   "source": [
    "sns.pairplot(df, hue='cluster', palette='Set1')"
   ]
  },
  {
   "cell_type": "code",
   "execution_count": null,
   "id": "ca0a313d",
   "metadata": {
    "execution": {
     "iopub.execute_input": "2024-10-09T17:23:28.126370Z",
     "iopub.status.busy": "2024-10-09T17:23:28.125494Z",
     "iopub.status.idle": "2024-10-09T17:23:28.131526Z",
     "shell.execute_reply": "2024-10-09T17:23:28.130502Z",
     "shell.execute_reply.started": "2024-10-09T17:23:28.126317Z"
    },
    "papermill": {
     "duration": null,
     "end_time": null,
     "exception": null,
     "start_time": null,
     "status": "pending"
    },
    "tags": []
   },
   "outputs": [],
   "source": [
    "from scipy.cluster.hierarchy import dendrogram, linkage\n"
   ]
  },
  {
   "cell_type": "markdown",
   "id": "c6480636",
   "metadata": {
    "papermill": {
     "duration": null,
     "end_time": null,
     "exception": null,
     "start_time": null,
     "status": "pending"
    },
    "tags": []
   },
   "source": [
    "# 5. Hierarchical clustering"
   ]
  },
  {
   "cell_type": "code",
   "execution_count": null,
   "id": "8effa1e9",
   "metadata": {
    "execution": {
     "iopub.execute_input": "2024-10-09T17:23:28.134032Z",
     "iopub.status.busy": "2024-10-09T17:23:28.133267Z",
     "iopub.status.idle": "2024-10-09T17:23:28.152795Z",
     "shell.execute_reply": "2024-10-09T17:23:28.151498Z",
     "shell.execute_reply.started": "2024-10-09T17:23:28.133981Z"
    },
    "papermill": {
     "duration": null,
     "end_time": null,
     "exception": null,
     "start_time": null,
     "status": "pending"
    },
    "tags": []
   },
   "outputs": [],
   "source": [
    "agg_model = AgglomerativeClustering(n_clusters=5, linkage='ward')\n",
    "labels = agg_model.fit_predict(df)\n"
   ]
  },
  {
   "cell_type": "code",
   "execution_count": null,
   "id": "9777258f",
   "metadata": {
    "execution": {
     "iopub.execute_input": "2024-10-09T17:23:28.155766Z",
     "iopub.status.busy": "2024-10-09T17:23:28.154848Z",
     "iopub.status.idle": "2024-10-09T17:23:28.161277Z",
     "shell.execute_reply": "2024-10-09T17:23:28.159988Z",
     "shell.execute_reply.started": "2024-10-09T17:23:28.155715Z"
    },
    "papermill": {
     "duration": null,
     "end_time": null,
     "exception": null,
     "start_time": null,
     "status": "pending"
    },
    "tags": []
   },
   "outputs": [],
   "source": [
    "df['cluster'] = labels"
   ]
  },
  {
   "cell_type": "code",
   "execution_count": null,
   "id": "398ad415",
   "metadata": {
    "execution": {
     "iopub.execute_input": "2024-10-09T17:23:28.163903Z",
     "iopub.status.busy": "2024-10-09T17:23:28.162977Z",
     "iopub.status.idle": "2024-10-09T17:23:28.469806Z",
     "shell.execute_reply": "2024-10-09T17:23:28.468421Z",
     "shell.execute_reply.started": "2024-10-09T17:23:28.163852Z"
    },
    "papermill": {
     "duration": null,
     "end_time": null,
     "exception": null,
     "start_time": null,
     "status": "pending"
    },
    "tags": []
   },
   "outputs": [],
   "source": [
    "plt.scatter(df['Annual Income (k$)'], df['Spending Score (1-100)'], c=labels)"
   ]
  },
  {
   "cell_type": "code",
   "execution_count": null,
   "id": "9ec7f810",
   "metadata": {
    "papermill": {
     "duration": null,
     "end_time": null,
     "exception": null,
     "start_time": null,
     "status": "pending"
    },
    "tags": []
   },
   "outputs": [],
   "source": [
    "# TODO: GMM clustering"
   ]
  }
 ],
 "metadata": {
  "kaggle": {
   "accelerator": "none",
   "dataSources": [
    {
     "datasetId": 177976,
     "sourceId": 401124,
     "sourceType": "datasetVersion"
    }
   ],
   "dockerImageVersionId": 30761,
   "isGpuEnabled": false,
   "isInternetEnabled": true,
   "language": "python",
   "sourceType": "notebook"
  },
  "kernelspec": {
   "display_name": "Python 3",
   "language": "python",
   "name": "python3"
  },
  "language_info": {
   "codemirror_mode": {
    "name": "ipython",
    "version": 3
   },
   "file_extension": ".py",
   "mimetype": "text/x-python",
   "name": "python",
   "nbconvert_exporter": "python",
   "pygments_lexer": "ipython3",
   "version": "3.10.14"
  },
  "papermill": {
   "default_parameters": {},
   "duration": 18.205524,
   "end_time": "2024-10-09T17:24:01.272157",
   "environment_variables": {},
   "exception": true,
   "input_path": "__notebook__.ipynb",
   "output_path": "__notebook__.ipynb",
   "parameters": {},
   "start_time": "2024-10-09T17:23:43.066633",
   "version": "2.6.0"
  }
 },
 "nbformat": 4,
 "nbformat_minor": 5
}
